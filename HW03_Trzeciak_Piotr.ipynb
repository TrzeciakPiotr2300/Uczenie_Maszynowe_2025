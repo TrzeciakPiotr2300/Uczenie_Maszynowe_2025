{
  "nbformat": 4,
  "nbformat_minor": 0,
  "metadata": {
    "colab": {
      "provenance": [],
      "authorship_tag": "ABX9TyOtnvatRLrmicjg5CZV0oNI",
      "include_colab_link": true
    },
    "kernelspec": {
      "name": "python3",
      "display_name": "Python 3"
    },
    "language_info": {
      "name": "python"
    }
  },
  "cells": [
    {
      "cell_type": "markdown",
      "metadata": {
        "id": "view-in-github",
        "colab_type": "text"
      },
      "source": [
        "<a href=\"https://colab.research.google.com/github/TrzeciakPiotr2300/Uczenie_Maszynowe_2025/blob/main/HW03_Trzeciak_Piotr.ipynb\" target=\"_parent\"><img src=\"https://colab.research.google.com/assets/colab-badge.svg\" alt=\"Open In Colab\"/></a>"
      ]
    },
    {
      "cell_type": "markdown",
      "source": [
        "# Homework nr 3\n",
        "\n",
        "1.   What does 'good treshold' actually mean?\n",
        "2.   Calculating optimal treshold with python, using AUC metric.\n"
      ],
      "metadata": {
        "id": "FG6pMkJHOXbV"
      }
    },
    {
      "cell_type": "markdown",
      "source": [
        "# 1. WHat does it mean to have good treshold?\n",
        "\n",
        "Short anwser: Usually when we think about evaluating our model we use on of several metrics like: accuracy, precision, recall, specificity, f1 score. When we think abouth treshold's one may think that we should always aim for best accuracy of the model - the more accurate guesses - the better. But it's frequently not the case and it depends of the context. Let's see 3 examples:\n",
        "\n",
        "1. Patients with cancer.\n",
        "2. Fraud detection.\n",
        "3. Recommendation system (like Allegro) but this time with both: users that want best recomendations AND owners of products who pay for their products to be recommended to users.\n",
        "\n",
        "In first example we focus on patients with cancer. Telling a healthy patient that he's got cancer (false positive) is less harmfull than telling a patient with a cancer that he's healthy. So in this situation we should focus on SPECIFICITY (or PRECISION).\n",
        "\n",
        "In second missdiagnosing could lead to huge finantial loss. We focus on RECALL.\n",
        "\n",
        "In last example we should consider both - pushing 'good' items and those patrons paid us to push. Here we could use $F_{beta}$ score that combines those two needs in specific proportion."
      ],
      "metadata": {
        "id": "aWChhvd_PGoM"
      }
    },
    {
      "cell_type": "markdown",
      "source": [
        "# 2. Calculating optimal treshold with python."
      ],
      "metadata": {
        "id": "9zSZYTozVFkK"
      }
    },
    {
      "cell_type": "code",
      "source": [
        "import pandas as pd\n",
        "import numpy as np\n",
        "import matplotlib.pyplot as plt\n",
        "from sklearn.datasets import load_breast_cancer\n",
        "from sklearn.linear_model import LogisticRegression\n",
        "from sklearn.model_selection import train_test_split\n",
        "from sklearn.metrics import confusion_matrix, roc_auc_score, roc_curve\n",
        "from sklearn.metrics import precision_score\n",
        "\n",
        "# Data\n",
        "X, y = load_breast_cancer(return_X_y=True)\n",
        "X_train, X_test, y_train, y_test = train_test_split(X, y, random_state=42)\n",
        "\n",
        "# Model\n",
        "model = LogisticRegression(max_iter=10000)\n",
        "model.fit(X_train, y_train)\n",
        "\n",
        "# Predict probabilities\n",
        "y_probs = model.predict_proba(X_test)[:, 1]"
      ],
      "metadata": {
        "id": "9cSKdYM2VKay"
      },
      "execution_count": 23,
      "outputs": []
    },
    {
      "cell_type": "code",
      "source": [
        "thresholds = np.arange(0, 1, 0.05)\n",
        "results_s = []\n",
        "results_auc = []\n",
        "\n",
        "for thresh in thresholds:\n",
        "    y_pred = (y_probs >= thresh).astype(int)\n",
        "\n",
        "    # For SPECIFICITY\n",
        "    tn, fp, fn, tp = confusion_matrix(y_test, y_pred).ravel()\n",
        "    tnr = tn / (tn + fp)\n",
        "\n",
        "    # For ROC curves\n",
        "    fpr, tpr, _ = roc_curve(y_test, y_pred)\n",
        "    auc = roc_auc_score(y_test, y_pred)\n",
        "\n",
        "    results_s.append({'threshold': thresh, 'tnr': tnr})\n",
        "    results_auc.append({'threshold': thresh, 'fpr': fpr[1], 'tpr': tpr[1], 'auc': auc})\n",
        "\n",
        "tnr_df = pd.DataFrame(results_s)\n",
        "auc_df = pd.DataFrame(results_auc)"
      ],
      "metadata": {
        "id": "BKtKgjmQaf9H"
      },
      "execution_count": 24,
      "outputs": []
    },
    {
      "cell_type": "code",
      "source": [
        "merged_df = pd.merge(tnr_df, auc_df[['threshold', 'auc']], on='threshold')\n",
        "print(merged_df)"
      ],
      "metadata": {
        "colab": {
          "base_uri": "https://localhost:8080/"
        },
        "id": "G-0hTK44aWZb",
        "outputId": "aaa50ba5-880d-4aad-c8a0-0a139b504791"
      },
      "execution_count": 75,
      "outputs": [
        {
          "output_type": "stream",
          "name": "stdout",
          "text": [
            "    threshold       tnr       auc\n",
            "0        0.00  0.000000  0.500000\n",
            "1        0.05  0.888889  0.944444\n",
            "2        0.10  0.925926  0.951727\n",
            "3        0.15  0.925926  0.951727\n",
            "4        0.20  0.925926  0.951727\n",
            "5        0.25  0.925926  0.951727\n",
            "6        0.30  0.925926  0.951727\n",
            "7        0.35  0.925926  0.951727\n",
            "8        0.40  0.925926  0.951727\n",
            "9        0.45  0.925926  0.951727\n",
            "10       0.50  0.944444  0.960986\n",
            "11       0.55  0.962963  0.970246\n",
            "12       0.60  0.962963  0.970246\n",
            "13       0.65  0.962963  0.970246\n",
            "14       0.70  0.981481  0.973887\n",
            "15       0.75  0.981481  0.973887\n",
            "16       0.80  1.000000  0.977528\n",
            "17       0.85  1.000000  0.966292\n",
            "18       0.90  1.000000  0.938202\n",
            "19       0.95  1.000000  0.910112\n"
          ]
        }
      ]
    },
    {
      "cell_type": "markdown",
      "source": [
        "As we can see, using treshold = 0.5 is NOT the best when we want to have high SPECIFICITY. Here we got 100% TNR when aplying 0.8, but it doesn't need to hold with bigger datasets. The most important case is minimizing the number of ill patients who are told they are healthy!\n",
        "\n",
        "Let's compare AUC metrics with TNR to find and find the optial treshold."
      ],
      "metadata": {
        "id": "SbdeBbyUajwO"
      }
    },
    {
      "cell_type": "code",
      "source": [
        "fig, ax = plt.subplots()\n",
        "ax.plot(merged_df['threshold'], merged_df['tnr'], marker='o')\n",
        "ax.set_xlabel('Threshold')\n",
        "ax.set_ylabel('TNR')\n",
        "plt.show()"
      ],
      "metadata": {
        "colab": {
          "base_uri": "https://localhost:8080/",
          "height": 449
        },
        "id": "K-51JzBnceDu",
        "outputId": "f43e9a83-c962-4220-8357-e3abf625fee1"
      },
      "execution_count": 103,
      "outputs": [
        {
          "output_type": "display_data",
          "data": {
            "text/plain": [
              "<Figure size 640x480 with 1 Axes>"
            ],
            "image/png": "[encoded data removed]"
          },
          "metadata": {}
        }
      ]
    },
    {
      "cell_type": "code",
      "source": [
        "fig, ax = plt.subplots()\n",
        "ax.plot(merged_df['threshold'], merged_df['auc'], marker='o', c='orange')\n",
        "ax.set_xlabel('Threshold')\n",
        "ax.set_ylabel('AUC')\n",
        "plt.show()"
      ],
      "metadata": {
        "colab": {
          "base_uri": "https://localhost:8080/",
          "height": 454
        },
        "id": "jgQJBdvDoUMY",
        "outputId": "3432aecc-2fb5-4a70-9fd6-5bff9e1136c1"
      },
      "execution_count": 105,
      "outputs": [
        {
          "output_type": "display_data",
          "data": {
            "text/plain": [
              "<Figure size 640x480 with 1 Axes>"
            ],
            "image/png": "[encoded data removed]"
          },
          "metadata": {}
        }
      ]
    },
    {
      "cell_type": "code",
      "source": [
        "treshold_fit = auc_df.loc[auc_df['auc'].idxmax(), ['threshold', 'auc']]\n",
        "treshold_fit\n",
        "print(f\"Best threshold for maximising AUC  = {treshold_fit.iloc[0]}\\nThe biggest AUC for this threshold = {round(treshold_fit.iloc[1], 4)}\")"
      ],
      "metadata": {
        "colab": {
          "base_uri": "https://localhost:8080/"
        },
        "id": "-vI9UFlceBZO",
        "outputId": "916d4b90-80f2-4040-90bd-9fbd8b29f7f4"
      },
      "execution_count": 70,
      "outputs": [
        {
          "output_type": "stream",
          "name": "stdout",
          "text": [
            "Best threshold for maximising AUC  = 0.8\n",
            "The biggest AUC for this threshold = 0.9775\n"
          ]
        }
      ]
    },
    {
      "cell_type": "markdown",
      "source": [
        "# Anwser to (2)\n",
        "So via AUC metric - the optimal value of treshold is 0.8. Not the classical 0.5.\n",
        "Note: We should always consider what is our goal and chose these hyper-params accordingly.\n",
        "\n",
        "\n"
      ],
      "metadata": {
        "id": "KP6G8y2shp8_"
      }
    }
  ]
}