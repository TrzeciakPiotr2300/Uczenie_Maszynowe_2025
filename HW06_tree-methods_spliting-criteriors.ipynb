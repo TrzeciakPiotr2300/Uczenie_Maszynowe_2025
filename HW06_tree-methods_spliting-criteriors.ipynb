{
  "cells": [
    {
      "cell_type": "markdown",
      "metadata": {
        "id": "view-in-github",
        "colab_type": "text"
      },
      "source": [
        "<a href=\"https://colab.research.google.com/github/TrzeciakPiotr2300/Uczenie_Maszynowe_2025/blob/main/HW06_tree-methods_spliting-criteriors.ipynb\" target=\"_parent\"><img src=\"https://colab.research.google.com/assets/colab-badge.svg\" alt=\"Open In Colab\"/></a>"
      ]
    },
    {
      "cell_type": "markdown",
      "source": [
        "# **Homework Assignment: Understanding Splitting Criteria in CART for Regression**\n",
        "---------------------\n",
        "\n",
        "In this assignment, you will explore three common formulations of the splitting criterion used in **CART (Classification and Regression Trees)** for **regression problems**:\n",
        "\n",
        "1. **Local RSS Minimization**  \n",
        "2. **RSS Gain Maximization**  \n",
        "3. **Total RSS Minimization**\n",
        "\n",
        "You will investigate whether any of these criteria are equivalent, and you will design an experiment to determine which criterion is actually employed in a standard implementation such as **scikit-learn’s DecisionTreeRegressor**.\n",
        "\n",
        "\n",
        "\n",
        "## **The Problem**\n",
        "\n",
        "Many treatments of CART for regression describe the split selection process in different ways. Below are three frequently cited formulations. Suppose we have a dataset with features $X$ and target $y$, and we seek to choose a feature $X_j$ and a threshold $t$ to split the data into two regions $R_1(X_j, t)$ and $R_2(X_j, t)$. Denote by $\\bar{y}_{R_m}$ the mean of targets within region $R_m$.\n",
        "\n",
        "1. **Local RSS Minimization**  \n",
        "   We select the feature and threshold that minimize the **sum of squared errors** in the two resulting child nodes:\n",
        "   $$\n",
        "   (X_j^*, t^*) = \\arg\\min_{X_j, t} \\sum_{m=1}^{2} \\sum_{i : x_i \\in R_m(X_j, t)} (y_i - \\bar{y}_{R_m})^2.\n",
        "   $$\n",
        "\n",
        "2. **RSS Gain Maximization**  \n",
        "\n",
        "   It is also a local method, looking only at a parent and two child nodes.\n",
        "\n",
        "   We select the feature and threshold that maximize the **reduction** in RSS, computed by subtracting the RSS of the two child nodes from the RSS in the parent node:\n",
        "   $$\n",
        "   (X_j^*, t^*) = \\arg\\max_{X_j, t} \\Bigl\\{\n",
        "   \\underbrace{\\sum_{i : x_i \\in \\text{Parent}} (y_i - \\bar{y})^2}_{\\text{Parent RSS}}\n",
        "   \\;-\\;\n",
        "   \\underbrace{\\sum_{m=1}^{2} \\sum_{i : x_i \\in R_m(X_j, t)} (y_i - \\bar{y}_{R_m})^2}_{\\text{Children RSS}}\n",
        "   \\Bigr\\}.\n",
        "   $$\n",
        "\n",
        "3. **Total RSS Minimization**  \n",
        "   For a dataset $\\{(x_i, y_i)\\}_{i=1}^N$ with features $X$ and target $y$, let $T$ be the current tree.\n",
        "\n",
        "   For any split on feature $X_j$ at threshold $t$, define $T(X_j, t)$ as the new tree obtained by splitting one leaf of $T$ into two leaves $R_1(X_j, t)$ and $R_2(X_j, t)$.\n",
        "   \n",
        "   Let $\\mathrm{Leaves}(T(X_j, t))$ be the set of all leaf indices in this new tree. For each leaf $m \\in \\mathrm{Leaves}(T(X_j, t))$, define:\n",
        "   $$\n",
        "   R_m = \\{\\, i \\,\\mid\\, x_i \\text{ ends in leaf } m\\}.\n",
        "   $$\n",
        "\n",
        "   $R_m$ set collects all data indices $i$ whose feature vector $x_i$ is classified into the leaf node $m$ when passed through the tree $T(X_j,t)$. In other words, each leaf node $m$ in $T(X_j, t)$ corresponds to a unique path of splits, and any data point $x_i$ that follows that path is assigned to the leaf $m$; hence, it belongs to $R_m$.\n",
        "\n",
        "   $R_m$ sets for all leafs $m \\in \\mathrm{Leaves}(T(X_j, t))$ define a partition of all indices.\n",
        "\n",
        "   Then the objective of **minimizing total Residual Sum of Squares (total RSS)** is stated as:\n",
        "   $$\n",
        "   (X_j^*, t^*) = \\arg\\min_{(X_j, t)} \\sum_{m \\in \\mathrm{Leaves}(T(X_j, t))}\n",
        "   \\sum_{i \\in R_m} \\Bigl(y_i - \\overline{y}_{R_m}\\Bigr)^2,\n",
        "   $$\n",
        "   where\n",
        "   $$\n",
        "   \\overline{y}_{R_m} = \\frac{1}{\\lvert R_m \\rvert}\n",
        "   \\sum_{i \\in R_m} y_i\n",
        "   $$\n",
        "   is the mean response in leaf $m$.\n",
        "\n",
        "\n",
        "## **Research Questions**\n",
        "\n",
        "1. **Equivalence Analysis**  \n",
        "   Determine whether the above formulations are equivalent or if they can yield different split choices. Specifically:\n",
        "   - Are *local RSS minimization* and *RSS gain maximization* equivalent?\n",
        "   - Does *total RSS minimization* coincide with either of these two, or is it distinct?\n",
        "   \n",
        "2. **Empirical Experiment**  \n",
        "   Design and conduct a Python experiment to determine which of these formulations is implemented in `scikit-learn` in `DecisionTreeRegressor`. Present numerical results and plots to support your conclusion.\n",
        "\n",
        "\n",
        "## **Tasks & Deliverables**\n",
        "\n",
        "1. **Formulation Analysis**  \n",
        "   - Compare *local RSS minimization*, *RSS gain maximization*, and *total RSS minimization*.\n",
        "   - If you find that any pair of formulations is equivalent, provide a concise proof.  \n",
        "   - If you find that they differ, construct a counterexample.\n",
        "\n",
        "2. **Empirical Verification**  \n",
        "   - Create a small artificial dataset and train a `DecisionTreeRegressor` from `scikit-learn`.\n",
        "   - The dataset must be designed in a way that uniquely identifies the formulation used. Provide a short code snippet and a plot or table to support your conclusion.\n",
        "\n",
        "3. **Report**  \n",
        "   - Summarize your theoretical insights and empirical findings in a **Colab notebook**.\n",
        "   - Include the relevant proofs, code, discussion, and conclusions.\n",
        "   - Place the notebook in your **GitHub repository** for this course, add a link to it in your README.md and add an **“Open in Colab”** badge in the notebook so it can be launched directly.\n",
        "\n"
      ],
      "metadata": {
        "id": "CiiBWLwyz6PI"
      },
      "id": "CiiBWLwyz6PI"
    },
    {
      "cell_type": "markdown",
      "source": [
        "---------------------\n",
        "# **Homework Answers: Understanding Splitting Criteria in CART for Regression**\n",
        "---------------------\n",
        "\n",
        "Recall he have been asked to comment on 3 types of **regression problems**:\n",
        "\n",
        "1. **Local RSS Minimization**  \n",
        "2. **RSS Gain Maximization**  \n",
        "3. **Total RSS Minimization**\n",
        "\n",
        "If we look closely on equations for first two criteriors:\n",
        "\n",
        "1. **Local RSS Minimization**\n",
        "   $$\n",
        "   (X_j^*, t^*) = \\arg\\min_{X_j, t} \\sum_{m=1}^{2} \\sum_{i : x_i \\in R_m(X_j, t)} (y_i - \\bar{y}_{R_m})^2\n",
        "   $$\n",
        "\n",
        "2. **RSS Gain Maximization**  \n",
        "   $$\n",
        "   (X_j^*, t^*) = \\arg\\max_{X_j, t} \\Bigl\\{\n",
        "   \\underbrace{\\sum_{i : x_i \\in \\text{Parent}} (y_i - \\bar{y})^2}_{\\text{Parent RSS}}\n",
        "   \\;-\\;\n",
        "   \\underbrace{\\sum_{m=1}^{2} \\sum_{i : x_i \\in R_m(X_j, t)} (y_i - \\bar{y}_{R_m})^2}_{\\text{Children RSS}}\n",
        "   \\Bigr\\},\n",
        "   $$\n",
        "\n",
        "we can observe they are equivalent. Indeed they are, and the reason is that the first equation satisfys\n",
        "   $$\n",
        "   (X_j^*, t^*) = \\arg\\min_{X_j, t} \\sum_{m=1}^{2} \\sum_{i : x_i \\in R_m(X_j, t)} (y_i - \\bar{y}_{R_m})^2 = \\arg\\max_{X_j, t} \\Bigl\\{-\\sum_{m=1}^{2} \\sum_{i : x_i \\in R_m(X_j, t)} (y_i - \\bar{y}_{R_m})^2\\Bigr\\}.\n",
        "   $$\n",
        "Plus, $\\text{\"Parent RSS\"}$ is independent of $(X_j^*, t^*)$, therefore we get\n",
        "   $$\n",
        "   (X_j^*, t^*) = \\arg\\max_{X_j, t} \\Bigl\\{\n",
        "   {\\sum_{i : x_i \\in \\text{Parent}} (y_i - \\bar{y})^2} -\n",
        "   {\\sum_{m=1}^{2} \\sum_{i : x_i \\in R_m(X_j, t)} (y_i - \\bar{y}_{R_m})^2}\n",
        "   \\Bigr\\},\n",
        "   $$\n",
        "becouse first component doesn't change the maximal argument.\n",
        "\n",
        "------------------------------------\n",
        "# **Result no 1**: Both local criteriors (1 and 2) are equivalent.\n",
        "------------------------------------"
      ],
      "metadata": {
        "id": "7AwDx6A9PfJb"
      },
      "id": "7AwDx6A9PfJb"
    },
    {
      "cell_type": "markdown",
      "source": [
        "Now we check equivalence between *Total RSS* and *Local RSS*. Since *Local* crtiteriors are equivalent, it's sufficient to check one equivalence with *Total*.\n",
        "\n",
        "Let's assume that we had a tree *T* with at least two leaves *A* and *B*. Let's assume that algorithm wants to split *B* wrt. *Total criterior*. It doesn't matter what RSS's have other leaves, becouse for choosing $(X_j^*, t^*)$ matters only *B* and its 2 nodes. So algorithm splits the tree in exactly the same way as *'Local method'* would do.\n",
        "\n",
        "Mathematically we could write it as\n",
        "$$(X_j^*, t^*) = \\arg\\min_{(X_j, t)} \\sum_{m \\in \\mathrm{Leaves}(T(X_j, t))}\n",
        "\\sum_{i \\in R_m} \\left(y_i - \\overline{y}_{R_m}\\right)^2$$\n",
        "\n",
        "$$= \\arg\\min_{(X_j, t)} \\left[\n",
        "\\sum_{m \\in \\{1,2\\}} \\sum_{i \\in R_m} \\left(y_i - \\overline{y}_{R_m}\\right)^2 +\n",
        "\\sum_{m \\in \\mathrm{Leaves}(T(X_j, t)) \\setminus \\{1,2\\}} \\sum_{i \\in R_m} \\left(y_i - \\overline{y}_{R_m}\\right)^2\n",
        "\\right].$$\n",
        "\n",
        "First component is the same as in *'Local RSS Minimization'*, and second is independent of the separation. $\\quad \\blacksquare$\n"
      ],
      "metadata": {
        "id": "OgagzY_d4V5y"
      },
      "id": "OgagzY_d4V5y"
    },
    {
      "cell_type": "markdown",
      "source": [
        "--------------------------------------------------------\n",
        "# **Result no 2**: All criteriors (1,2,3) are equivalent.\n",
        "--------------------------------------------------------"
      ],
      "metadata": {
        "id": "UFRsKNM9_9Sf"
      },
      "id": "UFRsKNM9_9Sf"
    },
    {
      "cell_type": "markdown",
      "source": [
        "# **Secondary Question:**\n",
        "###*Presenting numerical experiment to find out which splitting criterior is used in DecisionTreeRegressor()*\n"
      ],
      "metadata": {
        "id": "VLd2q7KUC6Gf"
      },
      "id": "VLd2q7KUC6Gf"
    },
    {
      "cell_type": "markdown",
      "source": [],
      "metadata": {
        "id": "4iwMNtHbLNBp"
      },
      "id": "4iwMNtHbLNBp"
    },
    {
      "cell_type": "code",
      "source": [
        "import numpy as np\n",
        "from sklearn.tree import DecisionTreeRegressor\n",
        "from sklearn.tree import plot_tree\n",
        "\n",
        "# Create dataset\n",
        "X = np.array([[1], [2], [3], [4]])\n",
        "y = np.array([1, 2, 3, 4])\n",
        "\n",
        "# Train a decision tree with max_depth=1 (stump)\n",
        "tree = DecisionTreeRegressor(max_depth=1)\n",
        "tree.fit(X, y)\n",
        "\n",
        "# Retrieve the split threshold\n",
        "split_threshold = tree.tree_.threshold[0]\n",
        "print(f\"Optimal split threshold: {split_threshold}\")\n",
        "plot_tree(tree, filled=True)\n",
        "plt.show()"
      ],
      "metadata": {
        "id": "1jwlhE_CLNeg",
        "outputId": "f3fed507-b62a-46ea-fa7d-7cd456de937f",
        "colab": {
          "base_uri": "https://localhost:8080/",
          "height": 424
        }
      },
      "id": "1jwlhE_CLNeg",
      "execution_count": 52,
      "outputs": [
        {
          "output_type": "stream",
          "name": "stdout",
          "text": [
            "Optimal split threshold: 2.5\n"
          ]
        },
        {
          "output_type": "display_data",
          "data": {
            "text/plain": [
              "<Figure size 640x480 with 1 Axes>"
            ],
            "image/png": "[encoded data removed]"
          },
          "metadata": {}
        }
      ]
    },
    {
      "cell_type": "markdown",
      "source": [
        "This is equivalent with all the criteriors."
      ],
      "metadata": {
        "id": "fBksdrxsPnAx"
      },
      "id": "fBksdrxsPnAx"
    },
    {
      "cell_type": "code",
      "source": [],
      "metadata": {
        "id": "gmhlqEc1LOOL"
      },
      "id": "gmhlqEc1LOOL",
      "execution_count": null,
      "outputs": []
    }
  ],
  "metadata": {
    "colab": {
      "provenance": [],
      "include_colab_link": true
    },
    "language_info": {
      "name": "python"
    },
    "kernelspec": {
      "name": "python3",
      "display_name": "Python 3"
    }
  },
  "nbformat": 4,
  "nbformat_minor": 5
}