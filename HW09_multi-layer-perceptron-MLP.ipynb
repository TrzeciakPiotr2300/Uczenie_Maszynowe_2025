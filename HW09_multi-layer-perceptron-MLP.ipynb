{
  "cells": [
    {
      "cell_type": "markdown",
      "metadata": {
        "id": "view-in-github",
        "colab_type": "text"
      },
      "source": [
        "<a href=\"https://colab.research.google.com/github/TrzeciakPiotr2300/Uczenie_Maszynowe_2025/blob/main/HW09_multi-layer-perceptron-MLP.ipynb\" target=\"_parent\"><img src=\"https://colab.research.google.com/assets/colab-badge.svg\" alt=\"Open In Colab\"/></a>"
      ]
    },
    {
      "cell_type": "markdown",
      "source": [
        "\n",
        "\n",
        "# Multi Layer Perceptron Notation\n",
        "---------------------------------\n",
        "\n",
        "In this workshop we will be classifying 28 by 28 images into 10 classes. Thus, a four layer perceptron (our classificator) we will work further with can be defined as\n",
        "$\\hat f:\\mathbb{R}^{28\\cdot 28} \\rightarrow \\mathbb{R}^{10}$ defined as\n",
        "\n",
        "$$\\hat f \\left(x; W_1, W_2, W_3, W_4, b_1, b_2, b_3, b_4 \\right) =  W_4 \\left[ W_3 \\left[ W_2 \\left[ W_1 x  + b_1 \\right]_+  + b_2 \\right]_+  + b_3 \\right]_+ + b_4,$$\n",
        "\n",
        "where matrices $W_1, \\ldots, W_4$ are tensors of order two (matrices) with matching dimensions and bias terms $b_1, \\ldots, b_4$ are tensors of order one (vectors) of matching dimensions, and we are using ReLU activation.\n",
        "\n",
        "Note, that there is no nonlinear activation after the last layer in our neural network. **There is an implicit softmax applied while cross entropy loss is calculated by `torch.nn.functional`.**\n"
      ],
      "metadata": {
        "id": "wqJVU0gp9rws"
      },
      "id": "wqJVU0gp9rws"
    },
    {
      "cell_type": "markdown",
      "source": [
        "# Reading MNIST Dataset to Play with It\n",
        "--------------------"
      ],
      "metadata": {
        "id": "s6RwV0RN_Kc9"
      },
      "id": "s6RwV0RN_Kc9"
    },
    {
      "cell_type": "code",
      "source": [
        "import torch\n",
        "import torchvision\n",
        "from matplotlib import pyplot\n",
        "\n",
        "trainset = torchvision.datasets.MNIST(root='./data',\n",
        "                                      train=True,\n",
        "                                      download=True,\n",
        "                                      transform=None)"
      ],
      "metadata": {
        "id": "vjAlmExA_Twh",
        "outputId": "74626c29-1879-44db-b3a3-a5604bf133b4",
        "colab": {
          "base_uri": "https://localhost:8080/"
        }
      },
      "id": "vjAlmExA_Twh",
      "execution_count": 1,
      "outputs": [
        {
          "output_type": "stream",
          "name": "stderr",
          "text": [
            "100%|██████████| 9.91M/9.91M [00:00<00:00, 15.1MB/s]\n",
            "100%|██████████| 28.9k/28.9k [00:00<00:00, 404kB/s]\n",
            "100%|██████████| 1.65M/1.65M [00:00<00:00, 3.76MB/s]\n",
            "100%|██████████| 4.54k/4.54k [00:00<00:00, 7.67MB/s]\n"
          ]
        }
      ]
    },
    {
      "cell_type": "code",
      "source": [
        "train_image, train_target = trainset[0]    #let us examine the 0-th sample\n",
        "pyplot.imshow(train_image)\n",
        "pyplot.show()"
      ],
      "metadata": {
        "id": "gcgep60g_Xs6",
        "outputId": "2ea45ec3-3475-451e-9c1e-67a1283832aa",
        "colab": {
          "base_uri": "https://localhost:8080/",
          "height": 430
        }
      },
      "id": "gcgep60g_Xs6",
      "execution_count": 2,
      "outputs": [
        {
          "output_type": "display_data",
          "data": {
            "text/plain": [
              "<Figure size 640x480 with 1 Axes>"
            ],
            "image/png": "[encoded data removed]"
          },
          "metadata": {}
        }
      ]
    },
    {
      "cell_type": "code",
      "source": [
        "(trainset.data.numpy().mean()/255.0, trainset.data.numpy().std()/255.0)   #MNIST datapoints are RGB integers 0-255"
      ],
      "metadata": {
        "id": "Ar2Rzq7UAcjC",
        "outputId": "3511098a-f3a3-4b15-f815-c68e3e0d6525",
        "colab": {
          "base_uri": "https://localhost:8080/"
        }
      },
      "id": "Ar2Rzq7UAcjC",
      "execution_count": 3,
      "outputs": [
        {
          "output_type": "execute_result",
          "data": {
            "text/plain": [
              "(np.float64(0.1306604762738429), np.float64(0.30810780385646264))"
            ]
          },
          "metadata": {},
          "execution_count": 3
        }
      ]
    },
    {
      "cell_type": "markdown",
      "source": [
        "# Task\n",
        "---------------\n",
        "\n",
        "Why do we need to normalize the data, and not feed the NN with the 0-255 integers?"
      ],
      "metadata": {
        "id": "-waIu3OQXGx0"
      },
      "id": "-waIu3OQXGx0"
    },
    {
      "cell_type": "code",
      "source": [
        "transform = torchvision.transforms.Compose(\n",
        "    [ torchvision.transforms.ToTensor(), #Converts a PIL Image or numpy.ndarray (H x W x C) in the range [0, 255] to a torch.FloatTensor of shape (C x H x W) in the range [0.0, 1.0]\n",
        "      torchvision.transforms.Normalize((0.1307), (0.3081))])\n",
        "\n",
        "trainset = torchvision.datasets.MNIST(root='./data',\n",
        "                                      train=True,\n",
        "                                      download=True,\n",
        "                                      transform=transform)\n",
        "\n",
        "trainloader = torch.utils.data.DataLoader(trainset,\n",
        "                                          batch_size=2048,\n",
        "                                          shuffle=True)   #we do shuffle it to give more randomizations to training epochs\n",
        "\n",
        "testset = torchvision.datasets.MNIST(root='./data',\n",
        "                                     train=False,\n",
        "                                     download=True,\n",
        "                                     transform=transform)\n",
        "\n",
        "testloader = torch.utils.data.DataLoader(testset,\n",
        "                                         batch_size=1,\n",
        "                                         shuffle=False)"
      ],
      "metadata": {
        "id": "01dayZiEAk3C"
      },
      "id": "01dayZiEAk3C",
      "execution_count": 4,
      "outputs": []
    },
    {
      "cell_type": "markdown",
      "source": [
        "## Visualizing Data\n"
      ],
      "metadata": {
        "id": "dfqt0kUECnZB"
      },
      "id": "dfqt0kUECnZB"
    },
    {
      "cell_type": "markdown",
      "source": [
        "### Labels (Ground Truth Outputs)"
      ],
      "metadata": {
        "id": "fxGIwBKGCtFa"
      },
      "id": "fxGIwBKGCtFa"
    },
    {
      "cell_type": "code",
      "source": [
        "for i, data in enumerate(trainloader):\n",
        "        batch_inputs, batch_labels = data\n",
        "\n",
        "        if i<5:\n",
        "            print(i, \"-th batch labels :\", batch_labels)"
      ],
      "metadata": {
        "id": "bzu3lJ2lCwFq",
        "outputId": "59863a5a-3cf2-4049-f2a2-5dfa443b5376",
        "colab": {
          "base_uri": "https://localhost:8080/"
        }
      },
      "id": "bzu3lJ2lCwFq",
      "execution_count": 5,
      "outputs": [
        {
          "output_type": "stream",
          "name": "stdout",
          "text": [
            "0 -th batch labels : tensor([9, 8, 6,  ..., 0, 3, 5])\n",
            "1 -th batch labels : tensor([4, 0, 0,  ..., 7, 2, 1])\n",
            "2 -th batch labels : tensor([1, 7, 2,  ..., 2, 8, 2])\n",
            "3 -th batch labels : tensor([7, 5, 9,  ..., 7, 2, 0])\n",
            "4 -th batch labels : tensor([5, 9, 8,  ..., 6, 8, 9])\n"
          ]
        }
      ]
    },
    {
      "cell_type": "markdown",
      "source": [
        "A single label is an entity of order zero (a constant), but batched labels are of order one. The first (and only) index is a sample index within a batch."
      ],
      "metadata": {
        "id": "PebIPPfpC05T"
      },
      "id": "PebIPPfpC05T"
    },
    {
      "cell_type": "markdown",
      "source": [
        "### Inputs"
      ],
      "metadata": {
        "id": "NLmKJ1FbC2qJ"
      },
      "id": "NLmKJ1FbC2qJ"
    },
    {
      "cell_type": "code",
      "source": [
        "for i, data in enumerate(trainloader):\n",
        "        batch_inputs, batch_labels = data\n",
        "\n",
        "        if i==0:\n",
        "            print(i, \"-th batch inputs :\", batch_inputs)"
      ],
      "metadata": {
        "id": "2jcRrNw_DQui",
        "outputId": "036d98a3-37bb-4866-90be-fecc418afc20",
        "colab": {
          "base_uri": "https://localhost:8080/"
        }
      },
      "id": "2jcRrNw_DQui",
      "execution_count": 6,
      "outputs": [
        {
          "output_type": "stream",
          "name": "stdout",
          "text": [
            "0 -th batch inputs : tensor([[[[-0.4242, -0.4242, -0.4242,  ..., -0.4242, -0.4242, -0.4242],\n",
            "          [-0.4242, -0.4242, -0.4242,  ..., -0.4242, -0.4242, -0.4242],\n",
            "          [-0.4242, -0.4242, -0.4242,  ..., -0.4242, -0.4242, -0.4242],\n",
            "          ...,\n",
            "          [-0.4242, -0.4242, -0.4242,  ..., -0.4242, -0.4242, -0.4242],\n",
            "          [-0.4242, -0.4242, -0.4242,  ..., -0.4242, -0.4242, -0.4242],\n",
            "          [-0.4242, -0.4242, -0.4242,  ..., -0.4242, -0.4242, -0.4242]]],\n",
            "\n",
            "\n",
            "        [[[-0.4242, -0.4242, -0.4242,  ..., -0.4242, -0.4242, -0.4242],\n",
            "          [-0.4242, -0.4242, -0.4242,  ..., -0.4242, -0.4242, -0.4242],\n",
            "          [-0.4242, -0.4242, -0.4242,  ..., -0.4242, -0.4242, -0.4242],\n",
            "          ...,\n",
            "          [-0.4242, -0.4242, -0.4242,  ..., -0.4242, -0.4242, -0.4242],\n",
            "          [-0.4242, -0.4242, -0.4242,  ..., -0.4242, -0.4242, -0.4242],\n",
            "          [-0.4242, -0.4242, -0.4242,  ..., -0.4242, -0.4242, -0.4242]]],\n",
            "\n",
            "\n",
            "        [[[-0.4242, -0.4242, -0.4242,  ..., -0.4242, -0.4242, -0.4242],\n",
            "          [-0.4242, -0.4242, -0.4242,  ..., -0.4242, -0.4242, -0.4242],\n",
            "          [-0.4242, -0.4242, -0.4242,  ..., -0.4242, -0.4242, -0.4242],\n",
            "          ...,\n",
            "          [-0.4242, -0.4242, -0.4242,  ..., -0.4242, -0.4242, -0.4242],\n",
            "          [-0.4242, -0.4242, -0.4242,  ..., -0.4242, -0.4242, -0.4242],\n",
            "          [-0.4242, -0.4242, -0.4242,  ..., -0.4242, -0.4242, -0.4242]]],\n",
            "\n",
            "\n",
            "        ...,\n",
            "\n",
            "\n",
            "        [[[-0.4242, -0.4242, -0.4242,  ..., -0.4242, -0.4242, -0.4242],\n",
            "          [-0.4242, -0.4242, -0.4242,  ..., -0.4242, -0.4242, -0.4242],\n",
            "          [-0.4242, -0.4242, -0.4242,  ..., -0.4242, -0.4242, -0.4242],\n",
            "          ...,\n",
            "          [-0.4242, -0.4242, -0.4242,  ..., -0.4242, -0.4242, -0.4242],\n",
            "          [-0.4242, -0.4242, -0.4242,  ..., -0.4242, -0.4242, -0.4242],\n",
            "          [-0.4242, -0.4242, -0.4242,  ..., -0.4242, -0.4242, -0.4242]]],\n",
            "\n",
            "\n",
            "        [[[-0.4242, -0.4242, -0.4242,  ..., -0.4242, -0.4242, -0.4242],\n",
            "          [-0.4242, -0.4242, -0.4242,  ..., -0.4242, -0.4242, -0.4242],\n",
            "          [-0.4242, -0.4242, -0.4242,  ..., -0.4242, -0.4242, -0.4242],\n",
            "          ...,\n",
            "          [-0.4242, -0.4242, -0.4242,  ..., -0.4242, -0.4242, -0.4242],\n",
            "          [-0.4242, -0.4242, -0.4242,  ..., -0.4242, -0.4242, -0.4242],\n",
            "          [-0.4242, -0.4242, -0.4242,  ..., -0.4242, -0.4242, -0.4242]]],\n",
            "\n",
            "\n",
            "        [[[-0.4242, -0.4242, -0.4242,  ..., -0.4242, -0.4242, -0.4242],\n",
            "          [-0.4242, -0.4242, -0.4242,  ..., -0.4242, -0.4242, -0.4242],\n",
            "          [-0.4242, -0.4242, -0.4242,  ..., -0.4242, -0.4242, -0.4242],\n",
            "          ...,\n",
            "          [-0.4242, -0.4242, -0.4242,  ..., -0.4242, -0.4242, -0.4242],\n",
            "          [-0.4242, -0.4242, -0.4242,  ..., -0.4242, -0.4242, -0.4242],\n",
            "          [-0.4242, -0.4242, -0.4242,  ..., -0.4242, -0.4242, -0.4242]]]])\n"
          ]
        }
      ]
    },
    {
      "cell_type": "markdown",
      "source": [
        "OK, so each data image was initially a two dimensional image when we first saw it, but now the batches have order 4. The first index is a sample index within a batch, but a second index is always 0. This index represents a Channel number inserted here by `ToTensor()` transformation, always 0. As this order is one-dimensional, we can get rid of it, later, in training, in `Flatten` layer or by using `squeeze()` on a tensor."
      ],
      "metadata": {
        "id": "YTcC3qH2DZOK"
      },
      "id": "YTcC3qH2DZOK"
    },
    {
      "cell_type": "markdown",
      "source": [
        "# MLP Definition\n",
        "-----------------\n",
        "\n",
        "Your job now is to take the (fully functional) definition of the MLP structure and get rid off the Sequential layer.\n"
      ],
      "metadata": {
        "id": "ZX09I7rUDkei"
      },
      "id": "ZX09I7rUDkei"
    },
    {
      "cell_type": "code",
      "source": [
        "import torch\n",
        "import torch.nn as nn\n",
        "\n",
        "class MLP(nn.Module):\n",
        "    def __init__(self):\n",
        "        super().__init__()\n",
        "        self.flatten = nn.Flatten()\n",
        "        self.fc1 = nn.Linear(1 * 28 * 28, 1024)\n",
        "        self.relu1 = nn.ReLU()\n",
        "        self.fc2 = nn.Linear(1024, 2048)\n",
        "        self.relu2 = nn.ReLU()\n",
        "        self.fc3 = nn.Linear(2048, 256)\n",
        "        self.relu3 = nn.ReLU()\n",
        "        self.fc4 = nn.Linear(256, 10)\n",
        "        self.dropout = nn.Dropout(0.05)\n",
        "\n",
        "    def forward(self, x):\n",
        "        x = self.flatten(x)\n",
        "        x = self.fc1(x)\n",
        "        x = self.relu1(x)\n",
        "        x = self.fc2(x)\n",
        "        x = self.relu2(x)\n",
        "        x = self.fc3(x)\n",
        "        x = self.relu3(x)\n",
        "        x = self.fc4(x)\n",
        "        x = self.dropout(x)\n",
        "        return x\n",
        "\n"
      ],
      "metadata": {
        "id": "TSoP6W2UECwb"
      },
      "id": "TSoP6W2UECwb",
      "execution_count": 7,
      "outputs": []
    },
    {
      "cell_type": "markdown",
      "source": [
        "# Training Loop\n",
        "----------------------"
      ],
      "metadata": {
        "id": "fE5rN8UTFFw7"
      },
      "id": "fE5rN8UTFFw7"
    },
    {
      "cell_type": "code",
      "source": [
        "# Check if GPU is available\n",
        "device = torch.device(\"cuda\" if torch.cuda.is_available() else \"cpu\")\n",
        "print(f\"Working on {device}\")\n",
        "\n",
        "net = MLP().to(device)\n",
        "optimizer = torch.optim.Adam(net.parameters(), 0.001)   #initial and fixed learning rate of 0.001.\n",
        "\n",
        "net.train()    #it notifies the network layers (especially batchnorm or dropout layers, which we don't use in this example) that we are doing traning\n",
        "for epoch in range(8):  #  an epoch is a training run through the whole data set\n",
        "\n",
        "    for batch, data in enumerate(trainloader):\n",
        "        batch_inputs, batch_labels = data\n",
        "\n",
        "        batch_inputs = batch_inputs.to(device)  #explicitly moving the data to the target device\n",
        "        batch_labels = batch_labels.to(device)\n",
        "\n",
        "        #batch_inputs.squeeze(1)     #alternatively if not for a Flatten layer, squeeze() could be used to remove the second order of the tensor, the Channel, which is one-dimensional (this index can be equal to 0 only)\n",
        "\n",
        "        optimizer.zero_grad()\n",
        "\n",
        "        batch_outputs = net(batch_inputs)   #this line calls the forward(self, x) method of the MLP object. Please note, that the last layer of the MLP is linear\n",
        "                                            #and MLP doesn't apply\n",
        "                                            #the nonlinear activation after the last layer\n",
        "        loss = torch.nn.functional.cross_entropy(batch_outputs, batch_labels, reduction = \"mean\") #instead, nonlinear softmax is applied internally in THIS loss function\n",
        "        print(\"epoch:\", epoch, \"batch:\", batch, \"current batch loss:\", loss.item())\n",
        "        loss.backward()       #this computes gradients as we have seen in previous workshops\n",
        "        optimizer.step()     #but this line in fact updates our neural network.\n",
        "                                ####You can experiment - comment this line and check, that the loss DOE"
      ],
      "metadata": {
        "id": "55Sda8Y5FIOh",
        "outputId": "f49c21f5-df03-4dd3-fb3e-e41a2c33b6c8",
        "colab": {
          "base_uri": "https://localhost:8080/"
        }
      },
      "id": "55Sda8Y5FIOh",
      "execution_count": 16,
      "outputs": [
        {
          "output_type": "stream",
          "name": "stdout",
          "text": [
            "Working on cuda\n",
            "epoch: 0 batch: 0 current batch loss: 2.302236557006836\n",
            "epoch: 0 batch: 1 current batch loss: 2.0575757026672363\n",
            "epoch: 0 batch: 2 current batch loss: 1.5691461563110352\n",
            "epoch: 0 batch: 3 current batch loss: 1.0305578708648682\n",
            "epoch: 0 batch: 4 current batch loss: 1.2953327894210815\n",
            "epoch: 0 batch: 5 current batch loss: 1.1200284957885742\n",
            "epoch: 0 batch: 6 current batch loss: 1.377210021018982\n",
            "epoch: 0 batch: 7 current batch loss: 0.8051676154136658\n",
            "epoch: 0 batch: 8 current batch loss: 0.6943321228027344\n",
            "epoch: 0 batch: 9 current batch loss: 0.872115969657898\n",
            "epoch: 0 batch: 10 current batch loss: 0.6682407855987549\n",
            "epoch: 0 batch: 11 current batch loss: 0.6185838580131531\n",
            "epoch: 0 batch: 12 current batch loss: 0.5773234963417053\n",
            "epoch: 0 batch: 13 current batch loss: 0.5777216553688049\n",
            "epoch: 0 batch: 14 current batch loss: 0.5482151508331299\n",
            "epoch: 0 batch: 15 current batch loss: 0.5733544230461121\n",
            "epoch: 0 batch: 16 current batch loss: 0.4862918555736542\n",
            "epoch: 0 batch: 17 current batch loss: 0.4624645411968231\n",
            "epoch: 0 batch: 18 current batch loss: 0.4519808888435364\n",
            "epoch: 0 batch: 19 current batch loss: 0.37873658537864685\n",
            "epoch: 0 batch: 20 current batch loss: 0.3852587938308716\n",
            "epoch: 0 batch: 21 current batch loss: 0.38605862855911255\n",
            "epoch: 0 batch: 22 current batch loss: 0.3554679751396179\n",
            "epoch: 0 batch: 23 current batch loss: 0.36645805835723877\n",
            "epoch: 0 batch: 24 current batch loss: 0.3281234800815582\n",
            "epoch: 0 batch: 25 current batch loss: 0.31787747144699097\n",
            "epoch: 0 batch: 26 current batch loss: 0.3179667294025421\n",
            "epoch: 0 batch: 27 current batch loss: 0.3093518614768982\n",
            "epoch: 0 batch: 28 current batch loss: 0.3251524269580841\n",
            "epoch: 0 batch: 29 current batch loss: 0.32433947920799255\n",
            "epoch: 1 batch: 0 current batch loss: 0.3060474097728729\n",
            "epoch: 1 batch: 1 current batch loss: 0.25810784101486206\n",
            "epoch: 1 batch: 2 current batch loss: 0.2735323905944824\n",
            "epoch: 1 batch: 3 current batch loss: 0.26639217138290405\n",
            "epoch: 1 batch: 4 current batch loss: 0.255117803812027\n",
            "epoch: 1 batch: 5 current batch loss: 0.23989558219909668\n",
            "epoch: 1 batch: 6 current batch loss: 0.24324333667755127\n",
            "epoch: 1 batch: 7 current batch loss: 0.24795207381248474\n",
            "epoch: 1 batch: 8 current batch loss: 0.23165318369865417\n",
            "epoch: 1 batch: 9 current batch loss: 0.21639735996723175\n",
            "epoch: 1 batch: 10 current batch loss: 0.2324391007423401\n",
            "epoch: 1 batch: 11 current batch loss: 0.2193666249513626\n",
            "epoch: 1 batch: 12 current batch loss: 0.19735509157180786\n",
            "epoch: 1 batch: 13 current batch loss: 0.20894846320152283\n",
            "epoch: 1 batch: 14 current batch loss: 0.1986924111843109\n",
            "epoch: 1 batch: 15 current batch loss: 0.19026461243629456\n",
            "epoch: 1 batch: 16 current batch loss: 0.21089284121990204\n",
            "epoch: 1 batch: 17 current batch loss: 0.17900756001472473\n",
            "epoch: 1 batch: 18 current batch loss: 0.19156092405319214\n",
            "epoch: 1 batch: 19 current batch loss: 0.18321265280246735\n",
            "epoch: 1 batch: 20 current batch loss: 0.20070809125900269\n",
            "epoch: 1 batch: 21 current batch loss: 0.16900886595249176\n",
            "epoch: 1 batch: 22 current batch loss: 0.19058875739574432\n",
            "epoch: 1 batch: 23 current batch loss: 0.17859503626823425\n",
            "epoch: 1 batch: 24 current batch loss: 0.16273915767669678\n",
            "epoch: 1 batch: 25 current batch loss: 0.17092251777648926\n",
            "epoch: 1 batch: 26 current batch loss: 0.1461554914712906\n",
            "epoch: 1 batch: 27 current batch loss: 0.18307845294475555\n",
            "epoch: 1 batch: 28 current batch loss: 0.146245539188385\n",
            "epoch: 1 batch: 29 current batch loss: 0.18915972113609314\n",
            "epoch: 2 batch: 0 current batch loss: 0.15845152735710144\n",
            "epoch: 2 batch: 1 current batch loss: 0.13936391472816467\n",
            "epoch: 2 batch: 2 current batch loss: 0.13600248098373413\n",
            "epoch: 2 batch: 3 current batch loss: 0.14882244169712067\n",
            "epoch: 2 batch: 4 current batch loss: 0.14946700632572174\n",
            "epoch: 2 batch: 5 current batch loss: 0.13563241064548492\n",
            "epoch: 2 batch: 6 current batch loss: 0.16375122964382172\n",
            "epoch: 2 batch: 7 current batch loss: 0.14252562820911407\n",
            "epoch: 2 batch: 8 current batch loss: 0.14683787524700165\n",
            "epoch: 2 batch: 9 current batch loss: 0.12257670611143112\n",
            "epoch: 2 batch: 10 current batch loss: 0.12395600974559784\n",
            "epoch: 2 batch: 11 current batch loss: 0.12282183021306992\n",
            "epoch: 2 batch: 12 current batch loss: 0.12954920530319214\n",
            "epoch: 2 batch: 13 current batch loss: 0.12257693707942963\n",
            "epoch: 2 batch: 14 current batch loss: 0.1260347068309784\n",
            "epoch: 2 batch: 15 current batch loss: 0.15466295182704926\n",
            "epoch: 2 batch: 16 current batch loss: 0.11779992282390594\n",
            "epoch: 2 batch: 17 current batch loss: 0.11816688627004623\n",
            "epoch: 2 batch: 18 current batch loss: 0.12936680018901825\n",
            "epoch: 2 batch: 19 current batch loss: 0.0981520414352417\n",
            "epoch: 2 batch: 20 current batch loss: 0.137163907289505\n",
            "epoch: 2 batch: 21 current batch loss: 0.10523919761180878\n",
            "epoch: 2 batch: 22 current batch loss: 0.12223605811595917\n",
            "epoch: 2 batch: 23 current batch loss: 0.16330839693546295\n",
            "epoch: 2 batch: 24 current batch loss: 0.10964150726795197\n",
            "epoch: 2 batch: 25 current batch loss: 0.12224071472883224\n",
            "epoch: 2 batch: 26 current batch loss: 0.11761748045682907\n",
            "epoch: 2 batch: 27 current batch loss: 0.12210871279239655\n",
            "epoch: 2 batch: 28 current batch loss: 0.11353036761283875\n",
            "epoch: 2 batch: 29 current batch loss: 0.11816921085119247\n",
            "epoch: 3 batch: 0 current batch loss: 0.10395029932260513\n",
            "epoch: 3 batch: 1 current batch loss: 0.10948799550533295\n",
            "epoch: 3 batch: 2 current batch loss: 0.11916165798902512\n",
            "epoch: 3 batch: 3 current batch loss: 0.10528980940580368\n",
            "epoch: 3 batch: 4 current batch loss: 0.10291487723588943\n",
            "epoch: 3 batch: 5 current batch loss: 0.1267945021390915\n",
            "epoch: 3 batch: 6 current batch loss: 0.09607972204685211\n",
            "epoch: 3 batch: 7 current batch loss: 0.10928935557603836\n",
            "epoch: 3 batch: 8 current batch loss: 0.10274507850408554\n",
            "epoch: 3 batch: 9 current batch loss: 0.07807233184576035\n",
            "epoch: 3 batch: 10 current batch loss: 0.0916077196598053\n",
            "epoch: 3 batch: 11 current batch loss: 0.09015730768442154\n",
            "epoch: 3 batch: 12 current batch loss: 0.09281734377145767\n",
            "epoch: 3 batch: 13 current batch loss: 0.08316086232662201\n",
            "epoch: 3 batch: 14 current batch loss: 0.09268945455551147\n",
            "epoch: 3 batch: 15 current batch loss: 0.09204749763011932\n",
            "epoch: 3 batch: 16 current batch loss: 0.09694977849721909\n",
            "epoch: 3 batch: 17 current batch loss: 0.08908122777938843\n",
            "epoch: 3 batch: 18 current batch loss: 0.09224320203065872\n",
            "epoch: 3 batch: 19 current batch loss: 0.08451730757951736\n",
            "epoch: 3 batch: 20 current batch loss: 0.08930271118879318\n",
            "epoch: 3 batch: 21 current batch loss: 0.10447189956903458\n",
            "epoch: 3 batch: 22 current batch loss: 0.09587547183036804\n",
            "epoch: 3 batch: 23 current batch loss: 0.09924107044935226\n",
            "epoch: 3 batch: 24 current batch loss: 0.09194473922252655\n",
            "epoch: 3 batch: 25 current batch loss: 0.07873455435037613\n",
            "epoch: 3 batch: 26 current batch loss: 0.08755946159362793\n",
            "epoch: 3 batch: 27 current batch loss: 0.10587270557880402\n",
            "epoch: 3 batch: 28 current batch loss: 0.08800062537193298\n",
            "epoch: 3 batch: 29 current batch loss: 0.09128221869468689\n",
            "epoch: 4 batch: 0 current batch loss: 0.06069522723555565\n",
            "epoch: 4 batch: 1 current batch loss: 0.07729009538888931\n",
            "epoch: 4 batch: 2 current batch loss: 0.08976387977600098\n",
            "epoch: 4 batch: 3 current batch loss: 0.07231621444225311\n",
            "epoch: 4 batch: 4 current batch loss: 0.06874458491802216\n",
            "epoch: 4 batch: 5 current batch loss: 0.06857984513044357\n",
            "epoch: 4 batch: 6 current batch loss: 0.07521633058786392\n",
            "epoch: 4 batch: 7 current batch loss: 0.07074330747127533\n",
            "epoch: 4 batch: 8 current batch loss: 0.06692171096801758\n",
            "epoch: 4 batch: 9 current batch loss: 0.06713981926441193\n",
            "epoch: 4 batch: 10 current batch loss: 0.06942751258611679\n",
            "epoch: 4 batch: 11 current batch loss: 0.08316685259342194\n",
            "epoch: 4 batch: 12 current batch loss: 0.07899466156959534\n",
            "epoch: 4 batch: 13 current batch loss: 0.07551329582929611\n",
            "epoch: 4 batch: 14 current batch loss: 0.06933130323886871\n",
            "epoch: 4 batch: 15 current batch loss: 0.08117423206567764\n",
            "epoch: 4 batch: 16 current batch loss: 0.07754752039909363\n",
            "epoch: 4 batch: 17 current batch loss: 0.061112649738788605\n",
            "epoch: 4 batch: 18 current batch loss: 0.06647727638483047\n",
            "epoch: 4 batch: 19 current batch loss: 0.08722846955060959\n",
            "epoch: 4 batch: 20 current batch loss: 0.06763825565576553\n",
            "epoch: 4 batch: 21 current batch loss: 0.07978226244449615\n",
            "epoch: 4 batch: 22 current batch loss: 0.06901407986879349\n",
            "epoch: 4 batch: 23 current batch loss: 0.052305668592453\n",
            "epoch: 4 batch: 24 current batch loss: 0.06469438225030899\n",
            "epoch: 4 batch: 25 current batch loss: 0.06315499544143677\n",
            "epoch: 4 batch: 26 current batch loss: 0.07211241871118546\n",
            "epoch: 4 batch: 27 current batch loss: 0.08741593360900879\n",
            "epoch: 4 batch: 28 current batch loss: 0.07392812520265579\n",
            "epoch: 4 batch: 29 current batch loss: 0.07123201340436935\n",
            "epoch: 5 batch: 0 current batch loss: 0.0533522367477417\n",
            "epoch: 5 batch: 1 current batch loss: 0.051993176341056824\n",
            "epoch: 5 batch: 2 current batch loss: 0.049644678831100464\n",
            "epoch: 5 batch: 3 current batch loss: 0.04822828248143196\n",
            "epoch: 5 batch: 4 current batch loss: 0.05794638395309448\n",
            "epoch: 5 batch: 5 current batch loss: 0.050676893442869186\n",
            "epoch: 5 batch: 6 current batch loss: 0.04826701804995537\n",
            "epoch: 5 batch: 7 current batch loss: 0.061417367309331894\n",
            "epoch: 5 batch: 8 current batch loss: 0.04976934939622879\n",
            "epoch: 5 batch: 9 current batch loss: 0.04246902093291283\n",
            "epoch: 5 batch: 10 current batch loss: 0.04479193314909935\n",
            "epoch: 5 batch: 11 current batch loss: 0.05316110700368881\n",
            "epoch: 5 batch: 12 current batch loss: 0.050899021327495575\n",
            "epoch: 5 batch: 13 current batch loss: 0.0815853700041771\n",
            "epoch: 5 batch: 14 current batch loss: 0.06386513262987137\n",
            "epoch: 5 batch: 15 current batch loss: 0.06357064843177795\n",
            "epoch: 5 batch: 16 current batch loss: 0.07327967882156372\n",
            "epoch: 5 batch: 17 current batch loss: 0.06488247215747833\n",
            "epoch: 5 batch: 18 current batch loss: 0.06201503053307533\n",
            "epoch: 5 batch: 19 current batch loss: 0.057904865592718124\n",
            "epoch: 5 batch: 20 current batch loss: 0.059103824198246\n",
            "epoch: 5 batch: 21 current batch loss: 0.053017232567071915\n",
            "epoch: 5 batch: 22 current batch loss: 0.05247393250465393\n",
            "epoch: 5 batch: 23 current batch loss: 0.05546984821557999\n",
            "epoch: 5 batch: 24 current batch loss: 0.047968532890081406\n",
            "epoch: 5 batch: 25 current batch loss: 0.05788779258728027\n",
            "epoch: 5 batch: 26 current batch loss: 0.06552155315876007\n",
            "epoch: 5 batch: 27 current batch loss: 0.05671633407473564\n",
            "epoch: 5 batch: 28 current batch loss: 0.05631636455655098\n",
            "epoch: 5 batch: 29 current batch loss: 0.04937240481376648\n",
            "epoch: 6 batch: 0 current batch loss: 0.038316261023283005\n",
            "epoch: 6 batch: 1 current batch loss: 0.041601646691560745\n",
            "epoch: 6 batch: 2 current batch loss: 0.04301494359970093\n",
            "epoch: 6 batch: 3 current batch loss: 0.0477021187543869\n",
            "epoch: 6 batch: 4 current batch loss: 0.03864753246307373\n",
            "epoch: 6 batch: 5 current batch loss: 0.03810635209083557\n",
            "epoch: 6 batch: 6 current batch loss: 0.042632363736629486\n",
            "epoch: 6 batch: 7 current batch loss: 0.040876880288124084\n",
            "epoch: 6 batch: 8 current batch loss: 0.044403307139873505\n",
            "epoch: 6 batch: 9 current batch loss: 0.04390857741236687\n",
            "epoch: 6 batch: 10 current batch loss: 0.0490557998418808\n",
            "epoch: 6 batch: 11 current batch loss: 0.04359058663249016\n",
            "epoch: 6 batch: 12 current batch loss: 0.04239250719547272\n",
            "epoch: 6 batch: 13 current batch loss: 0.05337753891944885\n",
            "epoch: 6 batch: 14 current batch loss: 0.05005259066820145\n",
            "epoch: 6 batch: 15 current batch loss: 0.04595845937728882\n",
            "epoch: 6 batch: 16 current batch loss: 0.042519427835941315\n",
            "epoch: 6 batch: 17 current batch loss: 0.05182086303830147\n",
            "epoch: 6 batch: 18 current batch loss: 0.04684977978467941\n",
            "epoch: 6 batch: 19 current batch loss: 0.04947454482316971\n",
            "epoch: 6 batch: 20 current batch loss: 0.047062188386917114\n",
            "epoch: 6 batch: 21 current batch loss: 0.06363373249769211\n",
            "epoch: 6 batch: 22 current batch loss: 0.05140530318021774\n",
            "epoch: 6 batch: 23 current batch loss: 0.0533425435423851\n",
            "epoch: 6 batch: 24 current batch loss: 0.059995561838150024\n",
            "epoch: 6 batch: 25 current batch loss: 0.05475722625851631\n",
            "epoch: 6 batch: 26 current batch loss: 0.0489252507686615\n",
            "epoch: 6 batch: 27 current batch loss: 0.04050608351826668\n",
            "epoch: 6 batch: 28 current batch loss: 0.05240451171994209\n",
            "epoch: 6 batch: 29 current batch loss: 0.042336851358413696\n",
            "epoch: 7 batch: 0 current batch loss: 0.03430839255452156\n",
            "epoch: 7 batch: 1 current batch loss: 0.03142856806516647\n",
            "epoch: 7 batch: 2 current batch loss: 0.041759371757507324\n",
            "epoch: 7 batch: 3 current batch loss: 0.03948671370744705\n",
            "epoch: 7 batch: 4 current batch loss: 0.04318946227431297\n",
            "epoch: 7 batch: 5 current batch loss: 0.05080607160925865\n",
            "epoch: 7 batch: 6 current batch loss: 0.03793209418654442\n",
            "epoch: 7 batch: 7 current batch loss: 0.02978602796792984\n",
            "epoch: 7 batch: 8 current batch loss: 0.03220390900969505\n",
            "epoch: 7 batch: 9 current batch loss: 0.033460602164268494\n",
            "epoch: 7 batch: 10 current batch loss: 0.03276998549699783\n",
            "epoch: 7 batch: 11 current batch loss: 0.041676778346300125\n",
            "epoch: 7 batch: 12 current batch loss: 0.03469202294945717\n",
            "epoch: 7 batch: 13 current batch loss: 0.027689959853887558\n",
            "epoch: 7 batch: 14 current batch loss: 0.030375521630048752\n",
            "epoch: 7 batch: 15 current batch loss: 0.03608079254627228\n",
            "epoch: 7 batch: 16 current batch loss: 0.03666823357343674\n",
            "epoch: 7 batch: 17 current batch loss: 0.03594781458377838\n",
            "epoch: 7 batch: 18 current batch loss: 0.03968960791826248\n",
            "epoch: 7 batch: 19 current batch loss: 0.0311856959015131\n",
            "epoch: 7 batch: 20 current batch loss: 0.039081789553165436\n",
            "epoch: 7 batch: 21 current batch loss: 0.03953146934509277\n",
            "epoch: 7 batch: 22 current batch loss: 0.04473816603422165\n",
            "epoch: 7 batch: 23 current batch loss: 0.03731635585427284\n",
            "epoch: 7 batch: 24 current batch loss: 0.04082430526614189\n",
            "epoch: 7 batch: 25 current batch loss: 0.031423863023519516\n",
            "epoch: 7 batch: 26 current batch loss: 0.0381840281188488\n",
            "epoch: 7 batch: 27 current batch loss: 0.04159188270568848\n",
            "epoch: 7 batch: 28 current batch loss: 0.04053027927875519\n",
            "epoch: 7 batch: 29 current batch loss: 0.05820631980895996\n"
          ]
        }
      ]
    },
    {
      "cell_type": "markdown",
      "source": [
        "# Testing\n",
        "----------------------\n",
        "\n",
        "Correct the code below so it works."
      ],
      "metadata": {
        "id": "sTe6ViIsHUbV"
      },
      "id": "sTe6ViIsHUbV"
    },
    {
      "cell_type": "code",
      "source": [
        "good = 0\n",
        "wrong = 0\n",
        "\n",
        "net.eval()              #it notifies the network layers (especially batchnorm or dropout layers, which we don't use in this example) that we are doing evaluation\n",
        "with torch.no_grad():   #it prevents that the net learns during evalution. The gradients are not computed, so this makes it faster, too\n",
        "    for batch, data in enumerate(testloader): #batches in test are of size 1\n",
        "        datapoint, label = data\n",
        "\n",
        "        prediction = net(datapoint.to(device))                  #prediction has values representing the \"prevalence\" of the corresponding class\n",
        "        classification = torch.argmax(prediction)    #the class is the index of maximal \"prevalence\"\n",
        "\n",
        "        if classification.item() == label.item():\n",
        "            good += 1\n",
        "        else:\n",
        "            wrong += 1\n",
        "\n",
        "print(\"accuracy = \", good/(good+wrong))"
      ],
      "metadata": {
        "id": "jcPek-rrHYMi",
        "outputId": "77f3b0df-6ecb-48bb-d9a8-176642e9538a",
        "colab": {
          "base_uri": "https://localhost:8080/"
        }
      },
      "id": "jcPek-rrHYMi",
      "execution_count": 17,
      "outputs": [
        {
          "output_type": "stream",
          "name": "stdout",
          "text": [
            "accuracy =  0.982\n"
          ]
        }
      ]
    },
    {
      "cell_type": "markdown",
      "source": [
        "# **Homework Assignment - *Do Androids Dream of Electric Sheep?***\n",
        "\n",
        "-------------------------------------  \n",
        "\n",
        "\"Do Androids Dream of Electric Sheep?\" – the famous title of Philip K. Dick’s novel – raises a fascinating question: if artificial intelligence could dream, what would it see?  \n",
        "\n",
        "In this assignment, we explore a phenomenon known as **neural network dreams**, where instead of optimizing a neural network's weights, we **optimize the input itself** to achieve a desired classification outcome. Given a fully trained MNIST classification network, your goal is to manipulate its inputs so that it confidently predicts each digit from 0 to 9, starting from pure noise.  \n",
        "\n",
        "## **Tasks Description**  \n",
        "\n",
        "During this class we designed and trained a **MNIST classification neural network**, which takes a **batch of grayscale images** of size **$28 \\times 28$** as input and outputs a probability distribution over the 10 digit classes (0–9). However, instead of using real MNIST images, you will **treat the input batch itself as a set of trainable parameters** and optimize it so that the network classifies each image as a specific digit.  \n",
        "\n"
      ],
      "metadata": {
        "id": "ZJ5c7P6ChB3e"
      },
      "id": "ZJ5c7P6ChB3e"
    },
    {
      "cell_type": "markdown",
      "source": [
        "----------------------------------\n",
        "**1**. Your first task is to generate **a batch of 10 images**, where each image is\n",
        "   classified as one of the digits **0, 1, 2, ..., 9**, starting from an initial batch of ten random Gaussian noise images.  \n",
        "\n",
        "   Discuss the following question: do the generated images resemble real MNIST digits? Why or why not?\n",
        "\n",
        "### **Optimization Process for Task 1**  \n",
        "\n",
        "1. Start with a **batch of 10 random Gaussian noise images** as the initial input and $(0, 1, 2, \\ldots, 9)$ as the expected output batch of target digits.  \n",
        "2. Define the objective: maximize the neural network's confidence for the corresponding target digit for each image in the batch.  \n",
        "3. Use **gradient descent** to modify the pixels in each image, making the network classify each one as the assigned digit.  \n",
        "4. Repeat until the network assigns suffieciently high confidence to each image’s target class."
      ],
      "metadata": {
        "id": "sc8cLC0dKyp3"
      },
      "id": "sc8cLC0dKyp3"
    },
    {
      "cell_type": "code",
      "source": [
        "import torch.nn.functional as F\n",
        "import matplotlib.pyplot as plt\n",
        "\n",
        "# Use the same device as your model\n",
        "device = torch.device(\"cuda\" if torch.cuda.is_available() else \"cpu\")\n",
        "print(f\"Generating images on {device}\")\n",
        "\n",
        "# Define target labels 0–9 and move to the same device\n",
        "targets = torch.arange(10, device=device)\n",
        "\n",
        "# Create 10 images initialized with Gaussian noise and move to device\n",
        "images = torch.randn((10, 1, 28, 28), device=device, requires_grad=True)\n",
        "\n",
        "# Use optimizer to update the images (not model parameters)\n",
        "optimizer = torch.optim.Adam([images], lr=0.1)\n",
        "\n",
        "# Make sure model is in evaluation mode\n",
        "net.eval()\n",
        "\n",
        "# Optimization loop\n",
        "for step in range(2000):\n",
        "    optimizer.zero_grad()\n",
        "    outputs = net(images)\n",
        "    loss = -F.cross_entropy(outputs, targets)  # maximize correct class\n",
        "    loss.backward()\n",
        "    optimizer.step()\n",
        "\n",
        "# Clamp and move final images to CPU for visualization\n",
        "final_images = images.detach().clamp(0, 1).cpu()\n"
      ],
      "metadata": {
        "id": "DAayS6xUtKuL",
        "outputId": "c1ab0561-ce85-47f4-8ec7-119812fc6240",
        "colab": {
          "base_uri": "https://localhost:8080/"
        }
      },
      "id": "DAayS6xUtKuL",
      "execution_count": 18,
      "outputs": [
        {
          "output_type": "stream",
          "name": "stdout",
          "text": [
            "Generating images on cuda\n"
          ]
        }
      ]
    },
    {
      "cell_type": "code",
      "source": [
        "# Plot results\n",
        "fig, axes = plt.subplots(1, 10, figsize=(15, 2))\n",
        "for i, ax in enumerate(axes):\n",
        "    ax.imshow(final_images[i][0], cmap='gray')\n",
        "    ax.axis('off')\n",
        "    ax.set_title(str(i))\n",
        "plt.tight_layout()\n",
        "plt.show()\n"
      ],
      "metadata": {
        "id": "S3OmoYa5tLVe",
        "outputId": "e73a6c1f-44e7-4a62-d1e0-53ab6e7ac7b4",
        "colab": {
          "base_uri": "https://localhost:8080/",
          "height": 102
        }
      },
      "id": "S3OmoYa5tLVe",
      "execution_count": 19,
      "outputs": [
        {
          "output_type": "display_data",
          "data": {
            "text/plain": [
              "<Figure size 1500x200 with 10 Axes>"
            ],
            "image/png": "[encoded data removed]"
          },
          "metadata": {}
        }
      ]
    },
    {
      "cell_type": "markdown",
      "source": [
        "---------------------------------------\n",
        "2. Discuss, how you would approach a second task of\n",
        "   generating an image that   \n",
        "   bares similarity to two or more digits simultaneously. **Implement your idea to see the results.**"
      ],
      "metadata": {
        "id": "iLkAf_QHMvdv"
      },
      "id": "iLkAf_QHMvdv"
    },
    {
      "cell_type": "markdown",
      "source": [
        "We could set the target probabilities of two numbers as $\\frac{1}{2}$ and zero the rest. Then perform the optimization process as before but with a difference, that the loss will bo wrt. image probability. We then have to use different loss - not cross entrophy since we're not tagreting input and labels but probability. Natural choise is then Kullback-Laiber divergence from **torch.nn.functional.kl_div**.\n",
        "\n",
        "\n"
      ],
      "metadata": {
        "id": "U44Oo-WQWggH"
      },
      "id": "U44Oo-WQWggH"
    },
    {
      "cell_type": "code",
      "source": [
        "# Task 2: Generate a hybrid digit (e.g., 3 and 5)\n",
        "device = torch.device(\"cuda\" if torch.cuda.is_available() else \"cpu\")\n",
        "net.eval()\n",
        "\n",
        "# Initialize image with noise\n",
        "image = torch.randn((1, 1, 28, 28), device=device, requires_grad=True)\n",
        "\n",
        "# Target distribution (equal probability for classes 3 and 5)\n",
        "target_probs = torch.zeros(10, device=device)\n",
        "target_probs[[3, 5]] = 0.5\n",
        "target_probs = target_probs.unsqueeze(0)  # Add batch dimension\n",
        "\n",
        "optimizer = torch.optim.Adam([image], lr=0.1)\n",
        "\n",
        "for step in range(1000):\n",
        "    optimizer.zero_grad()\n",
        "    outputs = net(image)\n",
        "    log_probs = F.log_softmax(outputs, dim=1)\n",
        "    loss = F.kl_div(log_probs, target_probs, reduction='batchmean')\n",
        "    loss.backward()\n",
        "    optimizer.step()\n",
        "\n",
        "# Visualize and check probabilities\n",
        "final_image = image.detach().clamp(0, 1).cpu()\n",
        "plt.imshow(final_image[0][0], cmap='gray', vmin=0, vmax=1)\n",
        "plt.axis('off')\n",
        "plt.title(\"Hybrid 3-5\")\n",
        "plt.show()\n",
        "\n",
        "with torch.no_grad():\n",
        "    outputs = net(image)\n",
        "    probs = F.softmax(outputs, dim=1)\n",
        "    print(\"Class probabilities:\", probs[0].cpu().numpy().round(3))\n",
        "    print(\"Target probabilities:\", target_probs[0].cpu().numpy().round(3))\n",
        "    print(\"Loss:\", loss.item())\n",
        "    print(\"Max probability:\", probs[0].max().item())\n",
        "    print(\"Max target probability:\", target_probs[0].max().item())\n",
        "    print(\"Max difference:\", (probs[0] - target_probs[0]).abs().max().item())\n",
        "    print(\"Difference between max probabilities:\", (probs[0].max() - target_probs[0].max()).abs().item())\n"
      ],
      "metadata": {
        "id": "iFXD21oktx_y",
        "outputId": "15def593-bfc5-4347-815d-6cbb1f7e8629",
        "colab": {
          "base_uri": "https://localhost:8080/",
          "height": 556
        }
      },
      "id": "iFXD21oktx_y",
      "execution_count": 21,
      "outputs": [
        {
          "output_type": "display_data",
          "data": {
            "text/plain": [
              "<Figure size 640x480 with 1 Axes>"
            ],
            "image/png": "[encoded data removed]"
          },
          "metadata": {}
        },
        {
          "output_type": "stream",
          "name": "stdout",
          "text": [
            "Class probabilities: [0.    0.    0.    0.468 0.    0.532 0.    0.    0.    0.   ]\n",
            "Target probabilities: [0.  0.  0.  0.5 0.  0.5 0.  0.  0.  0. ]\n",
            "Loss: 0.0017769336700439453\n",
            "Max probability: 0.5323714017868042\n",
            "Max target probability: 0.5\n",
            "Max difference: 0.03238651156425476\n",
            "Difference between max probabilities: 0.0323714017868042\n"
          ]
        }
      ]
    },
    {
      "cell_type": "markdown",
      "source": [
        "------------------------------------------\n",
        "3. Third task: repeat the previous tasks with an additional L2 penalty on noise within the images. Experiment with adding `lambda_l2 * dreamed_input_batch.pow(2).mean()` loss term, with `lambda_l2` being the penalty cooefficient within an exponential progression, say from 0.001 to 10.0. Are the new digits recognized correctly? How does the penalty impact the digit quality? Explain."
      ],
      "metadata": {
        "id": "xdfHzss5PttV"
      },
      "id": "xdfHzss5PttV"
    },
    {
      "cell_type": "code",
      "source": [
        "# Task 3: L2 Regularization Experiment\n",
        "lambdas = [0.001, 0.01, 0.1, 1.0, 10.0]\n",
        "results = {}\n",
        "\n",
        "for lambda_l2 in lambdas:\n",
        "    print(f\"\\nExperimenting with λ = {lambda_l2}\")\n",
        "    images = torch.randn((10, 1, 28, 28), device=device, requires_grad=True)\n",
        "    targets = torch.arange(10, device=device)\n",
        "\n",
        "    optimizer = torch.optim.Adam([images], lr=0.1)\n",
        "\n",
        "    for step in range(1000):\n",
        "        optimizer.zero_grad()\n",
        "        outputs = net(images)\n",
        "        ce_loss = -F.cross_entropy(outputs, targets)\n",
        "        l2_loss = lambda_l2 * images.pow(2).mean()\n",
        "        total_loss = ce_loss + l2_loss\n",
        "        total_loss.backward()\n",
        "        optimizer.step()\n",
        "\n",
        "    # Store results\n",
        "    final_images = images.detach().clamp(0, 1).cpu()\n",
        "    with torch.no_grad():\n",
        "        probs = F.softmax(net(images), dim=1)\n",
        "        confidence = probs[torch.arange(10), targets].mean().item()\n",
        "\n",
        "    results[lambda_l2] = {\n",
        "        'images': final_images,\n",
        "        'confidence': confidence\n",
        "    }\n",
        "\n",
        "# Visualization\n",
        "fig, axs = plt.subplots(len(lambdas), 10, figsize=(15, 2*len(lambdas)))\n",
        "for i, (lambda_l2, result) in enumerate(results.items()):\n",
        "    for j in range(10):\n",
        "        axs[i,j].imshow(result['images'][j][0], cmap='gray')\n",
        "        axs[i,j].axis('off')\n",
        "    axs[i,0].set_ylabel(f\"λ={lambda_l2}\\nConf: {result['confidence']:.2f}\", rotation=0, ha='right')\n",
        "plt.tight_layout()\n",
        "plt.show()\n"
      ],
      "metadata": {
        "id": "M_7hrOCmPtJ1",
        "outputId": "e40af714-ac23-4f5b-9170-459da0eedf5e",
        "colab": {
          "base_uri": "https://localhost:8080/",
          "height": 642
        }
      },
      "id": "M_7hrOCmPtJ1",
      "execution_count": 23,
      "outputs": [
        {
          "output_type": "stream",
          "name": "stdout",
          "text": [
            "\n",
            "Experimenting with λ = 0.001\n",
            "\n",
            "Experimenting with λ = 0.01\n",
            "\n",
            "Experimenting with λ = 0.1\n",
            "\n",
            "Experimenting with λ = 1.0\n",
            "\n",
            "Experimenting with λ = 10.0\n"
          ]
        },
        {
          "output_type": "display_data",
          "data": {
            "text/plain": [
              "<Figure size 1500x1000 with 50 Axes>"
            ],
            "image/png": "[encoded data removed]"
          },
          "metadata": {}
        }
      ]
    },
    {
      "cell_type": "markdown",
      "source": [
        "Unfortunatelly, the images are not clear to read and to interpret. Higher $\\lambda$ seems to work better - pixels seem to have little better quality (to my eye). The best $\\lambda$ seem to be somwere in the middle - 0.1, where there is reduced noise while maintaining digit structure and the digits here are simmilar to those we trained in part 1."
      ],
      "metadata": {
        "id": "Agp-1TwdbMXI"
      },
      "id": "Agp-1TwdbMXI"
    }
  ],
  "metadata": {
    "colab": {
      "provenance": [],
      "gpuType": "T4",
      "include_colab_link": true
    },
    "language_info": {
      "name": "python"
    },
    "kernelspec": {
      "name": "python3",
      "display_name": "Python 3"
    },
    "accelerator": "GPU"
  },
  "nbformat": 4,
  "nbformat_minor": 5
}