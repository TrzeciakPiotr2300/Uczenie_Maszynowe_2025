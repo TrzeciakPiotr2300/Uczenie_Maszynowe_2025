{
  "cells": [
    {
      "cell_type": "markdown",
      "metadata": {
        "id": "view-in-github",
        "colab_type": "text"
      },
      "source": [
        "<a href=\"https://colab.research.google.com/github/TrzeciakPiotr2300/Uczenie_Maszynowe_2025/blob/main/HW09_multi-layer-perceptron-MLP.ipynb\" target=\"_parent\"><img src=\"https://colab.research.google.com/assets/colab-badge.svg\" alt=\"Open In Colab\"/></a>"
      ]
    },
    {
      "cell_type": "markdown",
      "source": [
        "\n",
        "\n",
        "# Multi Layer Perceptron Notation\n",
        "---------------------------------\n",
        "\n",
        "In this workshop we will be classifying 28 by 28 images into 10 classes. Thus, a four layer perceptron (our classificator) we will work further with can be defined as\n",
        "$\\hat f:\\mathbb{R}^{28\\cdot 28} \\rightarrow \\mathbb{R}^{10}$ defined as\n",
        "\n",
        "$$\\hat f \\left(x; W_1, W_2, W_3, W_4, b_1, b_2, b_3, b_4 \\right) =  W_4 \\left[ W_3 \\left[ W_2 \\left[ W_1 x  + b_1 \\right]_+  + b_2 \\right]_+  + b_3 \\right]_+ + b_4,$$\n",
        "\n",
        "where matrices $W_1, \\ldots, W_4$ are tensors of order two (matrices) with matching dimensions and bias terms $b_1, \\ldots, b_4$ are tensors of order one (vectors) of matching dimensions, and we are using ReLU activation.\n",
        "\n",
        "Note, that there is no nonlinear activation after the last layer in our neural network. **There is an implicit softmax applied while cross entropy loss is calculated by `torch.nn.functional`.**\n"
      ],
      "metadata": {
        "id": "wqJVU0gp9rws"
      },
      "id": "wqJVU0gp9rws"
    },
    {
      "cell_type": "markdown",
      "source": [
        "# Reading MNIST Dataset to Play with It\n",
        "--------------------"
      ],
      "metadata": {
        "id": "s6RwV0RN_Kc9"
      },
      "id": "s6RwV0RN_Kc9"
    },
    {
      "cell_type": "code",
      "source": [
        "import torch\n",
        "import torchvision\n",
        "from matplotlib import pyplot\n",
        "\n",
        "trainset = torchvision.datasets.MNIST(root='./data',\n",
        "                                      train=True,\n",
        "                                      download=True,\n",
        "                                      transform=None)"
      ],
      "metadata": {
        "id": "vjAlmExA_Twh",
        "outputId": "59bf477c-0b33-438c-f19b-cbe3546fd5f9",
        "colab": {
          "base_uri": "https://localhost:8080/"
        }
      },
      "id": "vjAlmExA_Twh",
      "execution_count": 1,
      "outputs": [
        {
          "output_type": "stream",
          "name": "stderr",
          "text": [
            "100%|██████████| 9.91M/9.91M [00:00<00:00, 53.7MB/s]\n",
            "100%|██████████| 28.9k/28.9k [00:00<00:00, 1.62MB/s]\n",
            "100%|██████████| 1.65M/1.65M [00:00<00:00, 14.2MB/s]\n",
            "100%|██████████| 4.54k/4.54k [00:00<00:00, 9.87MB/s]\n"
          ]
        }
      ]
    },
    {
      "cell_type": "code",
      "source": [
        "train_image, train_target = trainset[0]    #let us examine the 0-th sample\n",
        "pyplot.imshow(train_image)\n",
        "pyplot.show()"
      ],
      "metadata": {
        "id": "gcgep60g_Xs6",
        "outputId": "2c2ffb19-272a-4768-822f-83c722b4ab48",
        "colab": {
          "base_uri": "https://localhost:8080/",
          "height": 430
        }
      },
      "id": "gcgep60g_Xs6",
      "execution_count": 2,
      "outputs": [
        {
          "output_type": "display_data",
          "data": {
            "text/plain": [
              "<Figure size 640x480 with 1 Axes>"
            ],
            "image/png": "[encoded data removed]"
          },
          "metadata": {}
        }
      ]
    },
    {
      "cell_type": "code",
      "source": [
        "(trainset.data.numpy().mean()/255.0, trainset.data.numpy().std()/255.0)   #MNIST datapoints are RGB integers 0-255"
      ],
      "metadata": {
        "id": "Ar2Rzq7UAcjC",
        "outputId": "16e6db7b-e1e9-4531-97e7-3fb1e37c21a2",
        "colab": {
          "base_uri": "https://localhost:8080/"
        }
      },
      "id": "Ar2Rzq7UAcjC",
      "execution_count": 3,
      "outputs": [
        {
          "output_type": "execute_result",
          "data": {
            "text/plain": [
              "(np.float64(0.1306604762738429), np.float64(0.30810780385646264))"
            ]
          },
          "metadata": {},
          "execution_count": 3
        }
      ]
    },
    {
      "cell_type": "markdown",
      "source": [
        "# Task\n",
        "---------------\n",
        "\n",
        "Why do we need to normalize the data, and not feed the NN with the 0-255 integers?"
      ],
      "metadata": {
        "id": "-waIu3OQXGx0"
      },
      "id": "-waIu3OQXGx0"
    },
    {
      "cell_type": "code",
      "source": [
        "transform = torchvision.transforms.Compose(\n",
        "    [ torchvision.transforms.ToTensor(), #Converts a PIL Image or numpy.ndarray (H x W x C) in the range [0, 255] to a torch.FloatTensor of shape (C x H x W) in the range [0.0, 1.0]\n",
        "      torchvision.transforms.Normalize((0.1307), (0.3081))])\n",
        "\n",
        "trainset = torchvision.datasets.MNIST(root='./data',\n",
        "                                      train=True,\n",
        "                                      download=True,\n",
        "                                      transform=transform)\n",
        "\n",
        "trainloader = torch.utils.data.DataLoader(trainset,\n",
        "                                          batch_size=2048,\n",
        "                                          shuffle=True)   #we do shuffle it to give more randomizations to training epochs\n",
        "\n",
        "testset = torchvision.datasets.MNIST(root='./data',\n",
        "                                     train=False,\n",
        "                                     download=True,\n",
        "                                     transform=transform)\n",
        "\n",
        "testloader = torch.utils.data.DataLoader(testset,\n",
        "                                         batch_size=1,\n",
        "                                         shuffle=False)"
      ],
      "metadata": {
        "id": "01dayZiEAk3C"
      },
      "id": "01dayZiEAk3C",
      "execution_count": 4,
      "outputs": []
    },
    {
      "cell_type": "markdown",
      "source": [
        "# MLP Definition\n",
        "-----------------\n",
        "\n",
        "Your job now is to take the (fully functional) definition of the MLP structure and get rid off the Sequential layer.\n"
      ],
      "metadata": {
        "id": "ZX09I7rUDkei"
      },
      "id": "ZX09I7rUDkei"
    },
    {
      "cell_type": "code",
      "source": [
        "import torch\n",
        "import torch.nn as nn\n",
        "\n",
        "class MLP(nn.Module):\n",
        "    def __init__(self):\n",
        "        super().__init__()\n",
        "        self.flatten = nn.Flatten()\n",
        "        self.fc1 = nn.Linear(1 * 28 * 28, 1024)\n",
        "        self.relu1 = nn.ReLU()\n",
        "        self.fc2 = nn.Linear(1024, 2048)\n",
        "        self.relu2 = nn.ReLU()\n",
        "        self.fc3 = nn.Linear(2048, 256)\n",
        "        self.relu3 = nn.ReLU()\n",
        "        self.fc4 = nn.Linear(256, 10)\n",
        "        self.dropout = nn.Dropout(0.05)\n",
        "\n",
        "    def forward(self, x):\n",
        "        x = self.flatten(x)\n",
        "        x = self.fc1(x)\n",
        "        x = self.relu1(x)\n",
        "        x = self.fc2(x)\n",
        "        x = self.relu2(x)\n",
        "        x = self.fc3(x)\n",
        "        x = self.relu3(x)\n",
        "        x = self.fc4(x)\n",
        "        x = self.dropout(x)\n",
        "        return x\n",
        "\n"
      ],
      "metadata": {
        "id": "TSoP6W2UECwb"
      },
      "id": "TSoP6W2UECwb",
      "execution_count": 6,
      "outputs": []
    },
    {
      "cell_type": "markdown",
      "source": [
        "# Training Loop\n",
        "----------------------"
      ],
      "metadata": {
        "id": "fE5rN8UTFFw7"
      },
      "id": "fE5rN8UTFFw7"
    },
    {
      "cell_type": "code",
      "source": [
        "# Check if GPU is available\n",
        "device = torch.device(\"cuda\" if torch.cuda.is_available() else \"cpu\")\n",
        "print(f\"Working on {device}\")\n",
        "\n",
        "net = MLP().to(device)\n",
        "optimizer = torch.optim.Adam(net.parameters(), 0.001)   #initial and fixed learning rate of 0.001.\n",
        "\n",
        "net.train()    #it notifies the network layers (especially batchnorm or dropout layers, which we don't use in this example) that we are doing traning\n",
        "for epoch in range(8):  #  an epoch is a training run through the whole data set\n",
        "\n",
        "    for batch, data in enumerate(trainloader):\n",
        "        batch_inputs, batch_labels = data\n",
        "\n",
        "        batch_inputs = batch_inputs.to(device)  #explicitly moving the data to the target device\n",
        "        batch_labels = batch_labels.to(device)\n",
        "\n",
        "        #batch_inputs.squeeze(1)     #alternatively if not for a Flatten layer, squeeze() could be used to remove the second order of the tensor, the Channel, which is one-dimensional (this index can be equal to 0 only)\n",
        "\n",
        "        optimizer.zero_grad()\n",
        "\n",
        "        batch_outputs = net(batch_inputs)   #this line calls the forward(self, x) method of the MLP object. Please note, that the last layer of the MLP is linear\n",
        "                                            #and MLP doesn't apply\n",
        "                                            #the nonlinear activation after the last layer\n",
        "        loss = torch.nn.functional.cross_entropy(batch_outputs, batch_labels, reduction = \"mean\") #instead, nonlinear softmax is applied internally in THIS loss function\n",
        "        print(\"epoch:\", epoch, \"batch:\", batch, \"current batch loss:\", loss.item())\n",
        "        loss.backward()       #this computes gradients as we have seen in previous workshops\n",
        "        optimizer.step()     #but this line in fact updates our neural network.\n",
        "                                ####You can experiment - comment this line and check, that the loss DOE"
      ],
      "metadata": {
        "id": "55Sda8Y5FIOh",
        "outputId": "efb24a14-c8ba-4b58-fe04-471c6eb4f8df",
        "colab": {
          "base_uri": "https://localhost:8080/"
        }
      },
      "id": "55Sda8Y5FIOh",
      "execution_count": 7,
      "outputs": [
        {
          "output_type": "stream",
          "name": "stdout",
          "text": [
            "Working on cuda\n",
            "epoch: 0 batch: 0 current batch loss: 2.308274030685425\n",
            "epoch: 0 batch: 1 current batch loss: 2.085632562637329\n",
            "epoch: 0 batch: 2 current batch loss: 1.6487348079681396\n",
            "epoch: 0 batch: 3 current batch loss: 1.2214080095291138\n",
            "epoch: 0 batch: 4 current batch loss: 1.0016330480575562\n",
            "epoch: 0 batch: 5 current batch loss: 1.0403558015823364\n",
            "epoch: 0 batch: 6 current batch loss: 1.1130990982055664\n",
            "epoch: 0 batch: 7 current batch loss: 0.8214840292930603\n",
            "epoch: 0 batch: 8 current batch loss: 0.8944143056869507\n",
            "epoch: 0 batch: 9 current batch loss: 0.6940860748291016\n",
            "epoch: 0 batch: 10 current batch loss: 0.5205239057540894\n",
            "epoch: 0 batch: 11 current batch loss: 0.5502999424934387\n",
            "epoch: 0 batch: 12 current batch loss: 0.5687503814697266\n",
            "epoch: 0 batch: 13 current batch loss: 0.577553927898407\n",
            "epoch: 0 batch: 14 current batch loss: 0.48461735248565674\n",
            "epoch: 0 batch: 15 current batch loss: 0.4611093997955322\n",
            "epoch: 0 batch: 16 current batch loss: 0.4570566415786743\n",
            "epoch: 0 batch: 17 current batch loss: 0.4036159813404083\n",
            "epoch: 0 batch: 18 current batch loss: 0.40714558959007263\n",
            "epoch: 0 batch: 19 current batch loss: 0.41663190722465515\n",
            "epoch: 0 batch: 20 current batch loss: 0.3759327232837677\n",
            "epoch: 0 batch: 21 current batch loss: 0.38878050446510315\n",
            "epoch: 0 batch: 22 current batch loss: 0.32809364795684814\n",
            "epoch: 0 batch: 23 current batch loss: 0.3275240361690521\n",
            "epoch: 0 batch: 24 current batch loss: 0.3238076865673065\n",
            "epoch: 0 batch: 25 current batch loss: 0.30937448143959045\n",
            "epoch: 0 batch: 26 current batch loss: 0.28957968950271606\n",
            "epoch: 0 batch: 27 current batch loss: 0.3148556649684906\n",
            "epoch: 0 batch: 28 current batch loss: 0.2817246913909912\n",
            "epoch: 0 batch: 29 current batch loss: 0.2483581304550171\n",
            "epoch: 1 batch: 0 current batch loss: 0.2812149226665497\n",
            "epoch: 1 batch: 1 current batch loss: 0.27760016918182373\n",
            "epoch: 1 batch: 2 current batch loss: 0.23633700609207153\n",
            "epoch: 1 batch: 3 current batch loss: 0.2602819502353668\n",
            "epoch: 1 batch: 4 current batch loss: 0.24853233993053436\n",
            "epoch: 1 batch: 5 current batch loss: 0.2683967649936676\n",
            "epoch: 1 batch: 6 current batch loss: 0.21260157227516174\n",
            "epoch: 1 batch: 7 current batch loss: 0.23460456728935242\n",
            "epoch: 1 batch: 8 current batch loss: 0.2492673546075821\n",
            "epoch: 1 batch: 9 current batch loss: 0.19108794629573822\n",
            "epoch: 1 batch: 10 current batch loss: 0.2094772309064865\n",
            "epoch: 1 batch: 11 current batch loss: 0.21124881505966187\n",
            "epoch: 1 batch: 12 current batch loss: 0.22117608785629272\n",
            "epoch: 1 batch: 13 current batch loss: 0.22188931703567505\n",
            "epoch: 1 batch: 14 current batch loss: 0.19688275456428528\n",
            "epoch: 1 batch: 15 current batch loss: 0.17336595058441162\n",
            "epoch: 1 batch: 16 current batch loss: 0.20047599077224731\n",
            "epoch: 1 batch: 17 current batch loss: 0.17979179322719574\n",
            "epoch: 1 batch: 18 current batch loss: 0.19413511455059052\n",
            "epoch: 1 batch: 19 current batch loss: 0.1786387711763382\n",
            "epoch: 1 batch: 20 current batch loss: 0.19101427495479584\n",
            "epoch: 1 batch: 21 current batch loss: 0.1737995147705078\n",
            "epoch: 1 batch: 22 current batch loss: 0.14971734583377838\n",
            "epoch: 1 batch: 23 current batch loss: 0.16264045238494873\n",
            "epoch: 1 batch: 24 current batch loss: 0.17783968150615692\n",
            "epoch: 1 batch: 25 current batch loss: 0.18896007537841797\n",
            "epoch: 1 batch: 26 current batch loss: 0.17445369064807892\n",
            "epoch: 1 batch: 27 current batch loss: 0.1800098568201065\n",
            "epoch: 1 batch: 28 current batch loss: 0.1583273857831955\n",
            "epoch: 1 batch: 29 current batch loss: 0.1230207085609436\n",
            "epoch: 2 batch: 0 current batch loss: 0.15556347370147705\n",
            "epoch: 2 batch: 1 current batch loss: 0.1347757875919342\n",
            "epoch: 2 batch: 2 current batch loss: 0.1445876508951187\n",
            "epoch: 2 batch: 3 current batch loss: 0.14616096019744873\n",
            "epoch: 2 batch: 4 current batch loss: 0.1386437714099884\n",
            "epoch: 2 batch: 5 current batch loss: 0.1370694786310196\n",
            "epoch: 2 batch: 6 current batch loss: 0.1352113038301468\n",
            "epoch: 2 batch: 7 current batch loss: 0.14335405826568604\n",
            "epoch: 2 batch: 8 current batch loss: 0.13541652262210846\n",
            "epoch: 2 batch: 9 current batch loss: 0.13156944513320923\n",
            "epoch: 2 batch: 10 current batch loss: 0.1272394210100174\n",
            "epoch: 2 batch: 11 current batch loss: 0.1331777423620224\n",
            "epoch: 2 batch: 12 current batch loss: 0.14040522277355194\n",
            "epoch: 2 batch: 13 current batch loss: 0.14430280029773712\n",
            "epoch: 2 batch: 14 current batch loss: 0.1360132098197937\n",
            "epoch: 2 batch: 15 current batch loss: 0.12808436155319214\n",
            "epoch: 2 batch: 16 current batch loss: 0.12713134288787842\n",
            "epoch: 2 batch: 17 current batch loss: 0.13933882117271423\n",
            "epoch: 2 batch: 18 current batch loss: 0.1280316561460495\n",
            "epoch: 2 batch: 19 current batch loss: 0.1542423516511917\n",
            "epoch: 2 batch: 20 current batch loss: 0.12159034609794617\n",
            "epoch: 2 batch: 21 current batch loss: 0.1297181099653244\n",
            "epoch: 2 batch: 22 current batch loss: 0.1315796822309494\n",
            "epoch: 2 batch: 23 current batch loss: 0.1167309358716011\n",
            "epoch: 2 batch: 24 current batch loss: 0.11711079627275467\n",
            "epoch: 2 batch: 25 current batch loss: 0.11509933322668076\n",
            "epoch: 2 batch: 26 current batch loss: 0.10402290523052216\n",
            "epoch: 2 batch: 27 current batch loss: 0.11378192901611328\n",
            "epoch: 2 batch: 28 current batch loss: 0.11988894641399384\n",
            "epoch: 2 batch: 29 current batch loss: 0.1214124783873558\n",
            "epoch: 3 batch: 0 current batch loss: 0.10455135256052017\n",
            "epoch: 3 batch: 1 current batch loss: 0.1201842799782753\n",
            "epoch: 3 batch: 2 current batch loss: 0.08534371107816696\n",
            "epoch: 3 batch: 3 current batch loss: 0.09313477575778961\n",
            "epoch: 3 batch: 4 current batch loss: 0.09784228354692459\n",
            "epoch: 3 batch: 5 current batch loss: 0.10553177446126938\n",
            "epoch: 3 batch: 6 current batch loss: 0.1070479154586792\n",
            "epoch: 3 batch: 7 current batch loss: 0.08239242434501648\n",
            "epoch: 3 batch: 8 current batch loss: 0.11092101782560349\n",
            "epoch: 3 batch: 9 current batch loss: 0.09988056868314743\n",
            "epoch: 3 batch: 10 current batch loss: 0.09326101094484329\n",
            "epoch: 3 batch: 11 current batch loss: 0.09573914855718613\n",
            "epoch: 3 batch: 12 current batch loss: 0.10859383642673492\n",
            "epoch: 3 batch: 13 current batch loss: 0.09302917122840881\n",
            "epoch: 3 batch: 14 current batch loss: 0.0774376168847084\n",
            "epoch: 3 batch: 15 current batch loss: 0.10193099081516266\n",
            "epoch: 3 batch: 16 current batch loss: 0.08961187303066254\n",
            "epoch: 3 batch: 17 current batch loss: 0.09267138689756393\n",
            "epoch: 3 batch: 18 current batch loss: 0.09647183120250702\n",
            "epoch: 3 batch: 19 current batch loss: 0.09599040448665619\n",
            "epoch: 3 batch: 20 current batch loss: 0.09179870039224625\n",
            "epoch: 3 batch: 21 current batch loss: 0.08029451221227646\n",
            "epoch: 3 batch: 22 current batch loss: 0.10228465497493744\n",
            "epoch: 3 batch: 23 current batch loss: 0.10615605115890503\n",
            "epoch: 3 batch: 24 current batch loss: 0.0927056074142456\n",
            "epoch: 3 batch: 25 current batch loss: 0.08258047699928284\n",
            "epoch: 3 batch: 26 current batch loss: 0.11022049933671951\n",
            "epoch: 3 batch: 27 current batch loss: 0.09850507229566574\n",
            "epoch: 3 batch: 28 current batch loss: 0.1025134027004242\n",
            "epoch: 3 batch: 29 current batch loss: 0.0700799971818924\n",
            "epoch: 4 batch: 0 current batch loss: 0.08441738784313202\n",
            "epoch: 4 batch: 1 current batch loss: 0.06861612200737\n",
            "epoch: 4 batch: 2 current batch loss: 0.07518519461154938\n",
            "epoch: 4 batch: 3 current batch loss: 0.07701533287763596\n",
            "epoch: 4 batch: 4 current batch loss: 0.07385754585266113\n",
            "epoch: 4 batch: 5 current batch loss: 0.06348956376314163\n",
            "epoch: 4 batch: 6 current batch loss: 0.07644923031330109\n",
            "epoch: 4 batch: 7 current batch loss: 0.07279013097286224\n",
            "epoch: 4 batch: 8 current batch loss: 0.07741620391607285\n",
            "epoch: 4 batch: 9 current batch loss: 0.07023720443248749\n",
            "epoch: 4 batch: 10 current batch loss: 0.0692206472158432\n",
            "epoch: 4 batch: 11 current batch loss: 0.06904366612434387\n",
            "epoch: 4 batch: 12 current batch loss: 0.07935512810945511\n",
            "epoch: 4 batch: 13 current batch loss: 0.09242420643568039\n",
            "epoch: 4 batch: 14 current batch loss: 0.059620533138513565\n",
            "epoch: 4 batch: 15 current batch loss: 0.07656049728393555\n",
            "epoch: 4 batch: 16 current batch loss: 0.079202800989151\n",
            "epoch: 4 batch: 17 current batch loss: 0.06192289665341377\n",
            "epoch: 4 batch: 18 current batch loss: 0.06387593597173691\n",
            "epoch: 4 batch: 19 current batch loss: 0.09348878264427185\n",
            "epoch: 4 batch: 20 current batch loss: 0.07861116528511047\n",
            "epoch: 4 batch: 21 current batch loss: 0.07350879907608032\n",
            "epoch: 4 batch: 22 current batch loss: 0.06543336808681488\n",
            "epoch: 4 batch: 23 current batch loss: 0.06590081751346588\n",
            "epoch: 4 batch: 24 current batch loss: 0.08676888048648834\n",
            "epoch: 4 batch: 25 current batch loss: 0.07284378260374069\n",
            "epoch: 4 batch: 26 current batch loss: 0.06534837931394577\n",
            "epoch: 4 batch: 27 current batch loss: 0.07863052189350128\n",
            "epoch: 4 batch: 28 current batch loss: 0.05858795717358589\n",
            "epoch: 4 batch: 29 current batch loss: 0.055795952677726746\n",
            "epoch: 5 batch: 0 current batch loss: 0.05056864768266678\n",
            "epoch: 5 batch: 1 current batch loss: 0.060957346111536026\n",
            "epoch: 5 batch: 2 current batch loss: 0.052671656012535095\n",
            "epoch: 5 batch: 3 current batch loss: 0.06645847856998444\n",
            "epoch: 5 batch: 4 current batch loss: 0.05744941160082817\n",
            "epoch: 5 batch: 5 current batch loss: 0.05471571534872055\n",
            "epoch: 5 batch: 6 current batch loss: 0.06530281901359558\n",
            "epoch: 5 batch: 7 current batch loss: 0.043620578944683075\n",
            "epoch: 5 batch: 8 current batch loss: 0.0566246323287487\n",
            "epoch: 5 batch: 9 current batch loss: 0.0525677427649498\n",
            "epoch: 5 batch: 10 current batch loss: 0.05439263582229614\n",
            "epoch: 5 batch: 11 current batch loss: 0.059620968997478485\n",
            "epoch: 5 batch: 12 current batch loss: 0.059612106531858444\n",
            "epoch: 5 batch: 13 current batch loss: 0.07290566712617874\n",
            "epoch: 5 batch: 14 current batch loss: 0.05405154079198837\n",
            "epoch: 5 batch: 15 current batch loss: 0.0509847030043602\n",
            "epoch: 5 batch: 16 current batch loss: 0.06204367056488991\n",
            "epoch: 5 batch: 17 current batch loss: 0.05701567977666855\n",
            "epoch: 5 batch: 18 current batch loss: 0.06236065551638603\n",
            "epoch: 5 batch: 19 current batch loss: 0.07165344059467316\n",
            "epoch: 5 batch: 20 current batch loss: 0.06248749792575836\n",
            "epoch: 5 batch: 21 current batch loss: 0.055324818938970566\n",
            "epoch: 5 batch: 22 current batch loss: 0.06427565962076187\n",
            "epoch: 5 batch: 23 current batch loss: 0.04421349987387657\n",
            "epoch: 5 batch: 24 current batch loss: 0.08427885174751282\n",
            "epoch: 5 batch: 25 current batch loss: 0.054199665784835815\n",
            "epoch: 5 batch: 26 current batch loss: 0.06089627370238304\n",
            "epoch: 5 batch: 27 current batch loss: 0.0647708922624588\n",
            "epoch: 5 batch: 28 current batch loss: 0.06340932101011276\n",
            "epoch: 5 batch: 29 current batch loss: 0.05280883610248566\n",
            "epoch: 6 batch: 0 current batch loss: 0.04492037370800972\n",
            "epoch: 6 batch: 1 current batch loss: 0.03964586183428764\n",
            "epoch: 6 batch: 2 current batch loss: 0.04659336060285568\n",
            "epoch: 6 batch: 3 current batch loss: 0.05600534379482269\n",
            "epoch: 6 batch: 4 current batch loss: 0.045277148485183716\n",
            "epoch: 6 batch: 5 current batch loss: 0.04382085055112839\n",
            "epoch: 6 batch: 6 current batch loss: 0.05513577163219452\n",
            "epoch: 6 batch: 7 current batch loss: 0.050211478024721146\n",
            "epoch: 6 batch: 8 current batch loss: 0.0431177094578743\n",
            "epoch: 6 batch: 9 current batch loss: 0.042973875999450684\n",
            "epoch: 6 batch: 10 current batch loss: 0.04868210479617119\n",
            "epoch: 6 batch: 11 current batch loss: 0.03909619152545929\n",
            "epoch: 6 batch: 12 current batch loss: 0.05124228075146675\n",
            "epoch: 6 batch: 13 current batch loss: 0.04113864526152611\n",
            "epoch: 6 batch: 14 current batch loss: 0.0600116066634655\n",
            "epoch: 6 batch: 15 current batch loss: 0.053901996463537216\n",
            "epoch: 6 batch: 16 current batch loss: 0.049271151423454285\n",
            "epoch: 6 batch: 17 current batch loss: 0.03893682360649109\n",
            "epoch: 6 batch: 18 current batch loss: 0.035300787538290024\n",
            "epoch: 6 batch: 19 current batch loss: 0.046233177185058594\n",
            "epoch: 6 batch: 20 current batch loss: 0.03827271983027458\n",
            "epoch: 6 batch: 21 current batch loss: 0.04386356845498085\n",
            "epoch: 6 batch: 22 current batch loss: 0.03841305524110794\n",
            "epoch: 6 batch: 23 current batch loss: 0.05040287971496582\n",
            "epoch: 6 batch: 24 current batch loss: 0.04417416825890541\n",
            "epoch: 6 batch: 25 current batch loss: 0.03806937485933304\n",
            "epoch: 6 batch: 26 current batch loss: 0.045584358274936676\n",
            "epoch: 6 batch: 27 current batch loss: 0.05191245302557945\n",
            "epoch: 6 batch: 28 current batch loss: 0.038402341306209564\n",
            "epoch: 6 batch: 29 current batch loss: 0.03289050608873367\n",
            "epoch: 7 batch: 0 current batch loss: 0.03840646892786026\n",
            "epoch: 7 batch: 1 current batch loss: 0.0387888103723526\n",
            "epoch: 7 batch: 2 current batch loss: 0.034061286598443985\n",
            "epoch: 7 batch: 3 current batch loss: 0.034382253885269165\n",
            "epoch: 7 batch: 4 current batch loss: 0.03389972448348999\n",
            "epoch: 7 batch: 5 current batch loss: 0.03593284264206886\n",
            "epoch: 7 batch: 6 current batch loss: 0.04203353077173233\n",
            "epoch: 7 batch: 7 current batch loss: 0.041075777262449265\n",
            "epoch: 7 batch: 8 current batch loss: 0.0399412177503109\n",
            "epoch: 7 batch: 9 current batch loss: 0.03230136260390282\n",
            "epoch: 7 batch: 10 current batch loss: 0.04279701039195061\n",
            "epoch: 7 batch: 11 current batch loss: 0.04525060951709747\n",
            "epoch: 7 batch: 12 current batch loss: 0.03728190064430237\n",
            "epoch: 7 batch: 13 current batch loss: 0.03165406733751297\n",
            "epoch: 7 batch: 14 current batch loss: 0.030303463339805603\n",
            "epoch: 7 batch: 15 current batch loss: 0.030688462778925896\n",
            "epoch: 7 batch: 16 current batch loss: 0.04869912937283516\n",
            "epoch: 7 batch: 17 current batch loss: 0.042443569749593735\n",
            "epoch: 7 batch: 18 current batch loss: 0.0389745719730854\n",
            "epoch: 7 batch: 19 current batch loss: 0.032803814858198166\n",
            "epoch: 7 batch: 20 current batch loss: 0.040786806493997574\n",
            "epoch: 7 batch: 21 current batch loss: 0.03785088658332825\n",
            "epoch: 7 batch: 22 current batch loss: 0.03940935432910919\n",
            "epoch: 7 batch: 23 current batch loss: 0.03365742415189743\n",
            "epoch: 7 batch: 24 current batch loss: 0.038074370473623276\n",
            "epoch: 7 batch: 25 current batch loss: 0.039988525211811066\n",
            "epoch: 7 batch: 26 current batch loss: 0.03127601742744446\n",
            "epoch: 7 batch: 27 current batch loss: 0.03517144173383713\n",
            "epoch: 7 batch: 28 current batch loss: 0.03701981157064438\n",
            "epoch: 7 batch: 29 current batch loss: 0.04913825914263725\n"
          ]
        }
      ]
    },
    {
      "cell_type": "markdown",
      "source": [
        "# Testing\n",
        "----------------------\n",
        "\n",
        "Correct the code below so it works."
      ],
      "metadata": {
        "id": "sTe6ViIsHUbV"
      },
      "id": "sTe6ViIsHUbV"
    },
    {
      "cell_type": "code",
      "source": [
        "good = 0\n",
        "wrong = 0\n",
        "\n",
        "net.eval()              #it notifies the network layers (especially batchnorm or dropout layers, which we don't use in this example) that we are doing evaluation\n",
        "with torch.no_grad():   #it prevents that the net learns during evalution. The gradients are not computed, so this makes it faster, too\n",
        "    for batch, data in enumerate(testloader): #batches in test are of size 1\n",
        "        datapoint, label = data\n",
        "\n",
        "        prediction = net(datapoint.to(device))                  #prediction has values representing the \"prevalence\" of the corresponding class\n",
        "        classification = torch.argmax(prediction)    #the class is the index of maximal \"prevalence\"\n",
        "\n",
        "        if classification.item() == label.item():\n",
        "            good += 1\n",
        "        else:\n",
        "            wrong += 1\n",
        "\n",
        "print(\"accuracy = \", good/(good+wrong))"
      ],
      "metadata": {
        "id": "jcPek-rrHYMi",
        "outputId": "ab58e084-e603-4b48-f873-397922f00430",
        "colab": {
          "base_uri": "https://localhost:8080/"
        }
      },
      "id": "jcPek-rrHYMi",
      "execution_count": 8,
      "outputs": [
        {
          "output_type": "stream",
          "name": "stdout",
          "text": [
            "accuracy =  0.981\n"
          ]
        }
      ]
    },
    {
      "cell_type": "markdown",
      "source": [
        "# **Homework Assignment - *Do Androids Dream of Electric Sheep?***\n",
        "\n",
        "-------------------------------------  \n",
        "\n",
        "\"Do Androids Dream of Electric Sheep?\" – the famous title of Philip K. Dick’s novel – raises a fascinating question: if artificial intelligence could dream, what would it see?  \n",
        "\n",
        "In this assignment, we explore a phenomenon known as **neural network dreams**, where instead of optimizing a neural network's weights, we **optimize the input itself** to achieve a desired classification outcome. Given a fully trained MNIST classification network, your goal is to manipulate its inputs so that it confidently predicts each digit from 0 to 9, starting from pure noise.  \n",
        "\n",
        "## **Tasks Description**  \n",
        "\n",
        "During this class we designed and trained a **MNIST classification neural network**, which takes a **batch of grayscale images** of size **$28 \\times 28$** as input and outputs a probability distribution over the 10 digit classes (0–9). However, instead of using real MNIST images, you will **treat the input batch itself as a set of trainable parameters** and optimize it so that the network classifies each image as a specific digit.  \n",
        "\n"
      ],
      "metadata": {
        "id": "ZJ5c7P6ChB3e"
      },
      "id": "ZJ5c7P6ChB3e"
    },
    {
      "cell_type": "markdown",
      "source": [
        "----------------------------------\n",
        "**1**. Your first task is to generate **a batch of 10 images**, where each image is\n",
        "   classified as one of the digits **0, 1, 2, ..., 9**, starting from an initial batch of ten random Gaussian noise images.  \n",
        "\n",
        "   Discuss the following question: do the generated images resemble real MNIST digits? Why or why not?\n",
        "\n",
        "### **Optimization Process for Task 1**  \n",
        "\n",
        "1. Start with a **batch of 10 random Gaussian noise images** as the initial input and $(0, 1, 2, \\ldots, 9)$ as the expected output batch of target digits.  \n",
        "2. Define the objective: maximize the neural network's confidence for the corresponding target digit for each image in the batch.  \n",
        "3. Use **gradient descent** to modify the pixels in each image, making the network classify each one as the assigned digit.  \n",
        "4. Repeat until the network assigns suffieciently high confidence to each image’s target class."
      ],
      "metadata": {
        "id": "sc8cLC0dKyp3"
      },
      "id": "sc8cLC0dKyp3"
    },
    {
      "cell_type": "code",
      "source": [
        "import torch.nn.functional as F\n",
        "import matplotlib.pyplot as plt\n",
        "\n",
        "# Use the same device as your model\n",
        "device = torch.device(\"cuda\" if torch.cuda.is_available() else \"cpu\")\n",
        "print(f\"Generating images on {device}\")\n",
        "\n",
        "# Define target labels 0–9 and move to the same device\n",
        "targets = torch.arange(10, device=device)\n",
        "\n",
        "# ✅ Create one tensor of shape (10, 1, 28, 28)\n",
        "images = torch.randn((10, 1, 28, 28), device=device, requires_grad=True)\n",
        "\n",
        "# Optimizer on this single tensor\n",
        "optimizer = torch.optim.Adam([images], lr=0.1)\n",
        "\n",
        "# Evaluation mode\n",
        "net.eval()\n",
        "\n",
        "# Optimization loop\n",
        "for step in range(20000):\n",
        "    optimizer.zero_grad()\n",
        "    outputs = net(images)\n",
        "    loss = F.cross_entropy(outputs, targets)\n",
        "    loss.backward()\n",
        "    optimizer.step()\n",
        "\n",
        "# Detach and prepare images for plotting\n",
        "final_images = images.detach().clamp(0, 1).cpu()\n",
        "\n",
        "# Check classification form\n",
        "with torch.no_grad():\n",
        "    preds = net(images).argmax(dim=1)\n",
        "    print(\"Predicted labels:\", preds)\n",
        "    print(\"Target labels:   \", targets)\n",
        "\n",
        "# Plot results\n",
        "import matplotlib.pyplot as plt\n",
        "\n",
        "fig, axes = plt.subplots(2, 5, figsize=(10, 4))\n",
        "for i, ax in enumerate(axes.flat):\n",
        "    ax.imshow(final_images[i][0], cmap='gray')\n",
        "    ax.axis('off')\n",
        "    ax.set_title(f\"{i} → {preds[i].item()}\")\n",
        "plt.tight_layout()\n",
        "plt.show()\n"
      ],
      "metadata": {
        "id": "ZHuTOTGflYj7",
        "outputId": "8e9031ab-c3e0-464d-c671-ca24bdb6ff47",
        "colab": {
          "base_uri": "https://localhost:8080/",
          "height": 365
        }
      },
      "id": "ZHuTOTGflYj7",
      "execution_count": 16,
      "outputs": [
        {
          "output_type": "stream",
          "name": "stdout",
          "text": [
            "Generating images on cuda\n",
            "Predicted labels: tensor([0, 1, 2, 3, 4, 5, 6, 7, 8, 9], device='cuda:0')\n",
            "Target labels:    tensor([0, 1, 2, 3, 4, 5, 6, 7, 8, 9], device='cuda:0')\n"
          ]
        },
        {
          "output_type": "display_data",
          "data": {
            "text/plain": [
              "<Figure size 1000x400 with 10 Axes>"
            ],
            "image/png": "[encoded data removed]"
          },
          "metadata": {}
        }
      ]
    },
    {
      "cell_type": "markdown",
      "source": [
        "---------------------------------------\n",
        "2. Discuss, how you would approach a second task of\n",
        "   generating an image that   \n",
        "   bares similarity to two or more digits simultaneously. **Implement your idea to see the results.**"
      ],
      "metadata": {
        "id": "iLkAf_QHMvdv"
      },
      "id": "iLkAf_QHMvdv"
    },
    {
      "cell_type": "markdown",
      "source": [
        "We could set the target probabilities of two numbers as $\\frac{1}{2}$ and zero the rest. Then perform the optimization process as before but with a difference, that the loss will bo wrt. image probability. We then have to use different loss - not cross entrophy since we're not tagreting input and labels but probability. Natural choise is then Kullback-Laiber divergence from **torch.nn.functional.kl_div**.\n",
        "\n",
        "\n"
      ],
      "metadata": {
        "id": "U44Oo-WQWggH"
      },
      "id": "U44Oo-WQWggH"
    },
    {
      "cell_type": "code",
      "source": [
        "# Task 2: Generate a hybrid digit (e.g., 3 and 5)\n",
        "device = torch.device(\"cuda\" if torch.cuda.is_available() else \"cpu\")\n",
        "net.eval()\n",
        "\n",
        "# Initialize image with noise\n",
        "image = torch.randn((1, 1, 28, 28), device=device, requires_grad=True)\n",
        "\n",
        "# Target distribution (equal probability for classes 3 and 5)\n",
        "target_probs = torch.zeros(10, device=device)\n",
        "target_probs[[3, 5]] = 0.5\n",
        "target_probs = target_probs.unsqueeze(0)  # Add batch dimension\n",
        "\n",
        "optimizer = torch.optim.Adam([image], lr=0.1)\n",
        "\n",
        "for step in range(1000):\n",
        "    optimizer.zero_grad()\n",
        "    outputs = net(image)\n",
        "    log_probs = F.log_softmax(outputs, dim=1)\n",
        "    loss = F.kl_div(log_probs, target_probs, reduction='batchmean')\n",
        "    loss.backward()\n",
        "    optimizer.step()\n",
        "\n",
        "# Visualize and check probabilities\n",
        "final_image = image.detach().clamp(0, 1).cpu()\n",
        "plt.imshow(final_image[0][0], cmap='gray', vmin=0, vmax=1)\n",
        "plt.axis('off')\n",
        "plt.title(\"Hybrid 3-5\")\n",
        "plt.show()\n",
        "\n",
        "with torch.no_grad():\n",
        "    outputs = net(image)\n",
        "    probs = F.softmax(outputs, dim=1)\n",
        "    print(\"Class probabilities:\", probs[0].cpu().numpy().round(3))\n",
        "    print(\"Target probabilities:\", target_probs[0].cpu().numpy().round(3))\n",
        "    print(\"Loss:\", loss.item())\n",
        "    print(\"Max probability:\", probs[0].max().item())\n",
        "    print(\"Max target probability:\", target_probs[0].max().item())\n",
        "    print(\"Max difference:\", (probs[0] - target_probs[0]).abs().max().item())\n",
        "    print(\"Difference between max probabilities:\", (probs[0].max() - target_probs[0].max()).abs().item())\n"
      ],
      "metadata": {
        "id": "iFXD21oktx_y",
        "outputId": "15def593-bfc5-4347-815d-6cbb1f7e8629",
        "colab": {
          "base_uri": "https://localhost:8080/",
          "height": 556
        }
      },
      "id": "iFXD21oktx_y",
      "execution_count": null,
      "outputs": [
        {
          "output_type": "display_data",
          "data": {
            "text/plain": [
              "<Figure size 640x480 with 1 Axes>"
            ],
            "image/png": "[encoded data removed]"
          },
          "metadata": {}
        },
        {
          "output_type": "stream",
          "name": "stdout",
          "text": [
            "Class probabilities: [0.    0.    0.    0.468 0.    0.532 0.    0.    0.    0.   ]\n",
            "Target probabilities: [0.  0.  0.  0.5 0.  0.5 0.  0.  0.  0. ]\n",
            "Loss: 0.0017769336700439453\n",
            "Max probability: 0.5323714017868042\n",
            "Max target probability: 0.5\n",
            "Max difference: 0.03238651156425476\n",
            "Difference between max probabilities: 0.0323714017868042\n"
          ]
        }
      ]
    },
    {
      "cell_type": "markdown",
      "source": [
        "------------------------------------------\n",
        "3. Third task: repeat the previous tasks with an additional L2 penalty on noise within the images. Experiment with adding `lambda_l2 * dreamed_input_batch.pow(2).mean()` loss term, with `lambda_l2` being the penalty cooefficient within an exponential progression, say from 0.001 to 10.0. Are the new digits recognized correctly? How does the penalty impact the digit quality? Explain."
      ],
      "metadata": {
        "id": "xdfHzss5PttV"
      },
      "id": "xdfHzss5PttV"
    },
    {
      "cell_type": "code",
      "source": [
        "# Task 3: L2 Regularization Experiment\n",
        "lambdas = [0.001, 0.01, 0.1, 1.0, 10.0]\n",
        "results = {}\n",
        "\n",
        "for lambda_l2 in lambdas:\n",
        "    print(f\"\\nExperimenting with λ = {lambda_l2}\")\n",
        "    images = torch.randn((10, 1, 28, 28), device=device, requires_grad=True)\n",
        "    targets = torch.arange(10, device=device)\n",
        "\n",
        "    optimizer = torch.optim.Adam([images], lr=0.1)\n",
        "\n",
        "    for step in range(1000):\n",
        "        optimizer.zero_grad()\n",
        "        outputs = net(images)\n",
        "        ce_loss = -F.cross_entropy(outputs, targets)\n",
        "        l2_loss = lambda_l2 * images.pow(2).mean()\n",
        "        total_loss = ce_loss + l2_loss\n",
        "        total_loss.backward()\n",
        "        optimizer.step()\n",
        "\n",
        "    # Store results\n",
        "    final_images = images.detach().clamp(0, 1).cpu()\n",
        "    with torch.no_grad():\n",
        "        probs = F.softmax(net(images), dim=1)\n",
        "        confidence = probs[torch.arange(10), targets].mean().item()\n",
        "\n",
        "    results[lambda_l2] = {\n",
        "        'images': final_images,\n",
        "        'confidence': confidence\n",
        "    }\n",
        "\n",
        "# Visualization\n",
        "fig, axs = plt.subplots(len(lambdas), 10, figsize=(15, 2*len(lambdas)))\n",
        "for i, (lambda_l2, result) in enumerate(results.items()):\n",
        "    for j in range(10):\n",
        "        axs[i,j].imshow(result['images'][j][0], cmap='gray')\n",
        "        axs[i,j].axis('off')\n",
        "    axs[i,0].set_ylabel(f\"λ={lambda_l2}\\nConf: {result['confidence']:.2f}\", rotation=0, ha='right')\n",
        "plt.tight_layout()\n",
        "plt.show()\n"
      ],
      "metadata": {
        "id": "M_7hrOCmPtJ1",
        "outputId": "e40af714-ac23-4f5b-9170-459da0eedf5e",
        "colab": {
          "base_uri": "https://localhost:8080/",
          "height": 642
        }
      },
      "id": "M_7hrOCmPtJ1",
      "execution_count": null,
      "outputs": [
        {
          "output_type": "stream",
          "name": "stdout",
          "text": [
            "\n",
            "Experimenting with λ = 0.001\n",
            "\n",
            "Experimenting with λ = 0.01\n",
            "\n",
            "Experimenting with λ = 0.1\n",
            "\n",
            "Experimenting with λ = 1.0\n",
            "\n",
            "Experimenting with λ = 10.0\n"
          ]
        },
        {
          "output_type": "display_data",
          "data": {
            "text/plain": [
              "<Figure size 1500x1000 with 50 Axes>"
            ],
            "image/png": "[encoded data removed]"
          },
          "metadata": {}
        }
      ]
    },
    {
      "cell_type": "markdown",
      "source": [
        "Unfortunatelly, the images are not clear to read and to interpret. Higher $\\lambda$ seems to work better - pixels seem to have little better quality (to my eye). The best $\\lambda$ seem to be somwere in the middle - 0.1, where there is reduced noise while maintaining digit structure and the digits here are simmilar to those we trained in part 1."
      ],
      "metadata": {
        "id": "Agp-1TwdbMXI"
      },
      "id": "Agp-1TwdbMXI"
    }
  ],
  "metadata": {
    "colab": {
      "provenance": [],
      "gpuType": "T4",
      "include_colab_link": true
    },
    "language_info": {
      "name": "python"
    },
    "kernelspec": {
      "name": "python3",
      "display_name": "Python 3"
    },
    "accelerator": "GPU"
  },
  "nbformat": 4,
  "nbformat_minor": 5
}