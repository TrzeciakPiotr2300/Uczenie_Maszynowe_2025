{
  "cells": [
    {
      "cell_type": "markdown",
      "metadata": {
        "id": "view-in-github",
        "colab_type": "text"
      },
      "source": [
        "<a href=\"https://colab.research.google.com/github/TrzeciakPiotr2300/Uczenie_Maszynowe_2025/blob/main/HW10-convolutional-neural-network-CNN.ipynb\" target=\"_parent\"><img src=\"https://colab.research.google.com/assets/colab-badge.svg\" alt=\"Open In Colab\"/></a>"
      ]
    },
    {
      "cell_type": "markdown",
      "source": [
        "# Reading MNIST Dataset\n",
        "----------------------------------"
      ],
      "metadata": {
        "id": "jBj9rZpumQ2a"
      },
      "id": "jBj9rZpumQ2a"
    },
    {
      "cell_type": "code",
      "source": [
        "import torch\n",
        "import torchvision\n",
        "from matplotlib import pyplot\n",
        "\n",
        "transform = torchvision.transforms.Compose(\n",
        "    [ torchvision.transforms.ToTensor(), #Converts a PIL Image or numpy.ndarray (H x W x C) in the range [0, 255] to a torch.FloatTensor of shape (C x H x W) in the range [0.0, 1.0]\n",
        "      torchvision.transforms.Normalize((0.1307), (0.3081))])\n",
        "\n",
        "trainset = torchvision.datasets.MNIST(root='./data',\n",
        "                                      train=True,\n",
        "                                      download=True,\n",
        "                                      transform=transform)\n",
        "\n",
        "trainloader = torch.utils.data.DataLoader(trainset,\n",
        "                                          batch_size=2048,\n",
        "                                          shuffle=True)   #we do shuffle it to give more randomizations to training epochs\n",
        "\n",
        "testset = torchvision.datasets.MNIST(root='./data',\n",
        "                                     train=False,\n",
        "                                     download=True,\n",
        "                                     transform=transform)\n",
        "\n",
        "testloader = torch.utils.data.DataLoader(testset,\n",
        "                                         batch_size=1,\n",
        "                                         shuffle=False)"
      ],
      "metadata": {
        "id": "K_b3NgK0mT9C"
      },
      "id": "K_b3NgK0mT9C",
      "execution_count": 1,
      "outputs": []
    },
    {
      "cell_type": "markdown",
      "source": [
        "\n",
        "## Definition of LeNet-5\n",
        "Wiki definition [here](https://en.wikipedia.org/wiki/LeNet#/media/File:Comparison_image_neural_networks.svg).\n"
      ],
      "metadata": {
        "id": "YAihBeAxndOm"
      },
      "id": "YAihBeAxndOm"
    },
    {
      "cell_type": "code",
      "source": [
        "import torch.nn as nn\n",
        "import torch.nn.functional as F\n",
        "\n",
        "class LeNet5(torch.nn.Module):\n",
        "    def __init__(self):\n",
        "        super().__init__()\n",
        "\n",
        "        # Convolutional layers\n",
        "        self.conv1 = nn.Conv2d(in_channels=1, out_channels=6, kernel_size=5, stride=1, padding=2)  # With padding=2\n",
        "        self.pool1 = nn.AvgPool2d(kernel_size=2, stride=2)  # Average pooling instead of max\n",
        "        self.conv2 = nn.Conv2d(in_channels=6, out_channels=16, kernel_size=5, stride=1, padding=0)  # No padding\n",
        "        self.pool2 = nn.AvgPool2d(kernel_size=2, stride=2)  # Average pooling instead of max\n",
        "\n",
        "        # Fully connected layers\n",
        "        self.fc1 = nn.Linear(16 * 5 * 5, 120)  # Input size after conv and pooling: 16 feature maps of 5x5\n",
        "        self.fc2 = nn.Linear(120, 84)\n",
        "        self.fc3 = nn.Linear(84, 10)  # Output: 10 classes (digits 0-9)\n",
        "\n",
        "        # Dropout for regularization\n",
        "        self.dropout = torch.nn.Dropout(0.05)\n",
        "\n",
        "    def forward(self, x):\n",
        "        # First convolution block\n",
        "        x = self.conv1(x)        # Convolution\n",
        "        x = torch.sigmoid(x)     # Sigmoid activation\n",
        "        x = self.pool1(x)        # Average Pooling\n",
        "\n",
        "        # Second convolution block\n",
        "        x = self.conv2(x)        # Convolution\n",
        "        x = torch.sigmoid(x)     # Sigmoid activation\n",
        "        x = self.pool2(x)        # Average Pooling\n",
        "\n",
        "        # Flatten the output for the fully connected layers\n",
        "        x = x.view(-1, 16 * 5 * 5)\n",
        "\n",
        "        # Fully connected layers\n",
        "        x = torch.sigmoid(self.fc1(x))\n",
        "        x = torch.sigmoid(self.fc2(x))\n",
        "        x = self.dropout(x)\n",
        "        x = self.fc3(x)\n",
        "\n",
        "        return x"
      ],
      "metadata": {
        "id": "ObfWBGk8nZl_"
      },
      "id": "ObfWBGk8nZl_",
      "execution_count": 2,
      "outputs": []
    },
    {
      "cell_type": "markdown",
      "source": [
        "# Training Loop\n",
        "----------------------"
      ],
      "metadata": {
        "id": "NFBpFy6FqLhL"
      },
      "id": "NFBpFy6FqLhL"
    },
    {
      "cell_type": "code",
      "source": [
        "import random\n",
        "# Check if GPU is available\n",
        "device = torch.device(\"cuda\" if torch.cuda.is_available() else \"cpu\")\n",
        "print(f\"Working on {device}\")\n",
        "\n",
        "net = LeNet5().to(device)\n",
        "optimizer = torch.optim.Adam(net.parameters(), 0.001)   #initial and fixed learning rate of 0.001.\n",
        "\n",
        "losses = []\n",
        "net.train()    #it notifies the network layers (especially batchnorm or dropout layers, which we don't use in this example) that we are doing traning\n",
        "for epoch in range(16):  #  an epoch is a training run through the whole data set\n",
        "\n",
        "    for batch, data in enumerate(trainloader):\n",
        "        batch_inputs, batch_labels = data\n",
        "\n",
        "        batch_inputs = batch_inputs.to(device)  #explicitly moving the data to the target device\n",
        "        batch_labels = batch_labels.to(device)\n",
        "\n",
        "        optimizer.zero_grad()\n",
        "\n",
        "        batch_outputs = net(batch_inputs)   #this line calls the forward(self, x) method of the LeNet5 object. Please note,\n",
        "                                            # the nonlinear activation after the last layer is NOT applied\n",
        "        loss = torch.nn.functional.cross_entropy(batch_outputs, batch_labels, reduction = \"mean\") #instead, nonlinear softmax is applied internally in THIS loss function\n",
        "        losses.append(loss.item())\n",
        "        if (batch % 30 == 0) or (batch % 30 == 10) or (batch == 20):\n",
        "            print(\"epoch:\", epoch, \"batch:\", batch, \"current batch loss:\", loss.item())\n",
        "        loss.backward()       #this computes gradients as we have seen in previous workshops\n",
        "        optimizer.step()     #but this line in fact updates our neural network.\n",
        "                                ####You can experiment - comment this line and check, that the loss DOE"
      ],
      "metadata": {
        "id": "uyEA3Qk3qMj6",
        "outputId": "b42160d1-9f67-4b3a-a237-cb60134b2a0a",
        "colab": {
          "base_uri": "https://localhost:8080/"
        }
      },
      "id": "uyEA3Qk3qMj6",
      "execution_count": 3,
      "outputs": [
        {
          "output_type": "stream",
          "name": "stdout",
          "text": [
            "Working on cuda\n",
            "epoch: 0 batch: 0 current batch loss: 2.329934597015381\n",
            "epoch: 0 batch: 10 current batch loss: 2.2992019653320312\n",
            "epoch: 0 batch: 20 current batch loss: 2.305398941040039\n",
            "epoch: 1 batch: 0 current batch loss: 2.3020591735839844\n",
            "epoch: 1 batch: 10 current batch loss: 2.3033549785614014\n",
            "epoch: 1 batch: 20 current batch loss: 2.294013738632202\n",
            "epoch: 2 batch: 0 current batch loss: 2.27799129486084\n",
            "epoch: 2 batch: 10 current batch loss: 2.2296924591064453\n",
            "epoch: 2 batch: 20 current batch loss: 2.1204421520233154\n",
            "epoch: 3 batch: 0 current batch loss: 1.9045616388320923\n",
            "epoch: 3 batch: 10 current batch loss: 1.6452714204788208\n",
            "epoch: 3 batch: 20 current batch loss: 1.4484378099441528\n",
            "epoch: 4 batch: 0 current batch loss: 1.252779245376587\n",
            "epoch: 4 batch: 10 current batch loss: 1.1263514757156372\n",
            "epoch: 4 batch: 20 current batch loss: 1.0253961086273193\n",
            "epoch: 5 batch: 0 current batch loss: 0.8961681723594666\n",
            "epoch: 5 batch: 10 current batch loss: 0.8368596434593201\n",
            "epoch: 5 batch: 20 current batch loss: 0.7902981042861938\n",
            "epoch: 6 batch: 0 current batch loss: 0.7398781180381775\n",
            "epoch: 6 batch: 10 current batch loss: 0.6764038801193237\n",
            "epoch: 6 batch: 20 current batch loss: 0.6261886954307556\n",
            "epoch: 7 batch: 0 current batch loss: 0.5864095687866211\n",
            "epoch: 7 batch: 10 current batch loss: 0.5418234467506409\n",
            "epoch: 7 batch: 20 current batch loss: 0.5234304666519165\n",
            "epoch: 8 batch: 0 current batch loss: 0.4733406901359558\n",
            "epoch: 8 batch: 10 current batch loss: 0.47348833084106445\n",
            "epoch: 8 batch: 20 current batch loss: 0.43255069851875305\n",
            "epoch: 9 batch: 0 current batch loss: 0.4051579236984253\n",
            "epoch: 9 batch: 10 current batch loss: 0.3856123685836792\n",
            "epoch: 9 batch: 20 current batch loss: 0.3990277349948883\n",
            "epoch: 10 batch: 0 current batch loss: 0.35587817430496216\n",
            "epoch: 10 batch: 10 current batch loss: 0.3532700538635254\n",
            "epoch: 10 batch: 20 current batch loss: 0.3289299011230469\n",
            "epoch: 11 batch: 0 current batch loss: 0.29113712906837463\n",
            "epoch: 11 batch: 10 current batch loss: 0.28976181149482727\n",
            "epoch: 11 batch: 20 current batch loss: 0.29992878437042236\n",
            "epoch: 12 batch: 0 current batch loss: 0.27878671884536743\n",
            "epoch: 12 batch: 10 current batch loss: 0.2825474739074707\n",
            "epoch: 12 batch: 20 current batch loss: 0.2759285867214203\n",
            "epoch: 13 batch: 0 current batch loss: 0.2977917194366455\n",
            "epoch: 13 batch: 10 current batch loss: 0.24257491528987885\n",
            "epoch: 13 batch: 20 current batch loss: 0.24833732843399048\n",
            "epoch: 14 batch: 0 current batch loss: 0.2823633849620819\n",
            "epoch: 14 batch: 10 current batch loss: 0.22125373780727386\n",
            "epoch: 14 batch: 20 current batch loss: 0.25500544905662537\n",
            "epoch: 15 batch: 0 current batch loss: 0.2168682962656021\n",
            "epoch: 15 batch: 10 current batch loss: 0.22450588643550873\n",
            "epoch: 15 batch: 20 current batch loss: 0.17796050012111664\n"
          ]
        }
      ]
    },
    {
      "cell_type": "code",
      "source": [
        "import matplotlib.pyplot as plt\n",
        "\n",
        "plt.plot(losses)\n",
        "plt.show()"
      ],
      "metadata": {
        "id": "vV0xKOijsgF7",
        "outputId": "f85ff2b5-6c06-41d6-e9f5-14c5a9e61303",
        "colab": {
          "base_uri": "https://localhost:8080/",
          "height": 430
        }
      },
      "id": "vV0xKOijsgF7",
      "execution_count": 4,
      "outputs": [
        {
          "output_type": "display_data",
          "data": {
            "text/plain": [
              "<Figure size 640x480 with 1 Axes>"
            ],
            "image/png": "[encoded data removed]"
          },
          "metadata": {}
        }
      ]
    },
    {
      "cell_type": "markdown",
      "source": [
        "# Testing\n",
        "----------------------"
      ],
      "metadata": {
        "id": "E2IB8sviqsir"
      },
      "id": "E2IB8sviqsir"
    },
    {
      "cell_type": "code",
      "source": [
        "good = 0\n",
        "wrong = 0\n",
        "\n",
        "net.eval()              #it notifies the network layers (especially batchnorm or dropout layers, which we don't use in this example) that we are doing evaluation\n",
        "with torch.no_grad():   #it prevents that the net learns during evalution. The gradients are not computed, so this makes it faster, too\n",
        "    for batch, data in enumerate(testloader): #batches in test are of size 1\n",
        "        datapoint, label = data\n",
        "\n",
        "        prediction = net(datapoint.to(device))                  #prediction has values representing the \"prevalence\" of the corresponding class\n",
        "        classification = torch.argmax(prediction)    #the class is the index of maximal \"prevalence\"\n",
        "\n",
        "        if classification.item() == label.item():\n",
        "            good += 1\n",
        "        else:\n",
        "            wrong += 1\n",
        "\n",
        "print(\"accuracy = \", good/(good+wrong))"
      ],
      "metadata": {
        "id": "ubj7gcEjrs50",
        "outputId": "e186bbb7-199d-40bb-88d8-6cd41b31a42d",
        "colab": {
          "base_uri": "https://localhost:8080/"
        }
      },
      "id": "ubj7gcEjrs50",
      "execution_count": 5,
      "outputs": [
        {
          "output_type": "stream",
          "name": "stdout",
          "text": [
            "accuracy =  0.942\n"
          ]
        }
      ]
    },
    {
      "cell_type": "markdown",
      "source": [
        "# Understanding Kernel Size, Stride and Padding"
      ],
      "metadata": {
        "id": "WPLFqVFCddlv"
      },
      "id": "WPLFqVFCddlv"
    },
    {
      "cell_type": "markdown",
      "source": [
        "## Task: Designing a Convolutional Neural Network with a Target Receptive Field\n",
        "\n",
        "Design a convolutional neural network using only 3×3 or 5×5 convolutional layers and 2×2 max-pooling layers without overlap (i.e., with stride 2). Use no padding in any layer. Insert a max-pooling layer after every two or three convolutional layers.\n",
        "\n",
        "Your goal is to construct an architecture such that the receptive field of each output neuron is approximately 60×60 pixels.\n",
        "\n",
        "Compute the receptive field size of the final output layer.\n",
        "\n",
        "Compute the effective stride of the output layer with respect to the input.\n",
        "\n",
        "Assuming an input image size of 400×400, determine the spatial size of the output feature map.\n",
        "\n",
        "Q: Where would you locate ReLU layers?\n",
        "Q: What if we can't match the desired input size with our architecture?\n",
        "Q: Discuss what possible impact padding can have on the network performance.\n",
        "\n"
      ],
      "metadata": {
        "id": "D8sofeLvdTy9"
      },
      "id": "D8sofeLvdTy9"
    },
    {
      "cell_type": "markdown",
      "source": [
        "# **Homework Assignment – Adversarial Examples. There will be two tasks**\n",
        "\n",
        "In this assignment, you will explore how small (invisible to humans) changes to real digits can _fool_ the CNN into misclassifying them, even though the changes are imperceptible to humans.\n",
        "\n",
        "\n",
        "\n",
        "## Task 1 – CNN Dreams: Last Homework Assignment Revisited\n",
        "\n",
        "\n",
        "1. Starting from ten random noise images, optimize the input so that each image is classified with high confidence as one of the digits 0 through 9.\n",
        "2. Include an **L2 penalty** on the input to keep the images visually closer to realistic digits. Use a range of penalty strengths (e.g., $\\lambda_{l2}$ = 0, and then 0.01 through 10.0).\n",
        "3. Compare the generated images (with and without L2 penalty) to those generated by the MLP:\n",
        "   - Are they more or less readable?\n",
        "   - Do they resemble real MNIST digits more closely or less?\n",
        "   - Why do you think that happens? Consider the CNN’s inductive biases and architectural properties.\n",
        "\n",
        "Use `cross_entropy_loss + lambda_l2 * input.pow(2).mean()` as your objective.\n",
        "\n",
        "Reuse your code: visualize confidence evolution during optimization and generate image grids and (optionally) animations showing how the inputs evolve.\n",
        "\n",
        "\n"
      ],
      "metadata": {
        "id": "2Yt56whYv-Bf"
      },
      "id": "2Yt56whYv-Bf"
    },
    {
      "cell_type": "code",
      "source": [
        "device = torch.device(\"cuda\" if torch.cuda.is_available() else \"cpu\")\n",
        "print(f\"Working on {device}\")\n",
        "\n",
        "images = torch.randn((10, 1 , 28, 28), device=device, requires_grad=True)\n",
        "targets = torch.arange(10, device=device)\n",
        "optimizer = torch.optim.Adam([images], lr=0.001)\n",
        "\n",
        "lambda_l2 = 0.05\n",
        "# Now we perform input image optimisation with additional L2 penalty\n",
        "net.eval()\n",
        "\n",
        "for epoch in range(30000):\n",
        "    optimizer.zero_grad()\n",
        "    outputs = net(images)\n",
        "    loss = torch.nn.functional.cross_entropy(outputs, targets) + lambda_l2 * images.pow(2).mean()\n",
        "    loss.backward()\n",
        "    optimizer.step()\n",
        "    if epoch % 1000 == 0:\n",
        "        print(f\"Epoch {epoch}, Loss: {loss.item()}\")\n",
        "\n",
        "# And finally displaying the images.\n",
        "final_images = images.detach().clamp(0,1).cpu()\n",
        "fig, axs = plt.subplots(2, 5, figsize=(15, 6))\n",
        "for i in range(10):\n",
        "    row = i // 5\n",
        "    col = i % 5\n",
        "    axs[row, col].imshow(final_images[i][0], cmap='gray')\n",
        "    axs[row, col].set_title(f\"Digit: {i}\")\n",
        "    axs[row, col].axis('off')\n",
        "plt.show()"
      ],
      "metadata": {
        "id": "PtqoXgvMJB42",
        "outputId": "5e2faa2f-ee74-457c-85b8-d7597265223d",
        "colab": {
          "base_uri": "https://localhost:8080/",
          "height": 1000
        }
      },
      "id": "PtqoXgvMJB42",
      "execution_count": 16,
      "outputs": [
        {
          "output_type": "stream",
          "name": "stdout",
          "text": [
            "Working on cuda\n",
            "Epoch 0, Loss: 5.130753517150879\n",
            "Epoch 1000, Loss: 0.0800032764673233\n",
            "Epoch 2000, Loss: 0.06422299146652222\n",
            "Epoch 3000, Loss: 0.055577345192432404\n",
            "Epoch 4000, Loss: 0.04804125055670738\n",
            "Epoch 5000, Loss: 0.040699709206819534\n",
            "Epoch 6000, Loss: 0.033575139939785004\n",
            "Epoch 7000, Loss: 0.027032900601625443\n",
            "Epoch 8000, Loss: 0.02153879962861538\n",
            "Epoch 9000, Loss: 0.017446761950850487\n",
            "Epoch 10000, Loss: 0.01484539732336998\n",
            "Epoch 11000, Loss: 0.01350860483944416\n",
            "Epoch 12000, Loss: 0.012989052571356297\n",
            "Epoch 13000, Loss: 0.012846766971051693\n",
            "Epoch 14000, Loss: 0.012821320444345474\n",
            "Epoch 15000, Loss: 0.012818699702620506\n",
            "Epoch 16000, Loss: 0.012818621471524239\n",
            "Epoch 17000, Loss: 0.012818610295653343\n",
            "Epoch 18000, Loss: 0.012818599119782448\n",
            "Epoch 19000, Loss: 0.012818609364330769\n",
            "Epoch 20000, Loss: 0.012818598188459873\n",
            "Epoch 21000, Loss: 0.012818623334169388\n",
            "Epoch 22000, Loss: 0.012818611226975918\n",
            "Epoch 23000, Loss: 0.012818597257137299\n",
            "Epoch 24000, Loss: 0.012818623334169388\n",
            "Epoch 25000, Loss: 0.012818612158298492\n",
            "Epoch 26000, Loss: 0.012818598188459873\n",
            "Epoch 27000, Loss: 0.012818609364330769\n",
            "Epoch 28000, Loss: 0.01281862985342741\n",
            "Epoch 29000, Loss: 0.012818592600524426\n"
          ]
        },
        {
          "output_type": "display_data",
          "data": {
            "text/plain": [
              "<Figure size 1500x600 with 10 Axes>"
            ],
            "image/png": "[encoded data removed]"
          },
          "metadata": {}
        }
      ]
    },
    {
      "cell_type": "markdown",
      "source": [
        "## Task 2 – Adversarial Examples: Fooling LeNet-5\n",
        "\n",
        "This is the core focus of the assignment.\n",
        "\n",
        "Using a batch of **real MNIST digits** (e.g., nine examples per class), craft **adversarial examples** by adding subtle, trained noise to the input images. Your goal is to:\n",
        "\n",
        "- **Keep the human-perceived digit the same** (e.g., a \"7\" should still look like a \"7\"),\n",
        "- But **cause LeNet-5 to misclassify it** – as every other class different from the original, hence nine examples per class.\n",
        "\n",
        "### Objective\n",
        "For each image $x$ and its true label $y$, learn a perturbation $\\delta$ such that:\n",
        "\n",
        "- $\\text{LeNet5}(x + \\delta) = y_{\\text{wrong}} $,\n",
        "- and $ \\|\\delta\\|_2 $ is as small as possible (penalize large perturbations), to keep $x + \\delta$ *look* like $x$ for humans.\n",
        "\n",
        "### Optimization\n",
        "Use gradient-based optimization on $\\delta$ (the noise), while keeping the network weights frozen. Your loss might look like:\n",
        "\n",
        "```\n",
        "loss = cross_entropy(model(x + delta), target_wrong_class) +\n",
        "       lambda_l2 * delta.pow(2).mean()\n",
        "```\n",
        "\n",
        "Tune the $\\lambda_{l2}$ to find the best range.\n",
        "\n",
        "### Deliverables for the Second Task\n",
        "- Select some best examples, showing the original digit and its (correct) classification and the perturbed digit (hopefully, still looking the same to humans) and how it gets misclassified. Show them side by side.\n",
        "- Report:\n",
        "  - Success rate of attacks (it doesn't need to be very formal),\n",
        "  - Effect of $\\lambda_{l2}$ on visibility of the noise and success of misclassification,\n",
        "  - Example image grids and confidence plots.\n"
      ],
      "metadata": {
        "id": "ATMGDy_CI_Qj"
      },
      "id": "ATMGDy_CI_Qj"
    },
    {
      "cell_type": "code",
      "source": [],
      "metadata": {
        "id": "CKURRBPXvXC9"
      },
      "id": "CKURRBPXvXC9",
      "execution_count": null,
      "outputs": []
    }
  ],
  "metadata": {
    "colab": {
      "provenance": [],
      "gpuType": "T4",
      "include_colab_link": true
    },
    "language_info": {
      "name": "python"
    },
    "kernelspec": {
      "name": "python3",
      "display_name": "Python 3"
    },
    "accelerator": "GPU"
  },
  "nbformat": 4,
  "nbformat_minor": 5
}