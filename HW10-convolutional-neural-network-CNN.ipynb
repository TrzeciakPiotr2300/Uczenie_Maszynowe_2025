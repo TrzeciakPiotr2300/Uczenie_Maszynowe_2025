{
  "cells": [
    {
      "cell_type": "markdown",
      "metadata": {
        "id": "view-in-github",
        "colab_type": "text"
      },
      "source": [
        "<a href=\"https://colab.research.google.com/github/TrzeciakPiotr2300/Uczenie_Maszynowe_2025/blob/main/HW10-convolutional-neural-network-CNN.ipynb\" target=\"_parent\"><img src=\"https://colab.research.google.com/assets/colab-badge.svg\" alt=\"Open In Colab\"/></a>"
      ]
    },
    {
      "cell_type": "markdown",
      "source": [
        "# Reading MNIST Dataset\n",
        "----------------------------------"
      ],
      "metadata": {
        "id": "jBj9rZpumQ2a"
      },
      "id": "jBj9rZpumQ2a"
    },
    {
      "cell_type": "code",
      "source": [
        "import torch\n",
        "import torchvision\n",
        "from matplotlib import pyplot\n",
        "\n",
        "transform = torchvision.transforms.Compose(\n",
        "    [ torchvision.transforms.ToTensor(), #Converts a PIL Image or numpy.ndarray (H x W x C) in the range [0, 255] to a torch.FloatTensor of shape (C x H x W) in the range [0.0, 1.0]\n",
        "      torchvision.transforms.Normalize((0.1307), (0.3081))])\n",
        "\n",
        "trainset = torchvision.datasets.MNIST(root='./data',\n",
        "                                      train=True,\n",
        "                                      download=True,\n",
        "                                      transform=transform)\n",
        "\n",
        "trainloader = torch.utils.data.DataLoader(trainset,\n",
        "                                          batch_size=2048,\n",
        "                                          shuffle=True)   #we do shuffle it to give more randomizations to training epochs\n",
        "\n",
        "testset = torchvision.datasets.MNIST(root='./data',\n",
        "                                     train=False,\n",
        "                                     download=True,\n",
        "                                     transform=transform)\n",
        "\n",
        "testloader = torch.utils.data.DataLoader(testset,\n",
        "                                         batch_size=1,\n",
        "                                         shuffle=False)"
      ],
      "metadata": {
        "id": "K_b3NgK0mT9C",
        "outputId": "e8bc46b9-ce2e-477e-e688-9b68fef40c59",
        "colab": {
          "base_uri": "https://localhost:8080/"
        }
      },
      "id": "K_b3NgK0mT9C",
      "execution_count": 4,
      "outputs": [
        {
          "output_type": "stream",
          "name": "stderr",
          "text": [
            "100%|██████████| 9.91M/9.91M [00:00<00:00, 17.7MB/s]\n",
            "100%|██████████| 28.9k/28.9k [00:00<00:00, 481kB/s]\n",
            "100%|██████████| 1.65M/1.65M [00:00<00:00, 4.45MB/s]\n",
            "100%|██████████| 4.54k/4.54k [00:00<00:00, 6.34MB/s]\n"
          ]
        }
      ]
    },
    {
      "cell_type": "markdown",
      "source": [
        "\n",
        "## Definition of LeNet-5\n",
        "Wiki definition [here](https://en.wikipedia.org/wiki/LeNet#/media/File:Comparison_image_neural_networks.svg).\n"
      ],
      "metadata": {
        "id": "YAihBeAxndOm"
      },
      "id": "YAihBeAxndOm"
    },
    {
      "cell_type": "code",
      "source": [
        "import torch.nn as nn\n",
        "import torch.nn.functional as F\n",
        "\n",
        "class LeNet5(torch.nn.Module):\n",
        "    def __init__(self):\n",
        "        super().__init__()\n",
        "\n",
        "        # Convolutional layers\n",
        "        self.conv1 = nn.Conv2d(in_channels=1, out_channels=6, kernel_size=5, stride=1, padding=2)  # With padding=2\n",
        "        self.pool1 = nn.AvgPool2d(kernel_size=2, stride=2)  # Average pooling instead of max\n",
        "        self.conv2 = nn.Conv2d(in_channels=6, out_channels=16, kernel_size=5, stride=1, padding=0)  # No padding\n",
        "        self.pool2 = nn.AvgPool2d(kernel_size=2, stride=2)  # Average pooling instead of max\n",
        "\n",
        "        # Fully connected layers\n",
        "        self.fc1 = nn.Linear(16 * 5 * 5, 120)  # Input size after conv and pooling: 16 feature maps of 5x5\n",
        "        self.fc2 = nn.Linear(120, 84)\n",
        "        self.fc3 = nn.Linear(84, 10)  # Output: 10 classes (digits 0-9)\n",
        "\n",
        "        # Dropout for regularization\n",
        "        self.dropout = torch.nn.Dropout(0.05)\n",
        "\n",
        "    def forward(self, x):\n",
        "        # First convolution block\n",
        "        x = self.conv1(x)        # Convolution\n",
        "        x = torch.sigmoid(x)     # Sigmoid activation\n",
        "        x = self.pool1(x)        # Average Pooling\n",
        "\n",
        "        # Second convolution block\n",
        "        x = self.conv2(x)        # Convolution\n",
        "        x = torch.sigmoid(x)     # Sigmoid activation\n",
        "        x = self.pool2(x)        # Average Pooling\n",
        "\n",
        "        # Flatten the output for the fully connected layers\n",
        "        x = x.view(-1, 16 * 5 * 5)\n",
        "\n",
        "        # Fully connected layers\n",
        "        x = torch.sigmoid(self.fc1(x))\n",
        "        x = torch.sigmoid(self.fc2(x))\n",
        "        x = self.dropout(x)\n",
        "        x = self.fc3(x)\n",
        "\n",
        "        return x"
      ],
      "metadata": {
        "id": "ObfWBGk8nZl_"
      },
      "id": "ObfWBGk8nZl_",
      "execution_count": 5,
      "outputs": []
    },
    {
      "cell_type": "markdown",
      "source": [
        "# Training Loop\n",
        "----------------------"
      ],
      "metadata": {
        "id": "NFBpFy6FqLhL"
      },
      "id": "NFBpFy6FqLhL"
    },
    {
      "cell_type": "code",
      "source": [
        "import random\n",
        "# Check if GPU is available\n",
        "device = torch.device(\"cuda\" if torch.cuda.is_available() else \"cpu\")\n",
        "print(f\"Working on {device}\")\n",
        "\n",
        "net = LeNet5().to(device)\n",
        "optimizer = torch.optim.Adam(net.parameters(), 0.001)   #initial and fixed learning rate of 0.001.\n",
        "\n",
        "losses = []\n",
        "net.train()    #it notifies the network layers (especially batchnorm or dropout layers, which we don't use in this example) that we are doing traning\n",
        "for epoch in range(16):  #  an epoch is a training run through the whole data set\n",
        "\n",
        "    for batch, data in enumerate(trainloader):\n",
        "        batch_inputs, batch_labels = data\n",
        "\n",
        "        batch_inputs = batch_inputs.to(device)  #explicitly moving the data to the target device\n",
        "        batch_labels = batch_labels.to(device)\n",
        "\n",
        "        optimizer.zero_grad()\n",
        "\n",
        "        batch_outputs = net(batch_inputs)   #this line calls the forward(self, x) method of the LeNet5 object. Please note,\n",
        "                                            # the nonlinear activation after the last layer is NOT applied\n",
        "        loss = torch.nn.functional.cross_entropy(batch_outputs, batch_labels, reduction = \"mean\") #instead, nonlinear softmax is applied internally in THIS loss function\n",
        "        losses.append(loss.item())\n",
        "        if abs(random.random()) < 0.05:\n",
        "            print(\"epoch:\", epoch, \"batch:\", batch, \"current batch loss:\", loss.item())\n",
        "        loss.backward()       #this computes gradients as we have seen in previous workshops\n",
        "        optimizer.step()     #but this line in fact updates our neural network.\n",
        "                                ####You can experiment - comment this line and check, that the loss DOE"
      ],
      "metadata": {
        "id": "uyEA3Qk3qMj6",
        "outputId": "0394d2ac-ecda-4428-898b-8e66c3b6e4e3",
        "colab": {
          "base_uri": "https://localhost:8080/"
        }
      },
      "id": "uyEA3Qk3qMj6",
      "execution_count": 9,
      "outputs": [
        {
          "output_type": "stream",
          "name": "stdout",
          "text": [
            "Working on cuda\n",
            "epoch: 0 batch: 4 current batch loss: 2.317669630050659\n",
            "epoch: 0 batch: 23 current batch loss: 2.3055577278137207\n",
            "epoch: 2 batch: 19 current batch loss: 2.2840330600738525\n",
            "epoch: 2 batch: 26 current batch loss: 2.2529637813568115\n",
            "epoch: 4 batch: 24 current batch loss: 1.2112317085266113\n",
            "epoch: 5 batch: 26 current batch loss: 0.8729357719421387\n",
            "epoch: 6 batch: 2 current batch loss: 0.8283593654632568\n",
            "epoch: 6 batch: 5 current batch loss: 0.8132831454277039\n",
            "epoch: 6 batch: 6 current batch loss: 0.7888811230659485\n",
            "epoch: 6 batch: 7 current batch loss: 0.7952579259872437\n",
            "epoch: 6 batch: 11 current batch loss: 0.756628692150116\n",
            "epoch: 6 batch: 23 current batch loss: 0.713529646396637\n",
            "epoch: 7 batch: 0 current batch loss: 0.6289411783218384\n",
            "epoch: 7 batch: 5 current batch loss: 0.6450722217559814\n",
            "epoch: 7 batch: 23 current batch loss: 0.5423305630683899\n",
            "epoch: 8 batch: 1 current batch loss: 0.5468398928642273\n",
            "epoch: 8 batch: 28 current batch loss: 0.41809704899787903\n",
            "epoch: 9 batch: 23 current batch loss: 0.3950572609901428\n",
            "epoch: 10 batch: 0 current batch loss: 0.3816395401954651\n",
            "epoch: 10 batch: 25 current batch loss: 0.33985066413879395\n",
            "epoch: 11 batch: 5 current batch loss: 0.3689701557159424\n",
            "epoch: 11 batch: 9 current batch loss: 0.3477858901023865\n",
            "epoch: 12 batch: 17 current batch loss: 0.264722615480423\n",
            "epoch: 12 batch: 20 current batch loss: 0.26063814759254456\n",
            "epoch: 15 batch: 0 current batch loss: 0.2158503532409668\n",
            "epoch: 15 batch: 3 current batch loss: 0.24490293860435486\n",
            "epoch: 15 batch: 16 current batch loss: 0.22048772871494293\n",
            "epoch: 15 batch: 20 current batch loss: 0.21193547546863556\n"
          ]
        }
      ]
    },
    {
      "cell_type": "code",
      "source": [
        "import matplotlib.pyplot as plt\n",
        "\n",
        "plt.plot(losses)\n",
        "plt.show()"
      ],
      "metadata": {
        "id": "vV0xKOijsgF7",
        "outputId": "89f5f74b-761f-4770-baf7-620cafd66d7a",
        "colab": {
          "base_uri": "https://localhost:8080/",
          "height": 430
        }
      },
      "id": "vV0xKOijsgF7",
      "execution_count": 10,
      "outputs": [
        {
          "output_type": "display_data",
          "data": {
            "text/plain": [
              "<Figure size 640x480 with 1 Axes>"
            ],
            "image/png": "[encoded data removed]"
          },
          "metadata": {}
        }
      ]
    },
    {
      "cell_type": "markdown",
      "source": [
        "# Testing\n",
        "----------------------"
      ],
      "metadata": {
        "id": "E2IB8sviqsir"
      },
      "id": "E2IB8sviqsir"
    },
    {
      "cell_type": "code",
      "source": [
        "good = 0\n",
        "wrong = 0\n",
        "\n",
        "net.eval()              #it notifies the network layers (especially batchnorm or dropout layers, which we don't use in this example) that we are doing evaluation\n",
        "with torch.no_grad():   #it prevents that the net learns during evalution. The gradients are not computed, so this makes it faster, too\n",
        "    for batch, data in enumerate(testloader): #batches in test are of size 1\n",
        "        datapoint, label = data\n",
        "\n",
        "        prediction = net(datapoint.to(device))                  #prediction has values representing the \"prevalence\" of the corresponding class\n",
        "        classification = torch.argmax(prediction)    #the class is the index of maximal \"prevalence\"\n",
        "\n",
        "        if classification.item() == label.item():\n",
        "            good += 1\n",
        "        else:\n",
        "            wrong += 1\n",
        "\n",
        "print(\"accuracy = \", good/(good+wrong))"
      ],
      "metadata": {
        "id": "ubj7gcEjrs50",
        "outputId": "083ef4ad-325f-40f6-8b79-1c4cbb439349",
        "colab": {
          "base_uri": "https://localhost:8080/"
        }
      },
      "id": "ubj7gcEjrs50",
      "execution_count": 11,
      "outputs": [
        {
          "output_type": "stream",
          "name": "stdout",
          "text": [
            "accuracy =  0.9406\n"
          ]
        }
      ]
    },
    {
      "cell_type": "markdown",
      "source": [
        "# Understanding Kernel Size, Stride and Padding"
      ],
      "metadata": {
        "id": "WPLFqVFCddlv"
      },
      "id": "WPLFqVFCddlv"
    },
    {
      "cell_type": "markdown",
      "source": [
        "## Task: Designing a Convolutional Neural Network with a Target Receptive Field\n",
        "\n",
        "Design a convolutional neural network using only 3×3 or 5×5 convolutional layers and 2×2 max-pooling layers without overlap (i.e., with stride 2). Use no padding in any layer. Insert a max-pooling layer after every two or three convolutional layers.\n",
        "\n",
        "Your goal is to construct an architecture such that the receptive field of each output neuron is approximately 60×60 pixels.\n",
        "\n",
        "Compute the receptive field size of the final output layer.\n",
        "\n",
        "Compute the effective stride of the output layer with respect to the input.\n",
        "\n",
        "Assuming an input image size of 400×400, determine the spatial size of the output feature map.\n",
        "\n",
        "Q: Where would you locate ReLU layers?\n",
        "Q: What if we can't match the desired input size with our architecture?\n",
        "Q: Discuss what possible impact padding can have on the network performance.\n",
        "\n"
      ],
      "metadata": {
        "id": "D8sofeLvdTy9"
      },
      "id": "D8sofeLvdTy9"
    },
    {
      "cell_type": "markdown",
      "source": [
        "# **Homework Assignment – Adversarial Examples**\n",
        "\n",
        "In this assignment, you will explore how small (invisible to humans) changes to real digits can _fool_ the CNN into misclassifying them, even though the changes are imperceptible to humans.\n",
        "\n",
        "\n",
        "\n",
        "## Task 1 – CNN Dreams: Last Homework Assignment Revisited\n",
        "\n",
        "\n",
        "1. Starting from ten random noise images, optimize the input so that each image is classified with high confidence as one of the digits 0 through 9.\n",
        "2. Include an **L2 penalty** on the input to keep the images visually closer to realistic digits. Use a range of penalty strengths (e.g., $\\lambda_{l2}$ = 0, and then 0.01 through 10.0).\n",
        "3. Compare the generated images (with and without L2 penalty) to those generated by the MLP:\n",
        "   - Are they more or less readable?\n",
        "   - Do they resemble real MNIST digits more closely or less?\n",
        "   - Why do you think that happens? Consider the CNN’s inductive biases and architectural properties.\n",
        "\n",
        "Use `cross_entropy_loss + lambda_l2 * input.pow(2).mean()` as your objective.\n",
        "\n",
        "Reuse your code: visualize confidence evolution during optimization and generate image grids and (optionally) animations showing how the inputs evolve.\n",
        "\n",
        "\n",
        "## Task 2 – Adversarial Examples: Fooling LeNet-5\n",
        "\n",
        "This is the core focus of the assignment.\n",
        "\n",
        "Using a batch of **real MNIST digits** (e.g., nine examples per class), craft **adversarial examples** by adding subtle, trained noise to the input images. Your goal is to:\n",
        "\n",
        "- **Keep the human-perceived digit the same** (e.g., a \"7\" should still look like a \"7\"),\n",
        "- But **cause LeNet-5 to misclassify it** – as every other class different from the original, hence nine examples per class.\n",
        "\n",
        "### Objective\n",
        "For each image $x$ and its true label $y$, learn a perturbation $\\delta$ such that:\n",
        "\n",
        "- $\\text{LeNet5}(x + \\delta) = y_{\\text{wrong}} $,\n",
        "- and $ \\|\\delta\\|_2 $ is as small as possible (penalize large perturbations), to keep $x + \\delta$ *look* like $x$ for humans.\n",
        "\n",
        "### Optimization\n",
        "Use gradient-based optimization on $\\delta$ (the noise), while keeping the network weights frozen. Your loss might look like:\n",
        "\n",
        "```\n",
        "loss = cross_entropy(model(x + delta), target_wrong_class) +\n",
        "       lambda_l2 * delta.pow(2).mean()\n",
        "```\n",
        "\n",
        "Tune the $\\lambda_{l2}$ to find the best range.\n",
        "\n",
        "### Deliverables for the Second Task\n",
        "- Select some best examples, showing the original digit and its (correct) classification and the perturbed digit (hopefully, still looking the same to humans) and how it gets misclassified. Show them side by side.\n",
        "- Report:\n",
        "  - Success rate of attacks (it doesn't need to be very formal),\n",
        "  - Effect of $\\lambda_{l2}$ on visibility of the noise and success of misclassification,\n",
        "  - Example image grids and confidence plots.\n"
      ],
      "metadata": {
        "id": "2Yt56whYv-Bf"
      },
      "id": "2Yt56whYv-Bf"
    },
    {
      "cell_type": "code",
      "source": [],
      "metadata": {
        "id": "CKURRBPXvXC9"
      },
      "id": "CKURRBPXvXC9",
      "execution_count": null,
      "outputs": []
    }
  ],
  "metadata": {
    "colab": {
      "provenance": [],
      "gpuType": "T4",
      "include_colab_link": true
    },
    "language_info": {
      "name": "python"
    },
    "kernelspec": {
      "name": "python3",
      "display_name": "Python 3"
    },
    "accelerator": "GPU"
  },
  "nbformat": 4,
  "nbformat_minor": 5
}