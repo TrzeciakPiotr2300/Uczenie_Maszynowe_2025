{
  "nbformat": 4,
  "nbformat_minor": 0,
  "metadata": {
    "colab": {
      "provenance": [],
      "gpuType": "T4",
      "authorship_tag": "ABX9TyNCf65Ejk7kICbme7IwKwAR",
      "include_colab_link": true
    },
    "kernelspec": {
      "name": "python3",
      "display_name": "Python 3"
    },
    "language_info": {
      "name": "python"
    },
    "accelerator": "GPU"
  },
  "cells": [
    {
      "cell_type": "markdown",
      "metadata": {
        "id": "view-in-github",
        "colab_type": "text"
      },
      "source": [
        "<a href=\"https://colab.research.google.com/github/TrzeciakPiotr2300/Uczenie_Maszynowe_2025/blob/main/HW13_self_attention.ipynb\" target=\"_parent\"><img src=\"https://colab.research.google.com/assets/colab-badge.svg\" alt=\"Open In Colab\"/></a>"
      ]
    },
    {
      "cell_type": "markdown",
      "source": [
        "Importy:"
      ],
      "metadata": {
        "id": "vQahn9MHqZ7Q"
      }
    },
    {
      "cell_type": "code",
      "execution_count": 2,
      "metadata": {
        "id": "a3rnKeRBp7e5"
      },
      "outputs": [],
      "source": [
        "import torch\n",
        "import torch.nn as nn\n",
        "import torch.nn.functional as F\n",
        "import math\n",
        "import matplotlib.pyplot as plt\n",
        "from torch.utils.data import Dataset, DataLoader\n",
        "from PIL import Image, ImageDraw\n",
        "import numpy as np\n",
        "import random\n",
        "from tqdm import trange, tqdm\n"
      ]
    },
    {
      "cell_type": "markdown",
      "source": [
        "Funkcje i klasy:"
      ],
      "metadata": {
        "id": "Vt6lgmIJqiLG"
      }
    },
    {
      "cell_type": "code",
      "source": [
        "# 1. Fixed function name (custom_set_seed -> set_seed)\n",
        "def set_seed(seed=1):\n",
        "    torch.manual_seed(seed)\n",
        "    random.seed(seed)\n",
        "    np.random.seed(seed)\n",
        "    if torch.cuda.is_available():\n",
        "        torch.cuda.manual_seed_all(seed)\n",
        "\n",
        "# Positional Encoding\n",
        "class PositionalEncoding(nn.Module):\n",
        "    # 2. Fixed special method name (custom___init__ -> __init__)\n",
        "    def __init__(self, dim, max_len):\n",
        "        super().__init__()\n",
        "        pe = torch.zeros(max_len, dim)\n",
        "        position = torch.arange(0, max_len).unsqueeze(1)\n",
        "        div_term = torch.exp(torch.arange(0, dim, 2) * (-math.log(10000.0) / dim))\n",
        "        pe[:, 0::2] = torch.sin(position * div_term)\n",
        "        pe[:, 1::2] = torch.cos(position * div_term)\n",
        "        self.register_buffer('pe', pe.unsqueeze(0))  # 3. Use register_buffer for persistence\n",
        "\n",
        "    # 4. Fixed method name (custom_forward -> forward)\n",
        "    def forward(self, x):\n",
        "        return x + self.pe[:, :x.size(1)]\n",
        "\n",
        "# Self-Attention with Dropout\n",
        "class SelfAttention(nn.Module):\n",
        "    # 5. Fixed special method name\n",
        "    def __init__(self, d_model, k=8, dropout=0.1):  # 6. Fixed parameter name (d_detector_model -> d_model)\n",
        "        super().__init__()\n",
        "        self.q_proj = nn.Linear(d_model, k)\n",
        "        self.k_proj = nn.Linear(d_model, k)\n",
        "        self.v_proj = nn.Linear(d_model, d_model)\n",
        "        self.scale = math.sqrt(k)\n",
        "        self.dropout = nn.Dropout(dropout)\n",
        "\n",
        "    # 7. Fixed method name\n",
        "    def forward(self, x):\n",
        "        Q = self.q_proj(x)\n",
        "        K = self.k_proj(x)\n",
        "        V = self.v_proj(x)\n",
        "        attn = torch.bmm(Q, K.transpose(1, 2)) / self.scale\n",
        "        attn = F.softmax(attn, dim=-1)\n",
        "        attn = self.dropout(attn)\n",
        "        return torch.bmm(attn, V)\n",
        "\n",
        "# Main Model\n",
        "class OddShapeDetector(nn.Module):\n",
        "    # 8. Fixed special method name\n",
        "    def __init__(self):\n",
        "        super().__init__()\n",
        "        self.cnn = nn.Sequential(\n",
        "            nn.Conv2d(1, 16, 5, stride=4, padding=2),\n",
        "            nn.ReLU(),\n",
        "            nn.Conv2d(16, 16, 3, padding=1),\n",
        "            nn.ReLU()\n",
        "        )\n",
        "        self.flatten = nn.Flatten(2)\n",
        "        self.transpose = lambda x: x.transpose(1, 2)\n",
        "        self.pos_enc = PositionalEncoding(dim=16, max_len=256)\n",
        "\n",
        "        self.norm1 = nn.LayerNorm(16)\n",
        "        self.attn = SelfAttention(d_model=16, k=8, dropout=0.1)  # 9. Fixed parameter name\n",
        "        self.norm2 = nn.LayerNorm(16)\n",
        "\n",
        "        self.cls_head = nn.Sequential(\n",
        "            nn.Linear(16, 16),\n",
        "            nn.ReLU(),\n",
        "            nn.Dropout(0.1),\n",
        "            nn.Linear(16, 1)\n",
        "        )\n",
        "        self.offset_head = nn.Sequential(\n",
        "            nn.Linear(16, 16),\n",
        "            nn.ReLU(),\n",
        "            nn.Dropout(0.1),\n",
        "            nn.Linear(16, 2)\n",
        "        )\n",
        "\n",
        "        self.register_buffer(\"grid_centers\", self._make_centers())  # 10. Fixed method name\n",
        "\n",
        "    # 11. Fixed method name (custom__make_centers -> _make_centers)\n",
        "    def _make_centers(self):\n",
        "        coords = torch.linspace(2, 62, 16)\n",
        "        grid_y, grid_x = torch.meshgrid(coords, coords, indexing='ij')\n",
        "        centers = torch.stack([grid_x, grid_y], dim=-1).reshape(-1, 2)\n",
        "        return centers\n",
        "\n",
        "    # 12. Fixed method name\n",
        "    def forward(self, x):\n",
        "        B = x.size(0)\n",
        "        feats = self.cnn(x)\n",
        "        feats = self.flatten(feats)\n",
        "        feats = self.transpose(feats)\n",
        "        feats = self.pos_enc(feats)\n",
        "        feats = self.norm1(feats)\n",
        "        attended = self.attn(feats)\n",
        "        attended = self.norm2(attended)\n",
        "\n",
        "        logits = self.cls_head(attended).squeeze(-1)\n",
        "        probs = F.softmax(logits, dim=-1)\n",
        "        offsets = self.offset_head(attended)\n",
        "\n",
        "        # 13. Fixed broadcasting: (256, 2) -> (1, 256, 2)\n",
        "        centers_expanded = self.grid_centers.unsqueeze(0).expand(B, -1, -1)\n",
        "        pred = (probs.unsqueeze(-1) * (centers_expanded + offsets)).sum(dim=1)\n",
        "        return pred, probs\n"
      ],
      "metadata": {
        "id": "slcYWQ6sqcqR"
      },
      "execution_count": 3,
      "outputs": []
    },
    {
      "cell_type": "markdown",
      "source": [
        "_____________________________________\n",
        "#1. Architektura sieci\n",
        "_____________________________________\n",
        "1. **Wejście**  \n",
        "   Sieć przyjmuje obrazy w odcieniach szarości o wymiarach 64×64 pikseli, reprezentowane jako tensor o kształcie **(B, 1, 64, 64)**, gdzie B to liczność partii (batch size). Każdy piksel jest znormalizowany do zakresu [0, 1], co stabilizuje proces uczenia i pozwala uniknąć problemów z różnymi skalami wartości.\n",
        "\n",
        "2. **Bloki konwolucyjne (CNN)**  \n",
        "   Pierwsza warstwa konwolucyjna transformuje wejście z 1 kanału do 16 kanałów, stosując filtr 5×5, krok (stride) równy 4 i dopełnienie (padding) 2. Dzięki temu rozdzielczość przestrzenna obrazu redukuje się z 64×64 do 16×16, a filtr o większym polu recepcyjnym umożliwia wychwycenie większych struktur. Po każdej konwolucji stosowana jest funkcja aktywacji ReLU, wprowadzająca nieliniowość. Druga warstwa, z filtrami 3×3 i paddingiem 1, utrzymuje rozmiar 16×16, ale umożliwia głębsze kodowanie cech lokalnych poprzez dodatkową konwolucję w obrębie już zredukowanej siatki.\n",
        "\n",
        "3. **Transformacja do sekwencji cech**  \n",
        "   Po przetworzeniu przez bloki CNN uzyskujemy tensor **(B, 16, 16, 16)**. Następnie stosujemy spłaszczanie wzdłuż dwóch ostatnich wymiarów (Flatten), przekształcając go w **(B, 16, 256)**. Kolejna transpozycja zamienia osie, tak by otrzymać **(B, 256, 16)** – 256 elementów sekwencji, z których każdy jest 16-wymiarowym wektorem cech odpowiadającym jednemu „patchowi” 16×16 w oryginalnym obrazie.\n",
        "\n",
        "4. **Kodowanie pozycyjne**  \n",
        "   Aby sieć wiedziała, która pozycja w sekwencji odpowiada której części obrazu, do wektorów cech dodawane jest kodowanie pozycyjne o wymiarze **(1, 256, 16)**. Dla każdej z 256 pozycji generowane są unikalne wzorce sinusoidalne i kosinusoidalne, o skalowaniu bazującym na wykładniku logarytmu z 10000. Dzięki temu sieć zyskuje dostęp do informacji o bezwzględnej pozycji każdego wektora w siatce.\n",
        "\n",
        "5. **Warstwa self-attention**  \n",
        "   Model tworzy trzy projekcje każdego wektora cech: zapytań Q (16→8), kluczy K (16→8) i wartości V (16→16). Następnie oblicza macierz podobieństwa jako iloczyn Q·Kᵀ podzielony przez √8, a softmax normalizuje wyniki wzdłuż drugiego wymiaru, uzyskując wagi atencji. Dodatkowo stosowany jest dropout (0.1), by ograniczyć nadmierne dopasowanie. Na wejściu i wyjściu tej warstwy stosowana jest warstwa normalizująca LayerNorm, co poprawia stabilność uczenia.\n",
        "\n",
        "6. **Głowy predykcyjne**  \n",
        "   Każdy z 256 przetworzonych wektorów cech trafia teraz do dwóch niezależnych MLP:  \n",
        "   - **cls_head**: MLP o architekturze 16→16 (ReLU)→dropout(0.1)→1, zwracające logit, który po softmaxie staje się wagą mówiącą, z jakim prawdopodobieństwem dany patch zawiera odstający kształt.  \n",
        "   - **offset_head**: MLP 16→16 (ReLU)→dropout(0.1)→2, przewidujące przesunięcie (dx, dy) względem środka danego patcha. To przesunięcie pozwala doprecyzować położenie kształtu wewnątrz każdego subregionu.\n",
        "\n",
        "7. **Siatka centrów (grid_centers)**  \n",
        "   W buforze `grid_centers` przechowywana jest stała macierz o kształcie **(256, 2)**, zawierająca współrzędne środków każdego patcha w oryginalnym obrazie. Są one równomiernie rozmieszczone od 2 do 62 pikseli zarówno w osi x, jak i y, co wynika z faktu, że krok konwolucji wynosi 4 px. Dzięki temu znane jest wyjściowe odniesienie, do którego dodawane są przewidywane przesunięcia z `offset_head`.\n",
        "\n",
        "8. **Łączenie wyników w predykcję**  \n",
        "   Dla każdego z 256 patchy obliczamy jego przewidywane centrum, dodając wektor przesunięcia do odpowiadającego punktu z `grid_centers`. Następnie wykonywane jest *miękkie uśrednienie ważone*: każde takie przewidywane położenie mnożone jest przez odpowiadające mu prawdopodobieństwo z `cls_head`, a wyniki sumowane po wszystkich pozycjach. Otrzymujemy w ten sposób jedną, precyzyjną parę współrzędnych (x, y) wskazującą na położenie odstającego kształtu w całym obrazie.\n",
        "\n"
      ],
      "metadata": {
        "id": "K_jCWwVcqtjJ"
      }
    },
    {
      "cell_type": "code",
      "source": [
        "IMAGE_SIZE = 64  # 14. Renamed to avoid conflict\n",
        "SHAPES = (\"circle\", \"square\", \"triangle\")\n",
        "\n",
        "# 15. Fixed function name (custom_draw_shape -> draw_shape)\n",
        "def draw_shape(drawer, shape_type, center_x, center_y, radius):\n",
        "    if shape_type == \"circle\":\n",
        "        drawer.ellipse([center_x - radius, center_y - radius,\n",
        "                        center_x + radius, center_y + radius], fill=\"black\")\n",
        "    elif shape_type == \"square\":\n",
        "        drawer.rectangle([center_x - radius, center_y - radius,\n",
        "                          center_x + radius, center_y + radius], fill=\"black\")\n",
        "    else:  # triangle\n",
        "        drawer.polygon([\n",
        "            (center_x, center_y - radius),\n",
        "            (center_x - radius, center_y + radius),\n",
        "            (center_x + radius, center_y + radius)\n",
        "        ], fill=\"black\")\n",
        "\n",
        "class OddXYDataset(Dataset):\n",
        "    # 16. Fixed special method name\n",
        "    def __init__(self,\n",
        "                 num_samples,\n",
        "                 same_shape_count_range=(3, 6),\n",
        "                 shape_radius_range=(4, 10)):\n",
        "        self.num_samples = num_samples\n",
        "        self.same_shape_count_range = same_shape_count_range\n",
        "        self.radius_min, self.radius_max = shape_radius_range\n",
        "\n",
        "    # 17. Fixed special method name\n",
        "    def __len__(self):\n",
        "        return self.num_samples\n",
        "\n",
        "    # 18. Fixed special method name\n",
        "    def __getitem__(self, idx):\n",
        "        base_shape = random.choice(SHAPES)\n",
        "        odd_shape = random.choice([s for s in SHAPES if s != base_shape])\n",
        "\n",
        "        img = Image.new(\"L\", (IMAGE_SIZE, IMAGE_SIZE), \"white\")\n",
        "        drawer = ImageDraw.Draw(img)\n",
        "\n",
        "        # 19. Fixed function call\n",
        "        for _ in range(random.randint(*self.same_shape_count_range)):\n",
        "            radius = random.randint(self.radius_min, self.radius_max)\n",
        "            cx = random.randint(radius, IMAGE_SIZE - radius - 1)\n",
        "            cy = random.randint(radius, IMAGE_SIZE - radius - 1)\n",
        "            draw_shape(drawer, base_shape, cx, cy, radius)\n",
        "\n",
        "        radius = random.randint(self.radius_min, self.radius_max)\n",
        "        cx = random.randint(radius, IMAGE_SIZE - radius - 1)\n",
        "        cy = random.randint(radius, IMAGE_SIZE - radius - 1)\n",
        "        draw_shape(drawer, odd_shape, cx, cy, radius)\n",
        "\n",
        "        img_tensor = torch.tensor(np.array(img), dtype=torch.float32).unsqueeze(0) / 255.\n",
        "        label_tensor = torch.tensor([cx, cy], dtype=torch.float32)  # 20. Removed unnecessary float()\n",
        "        return img_tensor, label_tensor"
      ],
      "metadata": {
        "id": "TKLfotvUqmRa"
      },
      "execution_count": 4,
      "outputs": []
    },
    {
      "cell_type": "markdown",
      "source": [
        "Funkcje do obliczania RMSE, trenowania i plotowania:"
      ],
      "metadata": {
        "id": "iJnoeP2HrPHp"
      }
    },
    {
      "cell_type": "code",
      "source": [
        "# 21. Fixed function name\n",
        "def compute_rmse(preds, targets):\n",
        "    return torch.sqrt(((preds - targets) ** 2).sum(dim=1)).mean().item()\n",
        "\n",
        "# Training loop\n",
        "# 22. Fixed function name (custom_fit_detector_model -> fit_detector_model)\n",
        "def fit_detector_model(model, train_loader, epochs=100, base_lr=0.001, patience=10):\n",
        "    model.to(device)\n",
        "    optimizer = torch.optim.AdamW(model.parameters(), lr=base_lr, weight_decay=1e-4)\n",
        "    scheduler = torch.optim.lr_scheduler.ReduceLROnPlateau(\n",
        "        optimizer, mode='min', factor=0.1, patience=4, min_lr=1e-6)\n",
        "\n",
        "    loss_fn = nn.MSELoss()\n",
        "    best_rmse = float(\"inf\")\n",
        "    train_hist = []\n",
        "    patience_counter = 0\n",
        "\n",
        "    for epoch in trange(epochs, desc=\"Training Progress\", unit=\"epoch\"):\n",
        "        set_seed(42 + 100 * epoch)\n",
        "        model.train()\n",
        "\n",
        "        for xb, yb in train_loader:\n",
        "            xb, yb = xb.to(device), yb.to(device)\n",
        "            pred, _ = model(xb)\n",
        "            loss = loss_fn(pred, yb)\n",
        "\n",
        "            optimizer.zero_grad()\n",
        "            loss.backward()\n",
        "            torch.nn.utils.clip_grad_norm_(model.parameters(), max_norm=1.0)\n",
        "            optimizer.step()\n",
        "\n",
        "        train_rmse = evaluate_rmse(model, train_loader)\n",
        "        train_hist.append(train_rmse)\n",
        "        tqdm.write(f\"Epoch {epoch+1}/{epochs} | LR: {optimizer.param_groups[0]['lr']:.6f} | Train RMSE: {train_rmse:.2f}\")\n",
        "\n",
        "        if train_rmse < best_rmse:\n",
        "            best_rmse = train_rmse\n",
        "            patience_counter = 0\n",
        "            torch.save({'model': model.state_dict()}, \"checkpoint.pt\")\n",
        "        else:\n",
        "            patience_counter += 1\n",
        "            tqdm.write(f\"No improvement. Patience: {patience_counter}/{patience}\")\n",
        "            if patience_counter >= patience:\n",
        "                tqdm.write(\"Early stopping\")\n",
        "                break\n",
        "\n",
        "        scheduler.step(train_rmse)\n",
        "\n",
        "    return train_hist\n",
        "\n",
        "# 28. Fixed function name\n",
        "def evaluate_rmse(model, loader):\n",
        "    preds, targets = [], []\n",
        "    model.eval()\n",
        "    with torch.no_grad():\n",
        "        for xb, yb in loader:\n",
        "            xb, yb = xb.to(device), yb.to(device)\n",
        "            out, _ = model(xb)\n",
        "            preds.append(out)\n",
        "            targets.append(yb)\n",
        "\n",
        "    # 29. Fixed function name\n",
        "    return compute_rmse(torch.cat(preds), torch.cat(targets))\n",
        "\n",
        "# 30. Fixed function name\n",
        "def plot_rmse(rmse_history):\n",
        "    plt.plot(rmse_history, label='Train RMSE')\n",
        "    plt.axhline(5.0, color='red', linestyle='--', label='Target RMSE=5.0')\n",
        "    plt.axhline(3.0, color='blue', linestyle='--', label='Target RMSE=3.0')\n",
        "    plt.xlabel(\"Epoch\")\n",
        "    plt.ylabel(\"RMSE\")\n",
        "    plt.title(\"Training RMSE\")\n",
        "    plt.legend()\n",
        "    plt.grid(True)\n",
        "    plt.show()"
      ],
      "metadata": {
        "id": "1UAffP58rHAn"
      },
      "execution_count": 5,
      "outputs": []
    },
    {
      "cell_type": "markdown",
      "source": [
        "I ostatecznie wywołanie funkcji:"
      ],
      "metadata": {
        "id": "wU5OZPZ6raFO"
      }
    },
    {
      "cell_type": "code",
      "source": [
        "# Main execution\n",
        "if __name__ == \"__main__\":\n",
        "    set_seed(42)  # 31. Fixed function name\n",
        "    device = torch.device(\"cuda\" if torch.cuda.is_available() else \"cpu\")\n",
        "    print(f\"Using device: {device}\")\n",
        "\n",
        "    train_set = OddXYDataset(num_samples=25000)\n",
        "    train_loader = DataLoader(train_set, batch_size=128, shuffle=True)\n",
        "\n",
        "    model = OddShapeDetector()\n",
        "    rmse_history = fit_detector_model(  # 32. Fixed function name\n",
        "        model,\n",
        "        train_loader,\n",
        "        epochs=30,\n",
        "        base_lr=0.01\n",
        "    )\n",
        "\n",
        "    plot_rmse(rmse_history)  # 33. Fixed function name"
      ],
      "metadata": {
        "colab": {
          "base_uri": "https://localhost:8080/",
          "height": 1000
        },
        "id": "GKGSi_OXrY9A",
        "outputId": "6dbfa356-b001-4ecc-b40d-42e443f56975"
      },
      "execution_count": 8,
      "outputs": [
        {
          "output_type": "stream",
          "name": "stdout",
          "text": [
            "Using device: cuda\n"
          ]
        },
        {
          "output_type": "stream",
          "name": "stderr",
          "text": [
            "Training Progress:   3%|▎         | 1/30 [00:07<03:32,  7.34s/epoch]"
          ]
        },
        {
          "output_type": "stream",
          "name": "stdout",
          "text": [
            "Epoch 1/30 | LR: 0.010000 | Train RMSE: 16.36\n"
          ]
        },
        {
          "output_type": "stream",
          "name": "stderr",
          "text": [
            "Training Progress:   7%|▋         | 2/30 [00:14<03:18,  7.09s/epoch]"
          ]
        },
        {
          "output_type": "stream",
          "name": "stdout",
          "text": [
            "Epoch 2/30 | LR: 0.010000 | Train RMSE: 14.40\n"
          ]
        },
        {
          "output_type": "stream",
          "name": "stderr",
          "text": [
            "Training Progress:  10%|█         | 3/30 [00:21<03:10,  7.06s/epoch]"
          ]
        },
        {
          "output_type": "stream",
          "name": "stdout",
          "text": [
            "Epoch 3/30 | LR: 0.010000 | Train RMSE: 13.61\n"
          ]
        },
        {
          "output_type": "stream",
          "name": "stderr",
          "text": [
            "Training Progress:  13%|█▎        | 4/30 [00:28<03:07,  7.20s/epoch]"
          ]
        },
        {
          "output_type": "stream",
          "name": "stdout",
          "text": [
            "Epoch 4/30 | LR: 0.010000 | Train RMSE: 12.84\n"
          ]
        },
        {
          "output_type": "stream",
          "name": "stderr",
          "text": [
            "Training Progress:  17%|█▋        | 5/30 [00:35<02:56,  7.04s/epoch]"
          ]
        },
        {
          "output_type": "stream",
          "name": "stdout",
          "text": [
            "Epoch 5/30 | LR: 0.010000 | Train RMSE: 11.72\n"
          ]
        },
        {
          "output_type": "stream",
          "name": "stderr",
          "text": [
            "Training Progress:  20%|██        | 6/30 [00:42<02:53,  7.21s/epoch]"
          ]
        },
        {
          "output_type": "stream",
          "name": "stdout",
          "text": [
            "Epoch 6/30 | LR: 0.010000 | Train RMSE: 9.22\n"
          ]
        },
        {
          "output_type": "stream",
          "name": "stderr",
          "text": [
            "Training Progress:  23%|██▎       | 7/30 [00:49<02:41,  7.03s/epoch]"
          ]
        },
        {
          "output_type": "stream",
          "name": "stdout",
          "text": [
            "Epoch 7/30 | LR: 0.010000 | Train RMSE: 6.40\n"
          ]
        },
        {
          "output_type": "stream",
          "name": "stderr",
          "text": [
            "Training Progress:  27%|██▋       | 8/30 [00:57<02:39,  7.24s/epoch]"
          ]
        },
        {
          "output_type": "stream",
          "name": "stdout",
          "text": [
            "Epoch 8/30 | LR: 0.010000 | Train RMSE: 5.62\n"
          ]
        },
        {
          "output_type": "stream",
          "name": "stderr",
          "text": [
            "Training Progress:  30%|███       | 9/30 [01:05<02:37,  7.49s/epoch]"
          ]
        },
        {
          "output_type": "stream",
          "name": "stdout",
          "text": [
            "Epoch 9/30 | LR: 0.010000 | Train RMSE: 4.68\n"
          ]
        },
        {
          "output_type": "stream",
          "name": "stderr",
          "text": [
            "Training Progress:  33%|███▎      | 10/30 [01:12<02:28,  7.42s/epoch]"
          ]
        },
        {
          "output_type": "stream",
          "name": "stdout",
          "text": [
            "Epoch 10/30 | LR: 0.010000 | Train RMSE: 4.65\n"
          ]
        },
        {
          "output_type": "stream",
          "name": "stderr",
          "text": [
            "Training Progress:  37%|███▋      | 11/30 [01:20<02:24,  7.59s/epoch]"
          ]
        },
        {
          "output_type": "stream",
          "name": "stdout",
          "text": [
            "Epoch 11/30 | LR: 0.010000 | Train RMSE: 4.05\n"
          ]
        },
        {
          "output_type": "stream",
          "name": "stderr",
          "text": [
            "Training Progress:  40%|████      | 12/30 [01:27<02:11,  7.28s/epoch]"
          ]
        },
        {
          "output_type": "stream",
          "name": "stdout",
          "text": [
            "Epoch 12/30 | LR: 0.010000 | Train RMSE: 4.20\n",
            "No improvement. Patience: 1/10\n"
          ]
        },
        {
          "output_type": "stream",
          "name": "stderr",
          "text": [
            "Training Progress:  43%|████▎     | 13/30 [01:34<02:02,  7.22s/epoch]"
          ]
        },
        {
          "output_type": "stream",
          "name": "stdout",
          "text": [
            "Epoch 13/30 | LR: 0.010000 | Train RMSE: 3.71\n"
          ]
        },
        {
          "output_type": "stream",
          "name": "stderr",
          "text": [
            "Training Progress:  47%|████▋     | 14/30 [01:41<01:53,  7.08s/epoch]"
          ]
        },
        {
          "output_type": "stream",
          "name": "stdout",
          "text": [
            "Epoch 14/30 | LR: 0.010000 | Train RMSE: 3.96\n",
            "No improvement. Patience: 1/10\n"
          ]
        },
        {
          "output_type": "stream",
          "name": "stderr",
          "text": [
            "Training Progress:  50%|█████     | 15/30 [01:47<01:44,  6.95s/epoch]"
          ]
        },
        {
          "output_type": "stream",
          "name": "stdout",
          "text": [
            "Epoch 15/30 | LR: 0.010000 | Train RMSE: 3.43\n"
          ]
        },
        {
          "output_type": "stream",
          "name": "stderr",
          "text": [
            "Training Progress:  53%|█████▎    | 16/30 [01:54<01:38,  7.00s/epoch]"
          ]
        },
        {
          "output_type": "stream",
          "name": "stdout",
          "text": [
            "Epoch 16/30 | LR: 0.010000 | Train RMSE: 3.78\n",
            "No improvement. Patience: 1/10\n"
          ]
        },
        {
          "output_type": "stream",
          "name": "stderr",
          "text": [
            "Training Progress:  57%|█████▋    | 17/30 [02:01<01:28,  6.81s/epoch]"
          ]
        },
        {
          "output_type": "stream",
          "name": "stdout",
          "text": [
            "Epoch 17/30 | LR: 0.010000 | Train RMSE: 3.37\n"
          ]
        },
        {
          "output_type": "stream",
          "name": "stderr",
          "text": [
            "Training Progress:  60%|██████    | 18/30 [02:08<01:22,  6.88s/epoch]"
          ]
        },
        {
          "output_type": "stream",
          "name": "stdout",
          "text": [
            "Epoch 18/30 | LR: 0.010000 | Train RMSE: 3.59\n",
            "No improvement. Patience: 1/10\n"
          ]
        },
        {
          "output_type": "stream",
          "name": "stderr",
          "text": [
            "Training Progress:  63%|██████▎   | 19/30 [02:14<01:14,  6.74s/epoch]"
          ]
        },
        {
          "output_type": "stream",
          "name": "stdout",
          "text": [
            "Epoch 19/30 | LR: 0.010000 | Train RMSE: 3.19\n"
          ]
        },
        {
          "output_type": "stream",
          "name": "stderr",
          "text": [
            "Training Progress:  67%|██████▋   | 20/30 [02:22<01:09,  6.98s/epoch]"
          ]
        },
        {
          "output_type": "stream",
          "name": "stdout",
          "text": [
            "Epoch 20/30 | LR: 0.010000 | Train RMSE: 3.40\n",
            "No improvement. Patience: 1/10\n"
          ]
        },
        {
          "output_type": "stream",
          "name": "stderr",
          "text": [
            "Training Progress:  70%|███████   | 21/30 [02:29<01:02,  6.99s/epoch]"
          ]
        },
        {
          "output_type": "stream",
          "name": "stdout",
          "text": [
            "Epoch 21/30 | LR: 0.010000 | Train RMSE: 3.16\n"
          ]
        },
        {
          "output_type": "stream",
          "name": "stderr",
          "text": [
            "Training Progress:  73%|███████▎  | 22/30 [02:36<00:57,  7.24s/epoch]"
          ]
        },
        {
          "output_type": "stream",
          "name": "stdout",
          "text": [
            "Epoch 22/30 | LR: 0.010000 | Train RMSE: 3.18\n",
            "No improvement. Patience: 1/10\n"
          ]
        },
        {
          "output_type": "stream",
          "name": "stderr",
          "text": [
            "Training Progress:  77%|███████▋  | 23/30 [02:45<00:52,  7.49s/epoch]"
          ]
        },
        {
          "output_type": "stream",
          "name": "stdout",
          "text": [
            "Epoch 23/30 | LR: 0.010000 | Train RMSE: 3.23\n",
            "No improvement. Patience: 2/10\n"
          ]
        },
        {
          "output_type": "stream",
          "name": "stderr",
          "text": [
            "Training Progress:  80%|████████  | 24/30 [02:52<00:44,  7.40s/epoch]"
          ]
        },
        {
          "output_type": "stream",
          "name": "stdout",
          "text": [
            "Epoch 24/30 | LR: 0.010000 | Train RMSE: 3.11\n"
          ]
        },
        {
          "output_type": "stream",
          "name": "stderr",
          "text": [
            "Training Progress:  83%|████████▎ | 25/30 [03:00<00:37,  7.58s/epoch]"
          ]
        },
        {
          "output_type": "stream",
          "name": "stdout",
          "text": [
            "Epoch 25/30 | LR: 0.010000 | Train RMSE: 3.08\n"
          ]
        },
        {
          "output_type": "stream",
          "name": "stderr",
          "text": [
            "Training Progress:  87%|████████▋ | 26/30 [03:08<00:30,  7.71s/epoch]"
          ]
        },
        {
          "output_type": "stream",
          "name": "stdout",
          "text": [
            "Epoch 26/30 | LR: 0.010000 | Train RMSE: 3.32\n",
            "No improvement. Patience: 1/10\n"
          ]
        },
        {
          "output_type": "stream",
          "name": "stderr",
          "text": [
            "Training Progress:  90%|█████████ | 27/30 [03:15<00:22,  7.51s/epoch]"
          ]
        },
        {
          "output_type": "stream",
          "name": "stdout",
          "text": [
            "Epoch 27/30 | LR: 0.010000 | Train RMSE: 2.84\n"
          ]
        },
        {
          "output_type": "stream",
          "name": "stderr",
          "text": [
            "Training Progress:  93%|█████████▎| 28/30 [03:23<00:15,  7.61s/epoch]"
          ]
        },
        {
          "output_type": "stream",
          "name": "stdout",
          "text": [
            "Epoch 28/30 | LR: 0.010000 | Train RMSE: 3.09\n",
            "No improvement. Patience: 1/10\n"
          ]
        },
        {
          "output_type": "stream",
          "name": "stderr",
          "text": [
            "Training Progress:  97%|█████████▋| 29/30 [03:30<00:07,  7.47s/epoch]"
          ]
        },
        {
          "output_type": "stream",
          "name": "stdout",
          "text": [
            "Epoch 29/30 | LR: 0.010000 | Train RMSE: 3.02\n",
            "No improvement. Patience: 2/10\n"
          ]
        },
        {
          "output_type": "stream",
          "name": "stderr",
          "text": [
            "Training Progress: 100%|██████████| 30/30 [03:37<00:00,  7.24s/epoch]\n"
          ]
        },
        {
          "output_type": "stream",
          "name": "stdout",
          "text": [
            "Epoch 30/30 | LR: 0.010000 | Train RMSE: 2.92\n",
            "No improvement. Patience: 3/10\n"
          ]
        },
        {
          "output_type": "display_data",
          "data": {
            "text/plain": [
              "<Figure size 640x480 with 1 Axes>"
            ],
            "image/png": "[encoded data removed]"
          },
          "metadata": {}
        }
      ]
    },
    {
      "cell_type": "markdown",
      "source": [
        "Treningowe RMSE zeszło poniżej 3.0 (gdyby puścić więcej epok - schodzi jeszcze niżej, ale nie robię tego, bo już wyszło < 3.0, a może mi się skończyć GPU)"
      ],
      "metadata": {
        "id": "crYRt-ujzJFW"
      }
    },
    {
      "cell_type": "code",
      "source": [
        "import random\n",
        "import numpy as np\n",
        "import matplotlib.pyplot as plt\n",
        "from matplotlib.colors import LogNorm\n",
        "import torch\n",
        "\n",
        "\n",
        "def visualize_attention_triplet(model, dataset, idx):\n",
        "    \"\"\"\n",
        "    Dla danego indeksu:\n",
        "    - pokazuje obraz wejściowy z predykcją i GT\n",
        "    - pokazuje attention heatmap (standardowa)\n",
        "    - pokazuje attention heatmap (log skala)\n",
        "\n",
        "    Obrazy prezentowane w 1 wierszu.\n",
        "    \"\"\"\n",
        "    model.eval()\n",
        "    img, label = dataset[idx]\n",
        "    img_tensor = img.unsqueeze(0).to(device)\n",
        "\n",
        "    with torch.no_grad():\n",
        "        pred, _ = model(img_tensor)\n",
        "        attn = model.attn.attn_weights.squeeze(0).detach().cpu().numpy()\n",
        "\n",
        "    pred_np = pred.squeeze().cpu().numpy()\n",
        "    img_np = img.squeeze().cpu().numpy()\n",
        "    label_np = label.numpy()\n",
        "\n",
        "    fig, axes = plt.subplots(1, 3, figsize=(15, 5))\n",
        "\n",
        "    # === 1. Obraz wejściowy z GT i predykcja oraz współrzędne GT ===\n",
        "    axes[0].imshow(img_np, cmap='gray')\n",
        "    axes[0].scatter(*label_np, c='green', s=50, label='GT')\n",
        "    axes[0].scatter(*pred_np, c='red', marker='x', s=50, label='Pred')\n",
        "    # Dodanie tekstu z współrzędnymi GT\n",
        "    x_gt, y_gt = label_np\n",
        "    axes[0].text(\n",
        "        x_gt, y_gt - 5,  # nieco nad punktem\n",
        "        f\"GT: ({x_gt:.1f}, {y_gt:.1f})\",\n",
        "        color='green', fontsize=10, fontweight='bold',\n",
        "        ha='center', va='bottom'\n",
        "    )\n",
        "    axes[0].set_title(f\"Sample {idx} | RMSE: {np.linalg.norm(label_np - pred_np):.2f}\")\n",
        "    axes[0].axis('off')\n",
        "    axes[0].legend()\n",
        "\n",
        "    # === 2. Standardowa heatmapa ===\n",
        "    im1 = axes[1].imshow(attn, cmap='hot')\n",
        "    axes[1].set_title(\"Attention Matrix\")\n",
        "    axes[1].set_xlabel(\"Key index\")\n",
        "    axes[1].set_ylabel(\"Query index\")\n",
        "    fig.colorbar(im1, ax=axes[1])\n",
        "\n",
        "    # === 3. LogNorm heatmapa ===\n",
        "    im2 = axes[2].imshow(attn, cmap='inferno', norm=LogNorm(vmin=attn.min()+1e-6, vmax=attn.max()))\n",
        "    axes[2].set_title(\"LogNorm Attention\")\n",
        "    axes[2].set_xlabel(\"Key index\")\n",
        "    axes[2].set_ylabel(\"Query index\")\n",
        "    fig.colorbar(im2, ax=axes[2], label=\"log-scaled weight\")\n",
        "\n",
        "    plt.tight_layout()\n",
        "    plt.show()\n",
        "\n",
        "\n",
        "# === Uruchomienie ===\n",
        "set_seed(234325352)\n",
        "random.seed(234325352)\n",
        "test_set = OddXYDataset(num_samples=25000)\n",
        "indices_to_visualize = random.sample(range(len(test_set)), 20)\n",
        "for idx in indices_to_visualize:\n",
        "    visualize_attention_triplet(model, test_set, idx)"
      ],
      "metadata": {
        "colab": {
          "base_uri": "https://localhost:8080/",
          "height": 321
        },
        "id": "egW6jvwLrvns",
        "outputId": "bce0ea3d-cbe1-4eeb-bd3e-c28407ba864a"
      },
      "execution_count": 14,
      "outputs": [
        {
          "output_type": "error",
          "ename": "AttributeError",
          "evalue": "'SelfAttention' object has no attribute 'attn_weights'",
          "traceback": [
            "\u001b[0;31m---------------------------------------------------------------------------\u001b[0m",
            "\u001b[0;31mAttributeError\u001b[0m                            Traceback (most recent call last)",
            "\u001b[0;32m/tmp/ipython-input-14-63591676.py\u001b[0m in \u001b[0;36m<cell line: 0>\u001b[0;34m()\u001b[0m\n\u001b[1;32m     69\u001b[0m \u001b[0mindices_to_visualize\u001b[0m \u001b[0;34m=\u001b[0m \u001b[0mrandom\u001b[0m\u001b[0;34m.\u001b[0m\u001b[0msample\u001b[0m\u001b[0;34m(\u001b[0m\u001b[0mrange\u001b[0m\u001b[0;34m(\u001b[0m\u001b[0mlen\u001b[0m\u001b[0;34m(\u001b[0m\u001b[0mtest_set\u001b[0m\u001b[0;34m)\u001b[0m\u001b[0;34m)\u001b[0m\u001b[0;34m,\u001b[0m \u001b[0;36m20\u001b[0m\u001b[0;34m)\u001b[0m\u001b[0;34m\u001b[0m\u001b[0;34m\u001b[0m\u001b[0m\n\u001b[1;32m     70\u001b[0m \u001b[0;32mfor\u001b[0m \u001b[0midx\u001b[0m \u001b[0;32min\u001b[0m \u001b[0mindices_to_visualize\u001b[0m\u001b[0;34m:\u001b[0m\u001b[0;34m\u001b[0m\u001b[0;34m\u001b[0m\u001b[0m\n\u001b[0;32m---> 71\u001b[0;31m     \u001b[0mvisualize_attention_triplet\u001b[0m\u001b[0;34m(\u001b[0m\u001b[0mmodel\u001b[0m\u001b[0;34m,\u001b[0m \u001b[0mtest_set\u001b[0m\u001b[0;34m,\u001b[0m \u001b[0midx\u001b[0m\u001b[0;34m)\u001b[0m\u001b[0;34m\u001b[0m\u001b[0;34m\u001b[0m\u001b[0m\n\u001b[0m",
            "\u001b[0;32m/tmp/ipython-input-14-63591676.py\u001b[0m in \u001b[0;36mvisualize_attention_triplet\u001b[0;34m(model, dataset, idx)\u001b[0m\n\u001b[1;32m     21\u001b[0m     \u001b[0;32mwith\u001b[0m \u001b[0mtorch\u001b[0m\u001b[0;34m.\u001b[0m\u001b[0mno_grad\u001b[0m\u001b[0;34m(\u001b[0m\u001b[0;34m)\u001b[0m\u001b[0;34m:\u001b[0m\u001b[0;34m\u001b[0m\u001b[0;34m\u001b[0m\u001b[0m\n\u001b[1;32m     22\u001b[0m         \u001b[0mpred\u001b[0m\u001b[0;34m,\u001b[0m \u001b[0m_\u001b[0m \u001b[0;34m=\u001b[0m \u001b[0mmodel\u001b[0m\u001b[0;34m(\u001b[0m\u001b[0mimg_tensor\u001b[0m\u001b[0;34m)\u001b[0m\u001b[0;34m\u001b[0m\u001b[0;34m\u001b[0m\u001b[0m\n\u001b[0;32m---> 23\u001b[0;31m         \u001b[0mattn\u001b[0m \u001b[0;34m=\u001b[0m \u001b[0mmodel\u001b[0m\u001b[0;34m.\u001b[0m\u001b[0mattn\u001b[0m\u001b[0;34m.\u001b[0m\u001b[0mattn_weights\u001b[0m\u001b[0;34m.\u001b[0m\u001b[0msqueeze\u001b[0m\u001b[0;34m(\u001b[0m\u001b[0;36m0\u001b[0m\u001b[0;34m)\u001b[0m\u001b[0;34m.\u001b[0m\u001b[0mdetach\u001b[0m\u001b[0;34m(\u001b[0m\u001b[0;34m)\u001b[0m\u001b[0;34m.\u001b[0m\u001b[0mcpu\u001b[0m\u001b[0;34m(\u001b[0m\u001b[0;34m)\u001b[0m\u001b[0;34m.\u001b[0m\u001b[0mnumpy\u001b[0m\u001b[0;34m(\u001b[0m\u001b[0;34m)\u001b[0m\u001b[0;34m\u001b[0m\u001b[0;34m\u001b[0m\u001b[0m\n\u001b[0m\u001b[1;32m     24\u001b[0m \u001b[0;34m\u001b[0m\u001b[0m\n\u001b[1;32m     25\u001b[0m     \u001b[0mpred_np\u001b[0m \u001b[0;34m=\u001b[0m \u001b[0mpred\u001b[0m\u001b[0;34m.\u001b[0m\u001b[0msqueeze\u001b[0m\u001b[0;34m(\u001b[0m\u001b[0;34m)\u001b[0m\u001b[0;34m.\u001b[0m\u001b[0mcpu\u001b[0m\u001b[0;34m(\u001b[0m\u001b[0;34m)\u001b[0m\u001b[0;34m.\u001b[0m\u001b[0mnumpy\u001b[0m\u001b[0;34m(\u001b[0m\u001b[0;34m)\u001b[0m\u001b[0;34m\u001b[0m\u001b[0;34m\u001b[0m\u001b[0m\n",
            "\u001b[0;32m/usr/local/lib/python3.11/dist-packages/torch/nn/modules/module.py\u001b[0m in \u001b[0;36m__getattr__\u001b[0;34m(self, name)\u001b[0m\n\u001b[1;32m   1926\u001b[0m             \u001b[0;32mif\u001b[0m \u001b[0mname\u001b[0m \u001b[0;32min\u001b[0m \u001b[0mmodules\u001b[0m\u001b[0;34m:\u001b[0m\u001b[0;34m\u001b[0m\u001b[0;34m\u001b[0m\u001b[0m\n\u001b[1;32m   1927\u001b[0m                 \u001b[0;32mreturn\u001b[0m \u001b[0mmodules\u001b[0m\u001b[0;34m[\u001b[0m\u001b[0mname\u001b[0m\u001b[0;34m]\u001b[0m\u001b[0;34m\u001b[0m\u001b[0;34m\u001b[0m\u001b[0m\n\u001b[0;32m-> 1928\u001b[0;31m         raise AttributeError(\n\u001b[0m\u001b[1;32m   1929\u001b[0m             \u001b[0;34mf\"'{type(self).__name__}' object has no attribute '{name}'\"\u001b[0m\u001b[0;34m\u001b[0m\u001b[0;34m\u001b[0m\u001b[0m\n\u001b[1;32m   1930\u001b[0m         )\n",
            "\u001b[0;31mAttributeError\u001b[0m: 'SelfAttention' object has no attribute 'attn_weights'"
          ]
        }
      ]
    },
    {
      "cell_type": "code",
      "source": [],
      "metadata": {
        "id": "Lv-oZ02QzkJ9"
      },
      "execution_count": null,
      "outputs": []
    }
  ]
}