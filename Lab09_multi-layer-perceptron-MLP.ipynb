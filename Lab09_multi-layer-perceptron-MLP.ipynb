{
  "cells": [
    {
      "cell_type": "markdown",
      "metadata": {
        "id": "view-in-github",
        "colab_type": "text"
      },
      "source": [
        "<a href=\"https://colab.research.google.com/github/TrzeciakPiotr2300/Uczenie_Maszynowe_2025/blob/main/Lab09_multi-layer-perceptron-MLP.ipynb\" target=\"_parent\"><img src=\"https://colab.research.google.com/assets/colab-badge.svg\" alt=\"Open In Colab\"/></a>"
      ]
    },
    {
      "cell_type": "markdown",
      "source": [
        "\n",
        "\n",
        "# Multi Layer Perceptron Notation\n",
        "---------------------------------\n",
        "\n",
        "In this workshop we will be classifying 28 by 28 images into 10 classes. Thus, a four layer perceptron (our classificator) we will work further with can be defined as\n",
        "$\\hat f:\\mathbb{R}^{28\\cdot 28} \\rightarrow \\mathbb{R}^{10}$ defined as\n",
        "\n",
        "$$\\hat f \\left(x; W_1, W_2, W_3, W_4, b_1, b_2, b_3, b_4 \\right) =  W_4 \\left[ W_3 \\left[ W_2 \\left[ W_1 x  + b_1 \\right]_+  + b_2 \\right]_+  + b_3 \\right]_+ + b_4,$$\n",
        "\n",
        "where matrices $W_1, \\ldots, W_4$ are tensors of order two (matrices) with matching dimensions and bias terms $b_1, \\ldots, b_4$ are tensors of order one (vectors) of matching dimensions, and we are using ReLU activation.\n",
        "\n",
        "Note, that there is no nonlinear activation after the last layer in our neural network. **There is an implicit softmax applied while cross entropy loss is calculated by `torch.nn.functional`.**\n"
      ],
      "metadata": {
        "id": "wqJVU0gp9rws"
      },
      "id": "wqJVU0gp9rws"
    },
    {
      "cell_type": "markdown",
      "source": [
        "# Reading MNIST Dataset to Play with It\n",
        "--------------------"
      ],
      "metadata": {
        "id": "s6RwV0RN_Kc9"
      },
      "id": "s6RwV0RN_Kc9"
    },
    {
      "cell_type": "code",
      "source": [
        "import torch\n",
        "import torchvision\n",
        "from matplotlib import pyplot\n",
        "\n",
        "trainset = torchvision.datasets.MNIST(root='./data',\n",
        "                                      train=True,\n",
        "                                      download=True,\n",
        "                                      transform=None)"
      ],
      "metadata": {
        "id": "vjAlmExA_Twh",
        "outputId": "bd709b89-ee66-40ad-86e6-3c5dd3d42ab6",
        "colab": {
          "base_uri": "https://localhost:8080/"
        }
      },
      "id": "vjAlmExA_Twh",
      "execution_count": 1,
      "outputs": [
        {
          "output_type": "stream",
          "name": "stderr",
          "text": [
            "100%|██████████| 9.91M/9.91M [00:00<00:00, 12.8MB/s]\n",
            "100%|██████████| 28.9k/28.9k [00:00<00:00, 339kB/s]\n",
            "100%|██████████| 1.65M/1.65M [00:00<00:00, 3.19MB/s]\n",
            "100%|██████████| 4.54k/4.54k [00:00<00:00, 3.27MB/s]\n"
          ]
        }
      ]
    },
    {
      "cell_type": "code",
      "source": [
        "train_image, train_target = trainset[0]    #let us examine the 0-th sample\n",
        "pyplot.imshow(train_image)\n",
        "pyplot.show()"
      ],
      "metadata": {
        "id": "gcgep60g_Xs6",
        "outputId": "b1451990-d01c-4752-de25-e49db3f8a68e",
        "colab": {
          "base_uri": "https://localhost:8080/",
          "height": 430
        }
      },
      "id": "gcgep60g_Xs6",
      "execution_count": null,
      "outputs": [
        {
          "output_type": "display_data",
          "data": {
            "text/plain": [
              "<Figure size 640x480 with 1 Axes>"
            ],
            "image/png": "[encoded data removed]"
          },
          "metadata": {}
        }
      ]
    },
    {
      "cell_type": "code",
      "source": [
        "(trainset.data.numpy().mean()/255.0, trainset.data.numpy().std()/255.0)   #MNIST datapoints are RGB integers 0-255"
      ],
      "metadata": {
        "id": "Ar2Rzq7UAcjC",
        "outputId": "68f8f0f2-69c4-44d1-c770-2eac2b0e08f2",
        "colab": {
          "base_uri": "https://localhost:8080/"
        }
      },
      "id": "Ar2Rzq7UAcjC",
      "execution_count": null,
      "outputs": [
        {
          "output_type": "execute_result",
          "data": {
            "text/plain": [
              "(np.float64(0.1306604762738429), np.float64(0.30810780385646264))"
            ]
          },
          "metadata": {},
          "execution_count": 67
        }
      ]
    },
    {
      "cell_type": "markdown",
      "source": [
        "# Task\n",
        "---------------\n",
        "\n",
        "Why do we need to normalize the data, and not feed the NN with the 0-255 integers?"
      ],
      "metadata": {
        "id": "-waIu3OQXGx0"
      },
      "id": "-waIu3OQXGx0"
    },
    {
      "cell_type": "code",
      "source": [
        "transform = torchvision.transforms.Compose(\n",
        "    [ torchvision.transforms.ToTensor(), #Converts a PIL Image or numpy.ndarray (H x W x C) in the range [0, 255] to a torch.FloatTensor of shape (C x H x W) in the range [0.0, 1.0]\n",
        "      torchvision.transforms.Normalize((0.1307), (0.3081))])\n",
        "\n",
        "trainset = torchvision.datasets.MNIST(root='./data',\n",
        "                                      train=True,\n",
        "                                      download=True,\n",
        "                                      transform=transform)\n",
        "\n",
        "trainloader = torch.utils.data.DataLoader(trainset,\n",
        "                                          batch_size=2048,\n",
        "                                          shuffle=True)   #we do shuffle it to give more randomizations to training epochs\n",
        "\n",
        "testset = torchvision.datasets.MNIST(root='./data',\n",
        "                                     train=False,\n",
        "                                     download=True,\n",
        "                                     transform=transform)\n",
        "\n",
        "testloader = torch.utils.data.DataLoader(testset,\n",
        "                                         batch_size=1,\n",
        "                                         shuffle=False)"
      ],
      "metadata": {
        "id": "01dayZiEAk3C"
      },
      "id": "01dayZiEAk3C",
      "execution_count": 2,
      "outputs": []
    },
    {
      "cell_type": "markdown",
      "source": [
        "## Visualizing Data\n"
      ],
      "metadata": {
        "id": "dfqt0kUECnZB"
      },
      "id": "dfqt0kUECnZB"
    },
    {
      "cell_type": "markdown",
      "source": [
        "### Labels (Ground Truth Outputs)"
      ],
      "metadata": {
        "id": "fxGIwBKGCtFa"
      },
      "id": "fxGIwBKGCtFa"
    },
    {
      "cell_type": "code",
      "source": [
        "for i, data in enumerate(trainloader):\n",
        "        batch_inputs, batch_labels = data\n",
        "\n",
        "        if i<5:\n",
        "            print(i, \"-th batch labels :\", batch_labels)"
      ],
      "metadata": {
        "id": "bzu3lJ2lCwFq",
        "outputId": "a7616a56-a698-4f01-bdd0-dae88e7f5b86",
        "colab": {
          "base_uri": "https://localhost:8080/"
        }
      },
      "id": "bzu3lJ2lCwFq",
      "execution_count": null,
      "outputs": [
        {
          "output_type": "stream",
          "name": "stdout",
          "text": [
            "0 -th batch labels : tensor([4, 4, 2,  ..., 8, 6, 1])\n",
            "1 -th batch labels : tensor([2, 8, 8,  ..., 3, 7, 6])\n",
            "2 -th batch labels : tensor([0, 0, 0,  ..., 3, 5, 2])\n",
            "3 -th batch labels : tensor([7, 5, 9,  ..., 8, 3, 8])\n",
            "4 -th batch labels : tensor([5, 5, 0,  ..., 1, 8, 4])\n"
          ]
        }
      ]
    },
    {
      "cell_type": "markdown",
      "source": [
        "A single label is an entity of order zero (a constant), but batched labels are of order one. The first (and only) index is a sample index within a batch."
      ],
      "metadata": {
        "id": "PebIPPfpC05T"
      },
      "id": "PebIPPfpC05T"
    },
    {
      "cell_type": "markdown",
      "source": [
        "### Inputs"
      ],
      "metadata": {
        "id": "NLmKJ1FbC2qJ"
      },
      "id": "NLmKJ1FbC2qJ"
    },
    {
      "cell_type": "code",
      "source": [
        "for i, data in enumerate(trainloader):\n",
        "        batch_inputs, batch_labels = data\n",
        "\n",
        "        if i==0:\n",
        "            print(i, \"-th batch inputs :\", batch_inputs)"
      ],
      "metadata": {
        "id": "2jcRrNw_DQui",
        "outputId": "2d9a5d12-72cd-4a38-a318-c36eb410d137",
        "colab": {
          "base_uri": "https://localhost:8080/"
        }
      },
      "id": "2jcRrNw_DQui",
      "execution_count": null,
      "outputs": [
        {
          "output_type": "stream",
          "name": "stdout",
          "text": [
            "0 -th batch inputs : tensor([[[[-0.4242, -0.4242, -0.4242,  ..., -0.4242, -0.4242, -0.4242],\n",
            "          [-0.4242, -0.4242, -0.4242,  ..., -0.4242, -0.4242, -0.4242],\n",
            "          [-0.4242, -0.4242, -0.4242,  ..., -0.4242, -0.4242, -0.4242],\n",
            "          ...,\n",
            "          [-0.4242, -0.4242, -0.4242,  ..., -0.4242, -0.4242, -0.4242],\n",
            "          [-0.4242, -0.4242, -0.4242,  ..., -0.4242, -0.4242, -0.4242],\n",
            "          [-0.4242, -0.4242, -0.4242,  ..., -0.4242, -0.4242, -0.4242]]],\n",
            "\n",
            "\n",
            "        [[[-0.4242, -0.4242, -0.4242,  ..., -0.4242, -0.4242, -0.4242],\n",
            "          [-0.4242, -0.4242, -0.4242,  ..., -0.4242, -0.4242, -0.4242],\n",
            "          [-0.4242, -0.4242, -0.4242,  ..., -0.4242, -0.4242, -0.4242],\n",
            "          ...,\n",
            "          [-0.4242, -0.4242, -0.4242,  ..., -0.4242, -0.4242, -0.4242],\n",
            "          [-0.4242, -0.4242, -0.4242,  ..., -0.4242, -0.4242, -0.4242],\n",
            "          [-0.4242, -0.4242, -0.4242,  ..., -0.4242, -0.4242, -0.4242]]],\n",
            "\n",
            "\n",
            "        [[[-0.4242, -0.4242, -0.4242,  ..., -0.4242, -0.4242, -0.4242],\n",
            "          [-0.4242, -0.4242, -0.4242,  ..., -0.4242, -0.4242, -0.4242],\n",
            "          [-0.4242, -0.4242, -0.4242,  ..., -0.4242, -0.4242, -0.4242],\n",
            "          ...,\n",
            "          [-0.4242, -0.4242, -0.4242,  ..., -0.4242, -0.4242, -0.4242],\n",
            "          [-0.4242, -0.4242, -0.4242,  ..., -0.4242, -0.4242, -0.4242],\n",
            "          [-0.4242, -0.4242, -0.4242,  ..., -0.4242, -0.4242, -0.4242]]],\n",
            "\n",
            "\n",
            "        ...,\n",
            "\n",
            "\n",
            "        [[[-0.4242, -0.4242, -0.4242,  ..., -0.4242, -0.4242, -0.4242],\n",
            "          [-0.4242, -0.4242, -0.4242,  ..., -0.4242, -0.4242, -0.4242],\n",
            "          [-0.4242, -0.4242, -0.4242,  ..., -0.4242, -0.4242, -0.4242],\n",
            "          ...,\n",
            "          [-0.4242, -0.4242, -0.4242,  ..., -0.4242, -0.4242, -0.4242],\n",
            "          [-0.4242, -0.4242, -0.4242,  ..., -0.4242, -0.4242, -0.4242],\n",
            "          [-0.4242, -0.4242, -0.4242,  ..., -0.4242, -0.4242, -0.4242]]],\n",
            "\n",
            "\n",
            "        [[[-0.4242, -0.4242, -0.4242,  ..., -0.4242, -0.4242, -0.4242],\n",
            "          [-0.4242, -0.4242, -0.4242,  ..., -0.4242, -0.4242, -0.4242],\n",
            "          [-0.4242, -0.4242, -0.4242,  ..., -0.4242, -0.4242, -0.4242],\n",
            "          ...,\n",
            "          [-0.4242, -0.4242, -0.4242,  ..., -0.4242, -0.4242, -0.4242],\n",
            "          [-0.4242, -0.4242, -0.4242,  ..., -0.4242, -0.4242, -0.4242],\n",
            "          [-0.4242, -0.4242, -0.4242,  ..., -0.4242, -0.4242, -0.4242]]],\n",
            "\n",
            "\n",
            "        [[[-0.4242, -0.4242, -0.4242,  ..., -0.4242, -0.4242, -0.4242],\n",
            "          [-0.4242, -0.4242, -0.4242,  ..., -0.4242, -0.4242, -0.4242],\n",
            "          [-0.4242, -0.4242, -0.4242,  ..., -0.4242, -0.4242, -0.4242],\n",
            "          ...,\n",
            "          [-0.4242, -0.4242, -0.4242,  ..., -0.4242, -0.4242, -0.4242],\n",
            "          [-0.4242, -0.4242, -0.4242,  ..., -0.4242, -0.4242, -0.4242],\n",
            "          [-0.4242, -0.4242, -0.4242,  ..., -0.4242, -0.4242, -0.4242]]]])\n"
          ]
        }
      ]
    },
    {
      "cell_type": "markdown",
      "source": [
        "OK, so each data image was initially a two dimensional image when we first saw it, but now the batches have order 4. The first index is a sample index within a batch, but a second index is always 0. This index represents a Channel number inserted here by `ToTensor()` transformation, always 0. As this order is one-dimensional, we can get rid of it, later, in training, in `Flatten` layer or by using `squeeze()` on a tensor."
      ],
      "metadata": {
        "id": "YTcC3qH2DZOK"
      },
      "id": "YTcC3qH2DZOK"
    },
    {
      "cell_type": "markdown",
      "source": [
        "# MLP Definition\n",
        "-----------------\n",
        "\n",
        "Your job now is to take the (fully functional) definition of the MLP structure and get rid off the Sequential layer.\n"
      ],
      "metadata": {
        "id": "ZX09I7rUDkei"
      },
      "id": "ZX09I7rUDkei"
    },
    {
      "cell_type": "code",
      "source": [
        "import torch\n",
        "import torch.nn as nn\n",
        "\n",
        "class MLP(nn.Module):\n",
        "    def __init__(self):\n",
        "        super().__init__()\n",
        "        self.flatten = nn.Flatten()\n",
        "        self.fc1 = nn.Linear(1 * 28 * 28, 1024)\n",
        "        self.relu1 = nn.ReLU()\n",
        "        self.fc2 = nn.Linear(1024, 2048)\n",
        "        self.relu2 = nn.ReLU()\n",
        "        self.fc3 = nn.Linear(2048, 256)\n",
        "        self.relu3 = nn.ReLU()\n",
        "        self.fc4 = nn.Linear(256, 10)\n",
        "        self.dropout = nn.Dropout(0.05)\n",
        "\n",
        "    def forward(self, x):\n",
        "        x = self.flatten(x)\n",
        "        x = self.fc1(x)\n",
        "        x = self.relu1(x)\n",
        "        x = self.fc2(x)\n",
        "        x = self.relu2(x)\n",
        "        x = self.fc3(x)\n",
        "        x = self.relu3(x)\n",
        "        x = self.fc4(x)\n",
        "        x = self.dropout(x)\n",
        "        return x\n",
        "\n"
      ],
      "metadata": {
        "id": "TSoP6W2UECwb"
      },
      "id": "TSoP6W2UECwb",
      "execution_count": 6,
      "outputs": []
    },
    {
      "cell_type": "markdown",
      "source": [
        "# Training Loop\n",
        "----------------------"
      ],
      "metadata": {
        "id": "fE5rN8UTFFw7"
      },
      "id": "fE5rN8UTFFw7"
    },
    {
      "cell_type": "code",
      "source": [
        "# Check if GPU is available\n",
        "device = torch.device(\"cuda\" if torch.cuda.is_available() else \"cpu\")\n",
        "print(f\"Working on {device}\")\n",
        "\n",
        "net = MLP().to(device)\n",
        "optimizer = torch.optim.Adam(net.parameters(), 0.001)   #initial and fixed learning rate of 0.001.\n",
        "\n",
        "net.train()    #it notifies the network layers (especially batchnorm or dropout layers, which we don't use in this example) that we are doing traning\n",
        "for epoch in range(8):  #  an epoch is a training run through the whole data set\n",
        "\n",
        "    for batch, data in enumerate(trainloader):\n",
        "        batch_inputs, batch_labels = data\n",
        "\n",
        "        batch_inputs = batch_inputs.to(device)  #explicitly moving the data to the target device\n",
        "        batch_labels = batch_labels.to(device)\n",
        "\n",
        "        #batch_inputs.squeeze(1)     #alternatively if not for a Flatten layer, squeeze() could be used to remove the second order of the tensor, the Channel, which is one-dimensional (this index can be equal to 0 only)\n",
        "\n",
        "        optimizer.zero_grad()\n",
        "\n",
        "        batch_outputs = net(batch_inputs)   #this line calls the forward(self, x) method of the MLP object. Please note, that the last layer of the MLP is linear\n",
        "                                            #and MLP doesn't apply\n",
        "                                            #the nonlinear activation after the last layer\n",
        "        loss = torch.nn.functional.cross_entropy(batch_outputs, batch_labels, reduction = \"mean\") #instead, nonlinear softmax is applied internally in THIS loss function\n",
        "        print(\"epoch:\", epoch, \"batch:\", batch, \"current batch loss:\", loss.item())\n",
        "        loss.backward()       #this computes gradients as we have seen in previous workshops\n",
        "        optimizer.step()     #but this line in fact updates our neural network.\n",
        "                                ####You can experiment - comment this line and check, that the loss DOE"
      ],
      "metadata": {
        "id": "55Sda8Y5FIOh",
        "outputId": "747a015b-075e-4a7b-bf4e-733b5dee649a",
        "colab": {
          "base_uri": "https://localhost:8080/"
        }
      },
      "id": "55Sda8Y5FIOh",
      "execution_count": 4,
      "outputs": [
        {
          "output_type": "stream",
          "name": "stdout",
          "text": [
            "Working on cuda\n",
            "epoch: 0 batch: 0 current batch loss: 2.3051631450653076\n",
            "epoch: 0 batch: 1 current batch loss: 2.0698280334472656\n",
            "epoch: 0 batch: 2 current batch loss: 1.612332820892334\n",
            "epoch: 0 batch: 3 current batch loss: 1.1740645170211792\n",
            "epoch: 0 batch: 4 current batch loss: 0.9418269395828247\n",
            "epoch: 0 batch: 5 current batch loss: 1.190300703048706\n",
            "epoch: 0 batch: 6 current batch loss: 1.1286660432815552\n",
            "epoch: 0 batch: 7 current batch loss: 0.9571342468261719\n",
            "epoch: 0 batch: 8 current batch loss: 0.7238796353340149\n",
            "epoch: 0 batch: 9 current batch loss: 0.6118448972702026\n",
            "epoch: 0 batch: 10 current batch loss: 0.6451218724250793\n",
            "epoch: 0 batch: 11 current batch loss: 0.557117223739624\n",
            "epoch: 0 batch: 12 current batch loss: 0.5865345001220703\n",
            "epoch: 0 batch: 13 current batch loss: 0.5366986989974976\n",
            "epoch: 0 batch: 14 current batch loss: 0.4726025462150574\n",
            "epoch: 0 batch: 15 current batch loss: 0.4472435414791107\n",
            "epoch: 0 batch: 16 current batch loss: 0.462693452835083\n",
            "epoch: 0 batch: 17 current batch loss: 0.4245925545692444\n",
            "epoch: 0 batch: 18 current batch loss: 0.42585816979408264\n",
            "epoch: 0 batch: 19 current batch loss: 0.3888839781284332\n",
            "epoch: 0 batch: 20 current batch loss: 0.38070324063301086\n",
            "epoch: 0 batch: 21 current batch loss: 0.36230331659317017\n",
            "epoch: 0 batch: 22 current batch loss: 0.342117041349411\n",
            "epoch: 0 batch: 23 current batch loss: 0.3487149477005005\n",
            "epoch: 0 batch: 24 current batch loss: 0.2878001630306244\n",
            "epoch: 0 batch: 25 current batch loss: 0.30674195289611816\n",
            "epoch: 0 batch: 26 current batch loss: 0.27970612049102783\n",
            "epoch: 0 batch: 27 current batch loss: 0.3248178958892822\n",
            "epoch: 0 batch: 28 current batch loss: 0.2931481897830963\n",
            "epoch: 0 batch: 29 current batch loss: 0.3032473623752594\n",
            "epoch: 1 batch: 0 current batch loss: 0.26000481843948364\n",
            "epoch: 1 batch: 1 current batch loss: 0.240330308675766\n",
            "epoch: 1 batch: 2 current batch loss: 0.24884819984436035\n",
            "epoch: 1 batch: 3 current batch loss: 0.24384814500808716\n",
            "epoch: 1 batch: 4 current batch loss: 0.24514338374137878\n",
            "epoch: 1 batch: 5 current batch loss: 0.23681475222110748\n",
            "epoch: 1 batch: 6 current batch loss: 0.23640033602714539\n",
            "epoch: 1 batch: 7 current batch loss: 0.22984693944454193\n",
            "epoch: 1 batch: 8 current batch loss: 0.22006770968437195\n",
            "epoch: 1 batch: 9 current batch loss: 0.24034731090068817\n",
            "epoch: 1 batch: 10 current batch loss: 0.20372702181339264\n",
            "epoch: 1 batch: 11 current batch loss: 0.20895524322986603\n",
            "epoch: 1 batch: 12 current batch loss: 0.1863032579421997\n",
            "epoch: 1 batch: 13 current batch loss: 0.20589201152324677\n",
            "epoch: 1 batch: 14 current batch loss: 0.21134965121746063\n",
            "epoch: 1 batch: 15 current batch loss: 0.18296073377132416\n",
            "epoch: 1 batch: 16 current batch loss: 0.185917466878891\n",
            "epoch: 1 batch: 17 current batch loss: 0.18648761510849\n",
            "epoch: 1 batch: 18 current batch loss: 0.19368833303451538\n",
            "epoch: 1 batch: 19 current batch loss: 0.18589439988136292\n",
            "epoch: 1 batch: 20 current batch loss: 0.18811333179473877\n",
            "epoch: 1 batch: 21 current batch loss: 0.19844062626361847\n",
            "epoch: 1 batch: 22 current batch loss: 0.18388429284095764\n",
            "epoch: 1 batch: 23 current batch loss: 0.17585544288158417\n",
            "epoch: 1 batch: 24 current batch loss: 0.1778057962656021\n",
            "epoch: 1 batch: 25 current batch loss: 0.18347908556461334\n",
            "epoch: 1 batch: 26 current batch loss: 0.148883655667305\n",
            "epoch: 1 batch: 27 current batch loss: 0.17506463825702667\n",
            "epoch: 1 batch: 28 current batch loss: 0.16650395095348358\n",
            "epoch: 1 batch: 29 current batch loss: 0.18601299822330475\n",
            "epoch: 2 batch: 0 current batch loss: 0.12148038297891617\n",
            "epoch: 2 batch: 1 current batch loss: 0.12529726326465607\n",
            "epoch: 2 batch: 2 current batch loss: 0.14582253992557526\n",
            "epoch: 2 batch: 3 current batch loss: 0.14919675886631012\n",
            "epoch: 2 batch: 4 current batch loss: 0.12886971235275269\n",
            "epoch: 2 batch: 5 current batch loss: 0.14986877143383026\n",
            "epoch: 2 batch: 6 current batch loss: 0.1508508324623108\n",
            "epoch: 2 batch: 7 current batch loss: 0.11638225615024567\n",
            "epoch: 2 batch: 8 current batch loss: 0.14389526844024658\n",
            "epoch: 2 batch: 9 current batch loss: 0.15152138471603394\n",
            "epoch: 2 batch: 10 current batch loss: 0.14551430940628052\n",
            "epoch: 2 batch: 11 current batch loss: 0.12565714120864868\n",
            "epoch: 2 batch: 12 current batch loss: 0.13292409479618073\n",
            "epoch: 2 batch: 13 current batch loss: 0.14327016472816467\n",
            "epoch: 2 batch: 14 current batch loss: 0.1489507257938385\n",
            "epoch: 2 batch: 15 current batch loss: 0.14859753847122192\n",
            "epoch: 2 batch: 16 current batch loss: 0.11172075569629669\n",
            "epoch: 2 batch: 17 current batch loss: 0.12413402646780014\n",
            "epoch: 2 batch: 18 current batch loss: 0.1576593816280365\n",
            "epoch: 2 batch: 19 current batch loss: 0.128413125872612\n",
            "epoch: 2 batch: 20 current batch loss: 0.1319359540939331\n",
            "epoch: 2 batch: 21 current batch loss: 0.11759690195322037\n",
            "epoch: 2 batch: 22 current batch loss: 0.1210300624370575\n",
            "epoch: 2 batch: 23 current batch loss: 0.1279820203781128\n",
            "epoch: 2 batch: 24 current batch loss: 0.12996922433376312\n",
            "epoch: 2 batch: 25 current batch loss: 0.11212550848722458\n",
            "epoch: 2 batch: 26 current batch loss: 0.12220144271850586\n",
            "epoch: 2 batch: 27 current batch loss: 0.13170620799064636\n",
            "epoch: 2 batch: 28 current batch loss: 0.10710185021162033\n",
            "epoch: 2 batch: 29 current batch loss: 0.08532655984163284\n",
            "epoch: 3 batch: 0 current batch loss: 0.1060672476887703\n",
            "epoch: 3 batch: 1 current batch loss: 0.09076429903507233\n",
            "epoch: 3 batch: 2 current batch loss: 0.10438628494739532\n",
            "epoch: 3 batch: 3 current batch loss: 0.11738943308591843\n",
            "epoch: 3 batch: 4 current batch loss: 0.09346745908260345\n",
            "epoch: 3 batch: 5 current batch loss: 0.1019434705376625\n",
            "epoch: 3 batch: 6 current batch loss: 0.09268863499164581\n",
            "epoch: 3 batch: 7 current batch loss: 0.10037146508693695\n",
            "epoch: 3 batch: 8 current batch loss: 0.07726398855447769\n",
            "epoch: 3 batch: 9 current batch loss: 0.08987576514482498\n",
            "epoch: 3 batch: 10 current batch loss: 0.1207522302865982\n",
            "epoch: 3 batch: 11 current batch loss: 0.09882869571447372\n",
            "epoch: 3 batch: 12 current batch loss: 0.08467661589384079\n",
            "epoch: 3 batch: 13 current batch loss: 0.09893207252025604\n",
            "epoch: 3 batch: 14 current batch loss: 0.09589748829603195\n",
            "epoch: 3 batch: 15 current batch loss: 0.08781494945287704\n",
            "epoch: 3 batch: 16 current batch loss: 0.10879024863243103\n",
            "epoch: 3 batch: 17 current batch loss: 0.09015214443206787\n",
            "epoch: 3 batch: 18 current batch loss: 0.08102685958147049\n",
            "epoch: 3 batch: 19 current batch loss: 0.10180409997701645\n",
            "epoch: 3 batch: 20 current batch loss: 0.0922851413488388\n",
            "epoch: 3 batch: 21 current batch loss: 0.0782320499420166\n",
            "epoch: 3 batch: 22 current batch loss: 0.07979333400726318\n",
            "epoch: 3 batch: 23 current batch loss: 0.08925312012434006\n",
            "epoch: 3 batch: 24 current batch loss: 0.08867589384317398\n",
            "epoch: 3 batch: 25 current batch loss: 0.08394444733858109\n",
            "epoch: 3 batch: 26 current batch loss: 0.08291765302419662\n",
            "epoch: 3 batch: 27 current batch loss: 0.07824500650167465\n",
            "epoch: 3 batch: 28 current batch loss: 0.08582895249128342\n",
            "epoch: 3 batch: 29 current batch loss: 0.09485961496829987\n",
            "epoch: 4 batch: 0 current batch loss: 0.08096194267272949\n",
            "epoch: 4 batch: 1 current batch loss: 0.09686153382062912\n",
            "epoch: 4 batch: 2 current batch loss: 0.06279966980218887\n",
            "epoch: 4 batch: 3 current batch loss: 0.07534974813461304\n",
            "epoch: 4 batch: 4 current batch loss: 0.08559738099575043\n",
            "epoch: 4 batch: 5 current batch loss: 0.07040835916996002\n",
            "epoch: 4 batch: 6 current batch loss: 0.0688168928027153\n",
            "epoch: 4 batch: 7 current batch loss: 0.065888412296772\n",
            "epoch: 4 batch: 8 current batch loss: 0.07854820787906647\n",
            "epoch: 4 batch: 9 current batch loss: 0.06906437128782272\n",
            "epoch: 4 batch: 10 current batch loss: 0.07362061738967896\n",
            "epoch: 4 batch: 11 current batch loss: 0.07555462419986725\n",
            "epoch: 4 batch: 12 current batch loss: 0.07816480845212936\n",
            "epoch: 4 batch: 13 current batch loss: 0.08045285195112228\n",
            "epoch: 4 batch: 14 current batch loss: 0.07680200040340424\n",
            "epoch: 4 batch: 15 current batch loss: 0.064705990254879\n",
            "epoch: 4 batch: 16 current batch loss: 0.06499014794826508\n",
            "epoch: 4 batch: 17 current batch loss: 0.08499348908662796\n",
            "epoch: 4 batch: 18 current batch loss: 0.06126686558127403\n",
            "epoch: 4 batch: 19 current batch loss: 0.06150456517934799\n",
            "epoch: 4 batch: 20 current batch loss: 0.08288460969924927\n",
            "epoch: 4 batch: 21 current batch loss: 0.07154354453086853\n",
            "epoch: 4 batch: 22 current batch loss: 0.07305588573217392\n",
            "epoch: 4 batch: 23 current batch loss: 0.06880350410938263\n",
            "epoch: 4 batch: 24 current batch loss: 0.07126758992671967\n",
            "epoch: 4 batch: 25 current batch loss: 0.06642870604991913\n",
            "epoch: 4 batch: 26 current batch loss: 0.07132329791784286\n",
            "epoch: 4 batch: 27 current batch loss: 0.08038564026355743\n",
            "epoch: 4 batch: 28 current batch loss: 0.07536581158638\n",
            "epoch: 4 batch: 29 current batch loss: 0.08168937265872955\n",
            "epoch: 5 batch: 0 current batch loss: 0.060894232243299484\n",
            "epoch: 5 batch: 1 current batch loss: 0.05836471542716026\n",
            "epoch: 5 batch: 2 current batch loss: 0.05664729326963425\n",
            "epoch: 5 batch: 3 current batch loss: 0.056300222873687744\n",
            "epoch: 5 batch: 4 current batch loss: 0.06590896844863892\n",
            "epoch: 5 batch: 5 current batch loss: 0.0494120828807354\n",
            "epoch: 5 batch: 6 current batch loss: 0.06187310442328453\n",
            "epoch: 5 batch: 7 current batch loss: 0.05975247919559479\n",
            "epoch: 5 batch: 8 current batch loss: 0.06818674504756927\n",
            "epoch: 5 batch: 9 current batch loss: 0.05546458065509796\n",
            "epoch: 5 batch: 10 current batch loss: 0.06264326721429825\n",
            "epoch: 5 batch: 11 current batch loss: 0.06252246350049973\n",
            "epoch: 5 batch: 12 current batch loss: 0.047900665551424026\n",
            "epoch: 5 batch: 13 current batch loss: 0.05449966341257095\n",
            "epoch: 5 batch: 14 current batch loss: 0.05580812692642212\n",
            "epoch: 5 batch: 15 current batch loss: 0.0622742585837841\n",
            "epoch: 5 batch: 16 current batch loss: 0.05894308537244797\n",
            "epoch: 5 batch: 17 current batch loss: 0.06855669617652893\n",
            "epoch: 5 batch: 18 current batch loss: 0.0677277222275734\n",
            "epoch: 5 batch: 19 current batch loss: 0.055069100111722946\n",
            "epoch: 5 batch: 20 current batch loss: 0.05772863328456879\n",
            "epoch: 5 batch: 21 current batch loss: 0.05284116789698601\n",
            "epoch: 5 batch: 22 current batch loss: 0.053517017513513565\n",
            "epoch: 5 batch: 23 current batch loss: 0.05256028100848198\n",
            "epoch: 5 batch: 24 current batch loss: 0.055789899080991745\n",
            "epoch: 5 batch: 25 current batch loss: 0.06911982595920563\n",
            "epoch: 5 batch: 26 current batch loss: 0.05380403250455856\n",
            "epoch: 5 batch: 27 current batch loss: 0.05077388137578964\n",
            "epoch: 5 batch: 28 current batch loss: 0.05869854986667633\n",
            "epoch: 5 batch: 29 current batch loss: 0.0610298290848732\n",
            "epoch: 6 batch: 0 current batch loss: 0.04319381341338158\n",
            "epoch: 6 batch: 1 current batch loss: 0.048299916088581085\n",
            "epoch: 6 batch: 2 current batch loss: 0.04971367120742798\n",
            "epoch: 6 batch: 3 current batch loss: 0.041468411684036255\n",
            "epoch: 6 batch: 4 current batch loss: 0.03675199672579765\n",
            "epoch: 6 batch: 5 current batch loss: 0.042996425181627274\n",
            "epoch: 6 batch: 6 current batch loss: 0.06003594771027565\n",
            "epoch: 6 batch: 7 current batch loss: 0.05207362398505211\n",
            "epoch: 6 batch: 8 current batch loss: 0.041389863938093185\n",
            "epoch: 6 batch: 9 current batch loss: 0.042280662804841995\n",
            "epoch: 6 batch: 10 current batch loss: 0.043364427983760834\n",
            "epoch: 6 batch: 11 current batch loss: 0.04138004407286644\n",
            "epoch: 6 batch: 12 current batch loss: 0.04272377863526344\n",
            "epoch: 6 batch: 13 current batch loss: 0.04811276122927666\n",
            "epoch: 6 batch: 14 current batch loss: 0.04977278783917427\n",
            "epoch: 6 batch: 15 current batch loss: 0.04733347147703171\n",
            "epoch: 6 batch: 16 current batch loss: 0.05866120755672455\n",
            "epoch: 6 batch: 17 current batch loss: 0.055009517818689346\n",
            "epoch: 6 batch: 18 current batch loss: 0.04812237620353699\n",
            "epoch: 6 batch: 19 current batch loss: 0.05522819235920906\n",
            "epoch: 6 batch: 20 current batch loss: 0.04504869878292084\n",
            "epoch: 6 batch: 21 current batch loss: 0.04476621001958847\n",
            "epoch: 6 batch: 22 current batch loss: 0.0414598174393177\n",
            "epoch: 6 batch: 23 current batch loss: 0.05203039571642876\n",
            "epoch: 6 batch: 24 current batch loss: 0.05015223100781441\n",
            "epoch: 6 batch: 25 current batch loss: 0.05459019914269447\n",
            "epoch: 6 batch: 26 current batch loss: 0.044444236904382706\n",
            "epoch: 6 batch: 27 current batch loss: 0.04249073192477226\n",
            "epoch: 6 batch: 28 current batch loss: 0.03842174634337425\n",
            "epoch: 6 batch: 29 current batch loss: 0.054010603576898575\n",
            "epoch: 7 batch: 0 current batch loss: 0.03208285942673683\n",
            "epoch: 7 batch: 1 current batch loss: 0.03529052063822746\n",
            "epoch: 7 batch: 2 current batch loss: 0.033293772488832474\n",
            "epoch: 7 batch: 3 current batch loss: 0.038781505078077316\n",
            "epoch: 7 batch: 4 current batch loss: 0.04277988150715828\n",
            "epoch: 7 batch: 5 current batch loss: 0.0338527150452137\n",
            "epoch: 7 batch: 6 current batch loss: 0.0463462732732296\n",
            "epoch: 7 batch: 7 current batch loss: 0.04719752445816994\n",
            "epoch: 7 batch: 8 current batch loss: 0.04271046817302704\n",
            "epoch: 7 batch: 9 current batch loss: 0.03736387565732002\n",
            "epoch: 7 batch: 10 current batch loss: 0.0458780862390995\n",
            "epoch: 7 batch: 11 current batch loss: 0.03641388192772865\n",
            "epoch: 7 batch: 12 current batch loss: 0.034386977553367615\n",
            "epoch: 7 batch: 13 current batch loss: 0.0479913167655468\n",
            "epoch: 7 batch: 14 current batch loss: 0.03425676375627518\n",
            "epoch: 7 batch: 15 current batch loss: 0.0371948704123497\n",
            "epoch: 7 batch: 16 current batch loss: 0.032814398407936096\n",
            "epoch: 7 batch: 17 current batch loss: 0.033975742757320404\n",
            "epoch: 7 batch: 18 current batch loss: 0.026910284534096718\n",
            "epoch: 7 batch: 19 current batch loss: 0.03673192486166954\n",
            "epoch: 7 batch: 20 current batch loss: 0.0361732542514801\n",
            "epoch: 7 batch: 21 current batch loss: 0.035454802215099335\n",
            "epoch: 7 batch: 22 current batch loss: 0.042515527456998825\n",
            "epoch: 7 batch: 23 current batch loss: 0.035200491547584534\n",
            "epoch: 7 batch: 24 current batch loss: 0.041440267115831375\n",
            "epoch: 7 batch: 25 current batch loss: 0.044900041073560715\n",
            "epoch: 7 batch: 26 current batch loss: 0.04851306602358818\n",
            "epoch: 7 batch: 27 current batch loss: 0.04304054006934166\n",
            "epoch: 7 batch: 28 current batch loss: 0.05243499577045441\n",
            "epoch: 7 batch: 29 current batch loss: 0.04144484922289848\n"
          ]
        }
      ]
    },
    {
      "cell_type": "markdown",
      "source": [
        "# Testing\n",
        "----------------------\n",
        "\n",
        "Correct the code below so it works."
      ],
      "metadata": {
        "id": "sTe6ViIsHUbV"
      },
      "id": "sTe6ViIsHUbV"
    },
    {
      "cell_type": "code",
      "source": [
        "good = 0\n",
        "wrong = 0\n",
        "\n",
        "net.eval()              #it notifies the network layers (especially batchnorm or dropout layers, which we don't use in this example) that we are doing evaluation\n",
        "with torch.no_grad():   #it prevents that the net learns during evalution. The gradients are not computed, so this makes it faster, too\n",
        "    for batch, data in enumerate(testloader): #batches in test are of size 1\n",
        "        datapoint, label = data\n",
        "\n",
        "        prediction = net(datapoint.to(device))                  #prediction has values representing the \"prevalence\" of the corresponding class\n",
        "        classification = torch.argmax(prediction)    #the class is the index of maximal \"prevalence\"\n",
        "\n",
        "        if classification.item() == label.item():\n",
        "            good += 1\n",
        "        else:\n",
        "            wrong += 1\n",
        "\n",
        "print(\"accuracy = \", good/(good+wrong))"
      ],
      "metadata": {
        "id": "jcPek-rrHYMi",
        "outputId": "3fa40ed7-6ada-47d8-ce2b-ebeef20cb5df",
        "colab": {
          "base_uri": "https://localhost:8080/"
        }
      },
      "id": "jcPek-rrHYMi",
      "execution_count": 5,
      "outputs": [
        {
          "output_type": "stream",
          "name": "stdout",
          "text": [
            "accuracy =  0.9812\n"
          ]
        }
      ]
    },
    {
      "cell_type": "markdown",
      "source": [
        "# **Homework Assignment - *Do Androids Dream of Electric Sheep?***\n",
        "\n",
        "-------------------------------------  \n",
        "\n",
        "\"Do Androids Dream of Electric Sheep?\" – the famous title of Philip K. Dick’s novel – raises a fascinating question: if artificial intelligence could dream, what would it see?  \n",
        "\n",
        "In this assignment, we explore a phenomenon known as **neural network dreams**, where instead of optimizing a neural network's weights, we **optimize the input itself** to achieve a desired classification outcome. Given a fully trained MNIST classification network, your goal is to manipulate its inputs so that it confidently predicts each digit from 0 to 9, starting from pure noise.  \n",
        "\n",
        "## **Tasks Description**  \n",
        "\n",
        "During this class we designed and trained a **MNIST classification neural network**, which takes a **batch of grayscale images** of size **$28 \\times 28$** as input and outputs a probability distribution over the 10 digit classes (0–9). However, instead of using real MNIST images, you will **treat the input batch itself as a set of trainable parameters** and optimize it so that the network classifies each image as a specific digit.  \n",
        "\n",
        "1. Your first task is to generate **a batch of 10 images**, where each image is\n",
        "   classified as one of the digits **0, 1, 2, ..., 9**, starting from an initial batch of ten random Gaussian noise images.  \n",
        "\n",
        "   Discuss the following question: do the generated images resemble real MNIST digits? Why or why not?  \n",
        "\n",
        "2. Discuss, how you would approach a second task of\n",
        "   generating an image that   \n",
        "   bares similarity to two or more digits simultaneously. **Implement your idea to see the results.**\n",
        "\n",
        "3. Third task: repeat the previous tasks with an additional L2 penalty on noise within the images. Experiment with adding `lambda_l2 * dreamed_input_batch.pow(2).mean()` loss term, with `lambda_l2` being the penalty cooefficient within an exponential progression, say from 0.001 to 10.0. Are the new digits recognized correctly? How does the penalty impact the digit quality? Explain.\n",
        "\n",
        "### **Optimization Process for Task 1**  \n",
        "\n",
        "1. Start with a **batch of 10 random Gaussian noise images** as the initial input and $(0, 1, 2, \\ldots, 9)$ as the expected output batch of target digits.  \n",
        "2. Define the objective: maximize the neural network's confidence for the corresponding target digit for each image in the batch.  \n",
        "3. Use **gradient descent** to modify the pixels in each image, making the network classify each one as the assigned digit.  \n",
        "4. Repeat until the network assigns suffieciently high confidence to each image’s target class.  \n",
        "\n",
        "### **Implementation Details**  \n",
        "\n",
        "- The neural network weights **must remain frozen** during optimization. You are modifying only the input images.  \n",
        "- The loss function should be the **cross-entropy loss** between the predicted probabilities and the desired class labels (plus an optional weighted L2 penalty regularizing the images in task 3).\n",
        "\n",
        "\n",
        "## **Points to Note**  \n",
        "\n",
        "1. **Visualize** the optimization process: Save images of the generated inputs at different steps and plot the classification confidence evolution over iterations.  \n",
        "3. **Document your findings** and explain the behavior you observe.  \n",
        "\n",
        "## **Task & Deliverables**  \n",
        "\n",
        "- A **Colab notebook** containing solutions for both tasks:\n",
        "  - The full implementation.\n",
        "  - Visualizations of the generated batch of images.\n",
        "  - A written explanation of your observations.\n",
        "- **Bonus:** If you create an **animation** showing the evolution of the input images during optimization, it will be considered a strong enhancement to your submission.\n",
        "  - You can generate an animation programmatically (e.g., using Matplotlib or OpenCV).\n",
        "  - Or, save image frames and use external tools to create a video.\n",
        "  - Provide a **link** to any video files in the README.\n",
        "- Upload your notebook and results to your **GitHub repository** for the course.\n",
        "- In the **README**, include a **link** to the notebook.\n",
        "- In the notebook, include **“Open in Colab”** badge so it can be launched directly.\n",
        "\n",
        "\n"
      ],
      "metadata": {
        "id": "ZJ5c7P6ChB3e"
      },
      "id": "ZJ5c7P6ChB3e"
    },
    {
      "cell_type": "code",
      "source": [
        "import torch.nn.functional as F\n",
        "import matplotlib.pyplot as plt\n",
        "\n",
        "# Use the same device as your model\n",
        "device = torch.device(\"cuda\" if torch.cuda.is_available() else \"cpu\")\n",
        "print(f\"Generating images on {device}\")\n",
        "\n",
        "# Define target labels 0–9 and move to the same device\n",
        "targets = torch.arange(10, device=device)\n",
        "\n",
        "# Create 10 images initialized with Gaussian noise and move to device\n",
        "images = torch.randn((10, 1, 28, 28), device=device, requires_grad=True)\n",
        "\n",
        "# Use optimizer to update the images (not model parameters)\n",
        "optimizer = torch.optim.Adam([images], lr=0.1)\n",
        "\n",
        "# Make sure model is in evaluation mode\n",
        "net.eval()\n",
        "\n",
        "# Optimization loop\n",
        "for step in range(2000):\n",
        "    optimizer.zero_grad()\n",
        "    outputs = net(images)\n",
        "    loss = -F.cross_entropy(outputs, targets)  # maximize correct class\n",
        "    loss.backward()\n",
        "    optimizer.step()\n",
        "\n",
        "# Clamp and move final images to CPU for visualization\n",
        "final_images = images.detach().clamp(0, 1).cpu()\n"
      ],
      "metadata": {
        "id": "DAayS6xUtKuL",
        "outputId": "2d0ec319-1de9-495e-9dd0-e097d26d8a20",
        "colab": {
          "base_uri": "https://localhost:8080/"
        }
      },
      "id": "DAayS6xUtKuL",
      "execution_count": 16,
      "outputs": [
        {
          "output_type": "stream",
          "name": "stdout",
          "text": [
            "Generating images on cuda\n"
          ]
        }
      ]
    },
    {
      "cell_type": "code",
      "source": [
        "# Plot results\n",
        "fig, axes = plt.subplots(1, 10, figsize=(15, 2))\n",
        "for i, ax in enumerate(axes):\n",
        "    ax.imshow(final_images[i][0], cmap='gray')\n",
        "    ax.axis('off')\n",
        "    ax.set_title(str(i))\n",
        "plt.tight_layout()\n",
        "plt.show()\n"
      ],
      "metadata": {
        "id": "S3OmoYa5tLVe",
        "outputId": "6c1e58f7-31dc-413c-ae63-46839f2ef66d",
        "colab": {
          "base_uri": "https://localhost:8080/",
          "height": 192
        }
      },
      "id": "S3OmoYa5tLVe",
      "execution_count": 17,
      "outputs": [
        {
          "output_type": "display_data",
          "data": {
            "text/plain": [
              "<Figure size 1500x200 with 10 Axes>"
            ],
            "image/png": "[encoded data removed]"
          },
          "metadata": {}
        }
      ]
    },
    {
      "cell_type": "code",
      "source": [],
      "metadata": {
        "id": "iFXD21oktx_y"
      },
      "id": "iFXD21oktx_y",
      "execution_count": null,
      "outputs": []
    }
  ],
  "metadata": {
    "colab": {
      "provenance": [],
      "gpuType": "T4",
      "include_colab_link": true
    },
    "language_info": {
      "name": "python"
    },
    "kernelspec": {
      "name": "python3",
      "display_name": "Python 3"
    },
    "accelerator": "GPU"
  },
  "nbformat": 4,
  "nbformat_minor": 5
}